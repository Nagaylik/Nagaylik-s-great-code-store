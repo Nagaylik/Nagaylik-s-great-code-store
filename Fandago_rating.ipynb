{
 "cells": [
  {
   "cell_type": "markdown",
   "metadata": {},
   "source": [
    "''Investigating Fandago Movie Ratings''\n",
    "\n",
    "Walt Hickey supposed, that movie rating at fandago.com was rounded to the high side, not according the mathematics rule. https://fivethirtyeight.com/features/fandango-movies-ratings/\n",
    "\n",
    "We try to  check ACTUAL and PRESENTED movie ratings - Are they really different?\n",
    "\n",
    "Walt Hickey's data from 2015 is available on https://github.com/fivethirtyeight/data/tree/master/fandango\n",
    "and\n",
    "DataQuest's data from 2016-2017 is available on\n",
    "https://github.com/mircealex/Movie_ratings_2016_17\n"
   ]
  },
  {
   "cell_type": "code",
   "execution_count": 1,
   "metadata": {},
   "outputs": [],
   "source": [
    "import pandas as pd\n",
    "from matplotlib import pyplot as plt\n",
    "%matplotlib inline\n",
    "import numpy as np\n",
    "import seaborn as sns"
   ]
  },
  {
   "cell_type": "code",
   "execution_count": 2,
   "metadata": {},
   "outputs": [],
   "source": [
    "after    = pd.read_csv('https://raw.githubusercontent.com/mircealex/Movie_ratings_2016_17/master/movie_ratings_16_17.csv')\n",
    "before = pd.read_csv('https://raw.githubusercontent.com/fivethirtyeight/data/master/fandango/fandango_score_comparison.csv')"
   ]
  },
  {
   "cell_type": "markdown",
   "metadata": {},
   "source": [
    "Let's select columns which are needed for the analysis."
   ]
  },
  {
   "cell_type": "code",
   "execution_count": 3,
   "metadata": {},
   "outputs": [
    {
     "data": {
      "text/html": [
       "<div>\n",
       "<style scoped>\n",
       "    .dataframe tbody tr th:only-of-type {\n",
       "        vertical-align: middle;\n",
       "    }\n",
       "\n",
       "    .dataframe tbody tr th {\n",
       "        vertical-align: top;\n",
       "    }\n",
       "\n",
       "    .dataframe thead th {\n",
       "        text-align: right;\n",
       "    }\n",
       "</style>\n",
       "<table border=\"1\" class=\"dataframe\">\n",
       "  <thead>\n",
       "    <tr style=\"text-align: right;\">\n",
       "      <th></th>\n",
       "      <th>movie</th>\n",
       "      <th>year</th>\n",
       "      <th>fandango</th>\n",
       "    </tr>\n",
       "  </thead>\n",
       "  <tbody>\n",
       "    <tr>\n",
       "      <th>0</th>\n",
       "      <td>10 Cloverfield Lane</td>\n",
       "      <td>2016</td>\n",
       "      <td>3.5</td>\n",
       "    </tr>\n",
       "    <tr>\n",
       "      <th>1</th>\n",
       "      <td>13 Hours</td>\n",
       "      <td>2016</td>\n",
       "      <td>4.5</td>\n",
       "    </tr>\n",
       "  </tbody>\n",
       "</table>\n",
       "</div>"
      ],
      "text/plain": [
       "                 movie  year  fandango\n",
       "0  10 Cloverfield Lane  2016       3.5\n",
       "1             13 Hours  2016       4.5"
      ]
     },
     "execution_count": 3,
     "metadata": {},
     "output_type": "execute_result"
    }
   ],
   "source": [
    "after = after[['movie', \n",
    "                    'year', \n",
    "                    'fandango'\n",
    "                  ]].copy()\n",
    "after.head(2)"
   ]
  },
  {
   "cell_type": "code",
   "execution_count": 4,
   "metadata": {},
   "outputs": [
    {
     "data": {
      "text/html": [
       "<div>\n",
       "<style scoped>\n",
       "    .dataframe tbody tr th:only-of-type {\n",
       "        vertical-align: middle;\n",
       "    }\n",
       "\n",
       "    .dataframe tbody tr th {\n",
       "        vertical-align: top;\n",
       "    }\n",
       "\n",
       "    .dataframe thead th {\n",
       "        text-align: right;\n",
       "    }\n",
       "</style>\n",
       "<table border=\"1\" class=\"dataframe\">\n",
       "  <thead>\n",
       "    <tr style=\"text-align: right;\">\n",
       "      <th></th>\n",
       "      <th>FILM</th>\n",
       "      <th>Fandango_Stars</th>\n",
       "      <th>Fandango_Ratingvalue</th>\n",
       "      <th>Fandango_votes</th>\n",
       "      <th>Fandango_Difference</th>\n",
       "    </tr>\n",
       "  </thead>\n",
       "  <tbody>\n",
       "    <tr>\n",
       "      <th>0</th>\n",
       "      <td>Avengers: Age of Ultron (2015)</td>\n",
       "      <td>5.0</td>\n",
       "      <td>4.5</td>\n",
       "      <td>14846</td>\n",
       "      <td>0.5</td>\n",
       "    </tr>\n",
       "    <tr>\n",
       "      <th>1</th>\n",
       "      <td>Cinderella (2015)</td>\n",
       "      <td>5.0</td>\n",
       "      <td>4.5</td>\n",
       "      <td>12640</td>\n",
       "      <td>0.5</td>\n",
       "    </tr>\n",
       "    <tr>\n",
       "      <th>2</th>\n",
       "      <td>Ant-Man (2015)</td>\n",
       "      <td>5.0</td>\n",
       "      <td>4.5</td>\n",
       "      <td>12055</td>\n",
       "      <td>0.5</td>\n",
       "    </tr>\n",
       "    <tr>\n",
       "      <th>3</th>\n",
       "      <td>Do You Believe? (2015)</td>\n",
       "      <td>5.0</td>\n",
       "      <td>4.5</td>\n",
       "      <td>1793</td>\n",
       "      <td>0.5</td>\n",
       "    </tr>\n",
       "    <tr>\n",
       "      <th>4</th>\n",
       "      <td>Hot Tub Time Machine 2 (2015)</td>\n",
       "      <td>3.5</td>\n",
       "      <td>3.0</td>\n",
       "      <td>1021</td>\n",
       "      <td>0.5</td>\n",
       "    </tr>\n",
       "  </tbody>\n",
       "</table>\n",
       "</div>"
      ],
      "text/plain": [
       "                             FILM  Fandango_Stars  Fandango_Ratingvalue  \\\n",
       "0  Avengers: Age of Ultron (2015)             5.0                   4.5   \n",
       "1               Cinderella (2015)             5.0                   4.5   \n",
       "2                  Ant-Man (2015)             5.0                   4.5   \n",
       "3          Do You Believe? (2015)             5.0                   4.5   \n",
       "4   Hot Tub Time Machine 2 (2015)             3.5                   3.0   \n",
       "\n",
       "   Fandango_votes  Fandango_Difference  \n",
       "0           14846                  0.5  \n",
       "1           12640                  0.5  \n",
       "2           12055                  0.5  \n",
       "3            1793                  0.5  \n",
       "4            1021                  0.5  "
      ]
     },
     "execution_count": 4,
     "metadata": {},
     "output_type": "execute_result"
    }
   ],
   "source": [
    "before = before[['FILM',\n",
    "                         'Fandango_Stars',\n",
    "                         'Fandango_Ratingvalue',\n",
    "                         'Fandango_votes',\n",
    "                         'Fandango_Difference'\n",
    "                        ]].copy()\n",
    "before.head()"
   ]
  },
  {
   "cell_type": "markdown",
   "metadata": {},
   "source": [
    "Looks like we have to analize dynamic of the difference between Fandango's ratings for movies in 2015/2016/2017 years. Lets start with selecting POPULAR movies. Walt Hickey term 'popular' means a movie has at least 30 fan ratings.\n",
    "Lets checl Hickey's data: are all the films have vore than 29 fan raing?"
   ]
  },
  {
   "cell_type": "code",
   "execution_count": 5,
   "metadata": {},
   "outputs": [
    {
     "data": {
      "text/plain": [
       "0"
      ]
     },
     "execution_count": 5,
     "metadata": {},
     "output_type": "execute_result"
    }
   ],
   "source": [
    "len(before[before['Fandango_votes']<30])"
   ]
  },
  {
   "cell_type": "markdown",
   "metadata": {},
   "source": [
    "So, we try to check a 10 item sample on the fandango.com for the 'after' data:"
   ]
  },
  {
   "cell_type": "code",
   "execution_count": 6,
   "metadata": {},
   "outputs": [
    {
     "data": {
      "text/plain": [
       "108                     Mechanic: Resurrection\n",
       "206                                   Warcraft\n",
       "106                                  Max Steel\n",
       "107                              Me Before You\n",
       "51     Fantastic Beasts and Where to Find Them\n",
       "33                                        Cell\n",
       "59                                      Genius\n",
       "152                                      Sully\n",
       "4                      A Hologram for the King\n",
       "31                  Captain America: Civil War\n",
       "Name: movie, dtype: object"
      ]
     },
     "execution_count": 6,
     "metadata": {},
     "output_type": "execute_result"
    }
   ],
   "source": [
    "after['movie'].sample(10,random_state = 1)"
   ]
  },
  {
   "cell_type": "markdown",
   "metadata": {},
   "source": [
    "Now lets isolate years to be sure years are correct. Easy to select for the 'after'-data:"
   ]
  },
  {
   "cell_type": "code",
   "execution_count": 7,
   "metadata": {},
   "outputs": [],
   "source": [
    "df_2016 = after[after.year == 2016]\n",
    "df_2017 = after[after.year == 2017]"
   ]
  },
  {
   "cell_type": "code",
   "execution_count": 8,
   "metadata": {},
   "outputs": [
    {
     "data": {
      "text/html": [
       "<div>\n",
       "<style scoped>\n",
       "    .dataframe tbody tr th:only-of-type {\n",
       "        vertical-align: middle;\n",
       "    }\n",
       "\n",
       "    .dataframe tbody tr th {\n",
       "        vertical-align: top;\n",
       "    }\n",
       "\n",
       "    .dataframe thead th {\n",
       "        text-align: right;\n",
       "    }\n",
       "</style>\n",
       "<table border=\"1\" class=\"dataframe\">\n",
       "  <thead>\n",
       "    <tr style=\"text-align: right;\">\n",
       "      <th></th>\n",
       "      <th>FILM</th>\n",
       "      <th>Fandango_Stars</th>\n",
       "      <th>Fandango_Ratingvalue</th>\n",
       "      <th>Fandango_votes</th>\n",
       "      <th>Fandango_Difference</th>\n",
       "      <th>year</th>\n",
       "    </tr>\n",
       "  </thead>\n",
       "  <tbody>\n",
       "    <tr>\n",
       "      <th>0</th>\n",
       "      <td>Avengers: Age of Ultron (2015)</td>\n",
       "      <td>5.0</td>\n",
       "      <td>4.5</td>\n",
       "      <td>14846</td>\n",
       "      <td>0.5</td>\n",
       "      <td>2015</td>\n",
       "    </tr>\n",
       "    <tr>\n",
       "      <th>1</th>\n",
       "      <td>Cinderella (2015)</td>\n",
       "      <td>5.0</td>\n",
       "      <td>4.5</td>\n",
       "      <td>12640</td>\n",
       "      <td>0.5</td>\n",
       "      <td>2015</td>\n",
       "    </tr>\n",
       "  </tbody>\n",
       "</table>\n",
       "</div>"
      ],
      "text/plain": [
       "                             FILM  Fandango_Stars  Fandango_Ratingvalue  \\\n",
       "0  Avengers: Age of Ultron (2015)             5.0                   4.5   \n",
       "1               Cinderella (2015)             5.0                   4.5   \n",
       "\n",
       "   Fandango_votes  Fandango_Difference  year  \n",
       "0           14846                  0.5  2015  \n",
       "1           12640                  0.5  2015  "
      ]
     },
     "execution_count": 8,
     "metadata": {},
     "output_type": "execute_result"
    }
   ],
   "source": [
    "before['year'] = before['FILM'].str.extract('(2015)', expand = False)\n",
    "#before[before['year'].isnull()].head(20)\n",
    "before.dropna(inplace = True)\n",
    "df_2015 = before\n",
    "df_2015.head(2)"
   ]
  },
  {
   "cell_type": "markdown",
   "metadata": {},
   "source": [
    "Lets start analyzing of rating"
   ]
  },
  {
   "cell_type": "code",
   "execution_count": 9,
   "metadata": {},
   "outputs": [
    {
     "data": {
      "text/plain": [
       "([<matplotlib.axis.XTick at 0x26da58989b0>,\n",
       "  <matplotlib.axis.XTick at 0x26da5898240>,\n",
       "  <matplotlib.axis.XTick at 0x26da58c4d68>,\n",
       "  <matplotlib.axis.XTick at 0x26da58e3780>,\n",
       "  <matplotlib.axis.XTick at 0x26da58e3f60>,\n",
       "  <matplotlib.axis.XTick at 0x26da58f24a8>,\n",
       "  <matplotlib.axis.XTick at 0x26da58e3748>,\n",
       "  <matplotlib.axis.XTick at 0x26da58980f0>,\n",
       "  <matplotlib.axis.XTick at 0x26da5902438>,\n",
       "  <matplotlib.axis.XTick at 0x26da591f860>,\n",
       "  <matplotlib.axis.XTick at 0x26da591fd30>],\n",
       " <a list of 11 Text xticklabel objects>)"
      ]
     },
     "execution_count": 9,
     "metadata": {},
     "output_type": "execute_result"
    },
    {
     "data": {
      "image/png": "[encoded data removed]",
      "text/plain": [
       "<Figure size 432x288 with 1 Axes>"
      ]
     },
     "metadata": {},
     "output_type": "display_data"
    }
   ],
   "source": [
    "plt.style.use('fivethirtyeight')\n",
    "df_2015['Fandango_Stars'].plot.kde(label = '2015', legend = True)\n",
    "df_2016['fandango'].plot.kde(label = '2016', legend = True)\n",
    "df_2017['fandango'].plot.kde(label = '2017', legend = True)\n",
    "plt.title('Distribution of movie ratings in 2015..16..17 ', size = 18)\n",
    "plt.xlabel('Rating')\n",
    "plt.xlim(0,5)\n",
    "plt.xticks([0, 0.5, 1.0, 1.5, 2.0, 2.5, 3.0, 3.5, 4.0, 4.5, 5.0])"
   ]
  },
  {
   "cell_type": "markdown",
   "metadata": {},
   "source": [
    "So, obviosly rating distribution is changing through the years. In 2015 it is shifted to the right (figures rounded to the up). In 2016 the distribution looks normal. Rating in 2017 similar to 2015, but there are no peaks every 0.5 point. Lets compare  absolute figures. "
   ]
  },
  {
   "cell_type": "code",
   "execution_count": 10,
   "metadata": {},
   "outputs": [
    {
     "data": {
      "text/plain": [
       "([<matplotlib.axis.XTick at 0x26da6946470>,\n",
       "  <matplotlib.axis.XTick at 0x26da693fcc0>,\n",
       "  <matplotlib.axis.XTick at 0x26da6969c88>,\n",
       "  <matplotlib.axis.XTick at 0x26da69761d0>,\n",
       "  <matplotlib.axis.XTick at 0x26da69767b8>,\n",
       "  <matplotlib.axis.XTick at 0x26da6976c88>,\n",
       "  <matplotlib.axis.XTick at 0x26da69766d8>,\n",
       "  <matplotlib.axis.XTick at 0x26da697d208>,\n",
       "  <matplotlib.axis.XTick at 0x26da693fb70>,\n",
       "  <matplotlib.axis.XTick at 0x26da698c1d0>,\n",
       "  <matplotlib.axis.XTick at 0x26da69a0320>],\n",
       " <a list of 11 Text xticklabel objects>)"
      ]
     },
     "execution_count": 10,
     "metadata": {},
     "output_type": "execute_result"
    },
    {
     "data": {
      "image/png": "[encoded data removed]",
      "text/plain": [
       "<Figure size 432x288 with 1 Axes>"
      ]
     },
     "metadata": {},
     "output_type": "display_data"
    }
   ],
   "source": [
    "df_2015['Fandango_Stars'].plot.hist(histtype = 'step', label = '2015', legend = True, range = (0,5), bins = 10, linewidth = 3)\n",
    "df_2016['fandango'].plot.hist(histtype = 'step', label = '2016', legend = True, range = (0,5), bins = 10, linewidth = 3)\n",
    "df_2017['fandango'].plot.hist(histtype = 'step', label = '2017', legend = True, range = (0,5), bins = 10, linewidth = 3)\n",
    "plt.legend(loc='upper left', bbox_to_anchor=(0.5, 1.05), ncol=1,\n",
    "            fancybox=True, shadow=True)\n",
    "plt.xticks([0, 0.5, 1.0, 1.5, 2.0, 2.5, 3.0, 3.5, 4.0, 4.5, 5.0])"
   ]
  },
  {
   "cell_type": "markdown",
   "metadata": {},
   "source": [
    "So, we confirmed clear difference between distributions. Lets compute some metrics of the data: median, mean, mode"
   ]
  },
  {
   "cell_type": "code",
   "execution_count": 11,
   "metadata": {},
   "outputs": [
    {
     "data": {
      "image/png": "[encoded data removed]",
      "text/plain": [
       "<Figure size 432x288 with 1 Axes>"
      ]
     },
     "metadata": {},
     "output_type": "display_data"
    }
   ],
   "source": [
    "df_2015_mean = df_2015['Fandango_Stars'].mean()\n",
    "df_2015_median = df_2015['Fandango_Stars'].median()\n",
    "df_2015_mode = float(df_2015['Fandango_Stars'].mode())\n",
    "\n",
    "\n",
    "df_2016_mean = df_2016['fandango'].mean()\n",
    "df_2016_median = df_2016['fandango'].median()\n",
    "df_2016_mode = float(df_2016['fandango'].mode())\n",
    "\n",
    "df_2017_mean = df_2017['fandango'].mean()\n",
    "df_2017_median = df_2017['fandango'].median()\n",
    "df_2017_mode = float(df_2017['fandango'].mode())\n",
    "\n",
    "\n",
    "Fandango_Stats = pd.DataFrame( \n",
    "                                {\n",
    "                                 \"2015\": [df_2015_mean, df_2015_median, df_2015_mode], \n",
    "                                 \"2016\": [df_2016_mean, df_2016_median, df_2016_mode],\n",
    "                                 \"2017\": [df_2017_mean, df_2017_median, df_2017_mode]\n",
    "                                }, \n",
    "                               index = ['mean', 'median', 'mode']\n",
    ")\n",
    "\n",
    "Fandango_Stats.head()\n",
    "\n",
    "\n",
    "ind = np.arange(3) \n",
    "width = 0.2       \n",
    "plt.bar(ind, Fandango_Stats['2015'], color = '#008000', width = 0.2, label= '2015')\n",
    "plt.bar(ind + width, Fandango_Stats['2016'], color = '#DC143C', width = 0.2, label='2016')\n",
    "plt.bar(ind + width*2, Fandango_Stats['2017'], color = '#4682B4', width = 0.2, label='2017')\n",
    "\n",
    "\n",
    "plt.ylabel('Metric')\n",
    "plt.title('Diferent metrics in 2015-2017')\n",
    "\n",
    "plt.xticks(ind + width / 2, ('Mean', 'Median', 'Mode'))\n",
    "plt.legend(loc='best')\n",
    "plt.show()\n",
    "\n",
    "\n"
   ]
  }
 ],
 "metadata": {
  "kernelspec": {
   "display_name": "Python 3",
   "language": "python",
   "name": "python3"
  },
  "language_info": {
   "codemirror_mode": {
    "name": "ipython",
    "version": 3
   },
   "file_extension": ".py",
   "mimetype": "text/x-python",
   "name": "python",
   "nbconvert_exporter": "python",
   "pygments_lexer": "ipython3",
   "version": "3.7.3"
  }
 },
 "nbformat": 4,
 "nbformat_minor": 2
}
