{
 "cells": [
  {
   "cell_type": "markdown",
   "metadata": {
    "collapsed": true
   },
   "source": [
    "We'll work with a dataset of used cars from eBay Kleinanzeigen, a classifieds section of the German eBay website. The dataset was originally scraped and uploaded to Kaggle (https://www.kaggle.com/orgesleka/used-cars-database/data). The aim of this project is to clean the data and analyze the included used car listings."
   ]
  },
  {
   "cell_type": "code",
   "execution_count": 3,
   "metadata": {},
   "outputs": [],
   "source": [
    "#Importing libraries\n",
    "import pandas as pd\n",
    "import numpy as np\n"
   ]
  },
  {
   "cell_type": "code",
   "execution_count": null,
   "metadata": {},
   "outputs": [],
   "source": [
    "#Parse the data\n",
    "autos = pd.read_csv ('autos.csv', encoding = 'Latin-1')\n",
    "autos.info()\n",
    "autos.head(3)"
   ]
  },
  {
   "cell_type": "code",
   "execution_count": null,
   "metadata": {
    "scrolled": true
   },
   "outputs": [],
   "source": [
    "#Check the data\n",
    "autos.info()\n",
    "autos.head(3)"
   ]
  },
  {
   "cell_type": "markdown",
   "metadata": {},
   "source": [
    "As we can see raw data is not clear: some columns have different numbers of non-null objects (< 50 0000). Names of the columns are \"CamelCase\". Lets make it \"snake_case\""
   ]
  },
  {
   "cell_type": "code",
   "execution_count": null,
   "metadata": {},
   "outputs": [],
   "source": [
    "#Change column names:\n",
    "names = ['date_crawled', 'name', 'seller', 'offer_type', 'price', 'abtest',\n",
    "       'vehicle_type', 'registration_year', 'gearbox', 'power_ps', 'model',\n",
    "       'odometer_km', 'registration_month', 'fuel_type', 'brand',\n",
    "       'unrepaired_damage', 'ad_created', 'picture', 'postal_code',\n",
    "       'last_seen']\n",
    "autos.set_axis(names, axis = 'columns', inplace = True)\n",
    "autos.columns"
   ]
  },
  {
   "cell_type": "markdown",
   "metadata": {},
   "source": [
    "Now let's do some basic data exploration to determine what other cleaning tasks need to be done. "
   ]
  },
  {
   "cell_type": "code",
   "execution_count": null,
   "metadata": {},
   "outputs": [],
   "source": [
    "#Check the data\n",
    "autos.describe(include = 'object')"
   ]
  },
  {
   "cell_type": "markdown",
   "metadata": {},
   "source": [
    "Lets modifided text (price and odometer_km) to integer"
   ]
  },
  {
   "cell_type": "code",
   "execution_count": null,
   "metadata": {},
   "outputs": [],
   "source": [
    "#Convert tex to integer\n",
    "autos['price'] = (autos['price'].str.replace('$','')\n",
    "                                .str.replace(',','')\n",
    "                                .astype(int)\n",
    "                 )\n",
    "\n",
    "autos['odometer_km'] = (autos['odometer_km'].str.replace(',','')\n",
    "                                .str.replace('km','')\n",
    "                                .astype(int)\n",
    "                 )\n",
    "autos['registration_year'] = autos['registration_year'].astype(int)\n",
    "autos['registration_month'] = autos['registration_month'].astype(int)\n",
    "\n",
    "autos.head(3)"
   ]
  },
  {
   "cell_type": "markdown",
   "metadata": {},
   "source": [
    "We'll start by analyzing the odometer_km and price columns. \n",
    "Analyze the columns using minimum and maximum values and look for any values that look unrealistically high or low (outliers) that we want to remove.\n"
   ]
  },
  {
   "cell_type": "code",
   "execution_count": null,
   "metadata": {},
   "outputs": [],
   "source": [
    "#Check odometer and price\n",
    "autos['odometer_km'].unique().shape\n",
    "autos['odometer_km'].describe()\n",
    "autos['odometer_km'].value_counts().sort_index(ascending = True)\n",
    "\n",
    "autos['price'].unique().shape\n",
    "autos['price'].describe()\n",
    "autos['price'].value_counts().sort_index(ascending = False).head(100)\n",
    "\n",
    "autos = autos[autos[\"price\"].between(1,350000)]\n",
    "\n",
    "autos['price'].value_counts().sort_index(ascending = True).head(100)\n",
    "\n",
    "autos.describe()"
   ]
  },
  {
   "cell_type": "markdown",
   "metadata": {},
   "source": [
    "Let's now move on to the date columns and understand the date range the data covers. There are 5 columns that should represent date values"
   ]
  },
  {
   "cell_type": "code",
   "execution_count": 7,
   "metadata": {},
   "outputs": [
    {
     "data": {
      "text/plain": [
       "count    48565.000000\n",
       "mean      2004.755421\n",
       "std         88.643887\n",
       "min       1000.000000\n",
       "25%       1999.000000\n",
       "50%       2004.000000\n",
       "75%       2008.000000\n",
       "max       9999.000000\n",
       "Name: registration_year, dtype: float64"
      ]
     },
     "execution_count": 7,
     "metadata": {},
     "output_type": "execute_result"
    }
   ],
   "source": [
    "autos.describe(include = 'object')\n",
    "autos['date_crawled'].str[:10].value_counts(normalize=True, dropna=False)\n",
    "autos['ad_created'].str[:10].value_counts(normalize=True, dropna=False)\n",
    "autos['last_seen'].str[:10].value_counts(normalize=True, dropna=False)\n",
    "\n",
    "autos['registration_year'].describe()"
   ]
  },
  {
   "cell_type": "markdown",
   "metadata": {},
   "source": [
    "Because a car can't be first registered after the listing was seen, any vehicle with a registration year above 2016 is definitely inaccurate. Lets remove them."
   ]
  },
  {
   "cell_type": "code",
   "execution_count": null,
   "metadata": {},
   "outputs": [],
   "source": [
    "autos = autos[autos[\"registration_year\"].between(1920,2018)]\n",
    "autos['registration_year'].value_counts().sort_index(ascending = True).head(100)"
   ]
  },
  {
   "cell_type": "markdown",
   "metadata": {},
   "source": [
    "When working with data on cars, it's natural to explore variations across different car brands. We can use aggregation to understand the brand column."
   ]
  },
  {
   "cell_type": "code",
   "execution_count": null,
   "metadata": {},
   "outputs": [],
   "source": [
    "autos['brand'].value_counts()"
   ]
  },
  {
   "cell_type": "markdown",
   "metadata": {},
   "source": [
    "For the top 10 brands, let's use aggregation to understand the average mileage for those cars and if there's any visible link with mean price."
   ]
  },
  {
   "cell_type": "code",
   "execution_count": null,
   "metadata": {},
   "outputs": [],
   "source": [
    "top10 = autos['brand'].value_counts().sort_values(ascending = False).head(10)\n",
    "print(top10)\n",
    "brands = autos['brand'].unique()\n",
    "autos_mile ={}\n",
    "\n",
    "for b in top10.index:\n",
    "    rows = autos[autos['brand'] == b]\n",
    "    mean_miles = rows['odometer_km'].mean()\n",
    "    autos_mile[b] = mean_miles\n",
    "\n",
    "print('.....')\n",
    "print(autos_mile)"
   ]
  }
 ],
 "metadata": {
  "kernelspec": {
   "display_name": "Python 3",
   "language": "python",
   "name": "python3"
  },
  "language_info": {
   "codemirror_mode": {
    "name": "ipython",
    "version": 3
   },
   "file_extension": ".py",
   "mimetype": "text/x-python",
   "name": "python",
   "nbconvert_exporter": "python",
   "pygments_lexer": "ipython3",
   "version": "3.7.3"
  }
 },
 "nbformat": 4,
 "nbformat_minor": 2
}
