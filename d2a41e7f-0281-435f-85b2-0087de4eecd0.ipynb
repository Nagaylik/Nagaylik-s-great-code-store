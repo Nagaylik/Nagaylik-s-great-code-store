{
 "cells": [
  {
   "cell_type": "markdown",
   "id": "d4aeb8f4",
   "metadata": {},
   "source": [
    "<div style=\"border:solid Chocolate 2px; padding: 40px\">\n",
    "\n",
    "<b>Михаил, привет!👋</b>\n",
    "\n",
    "Меня зовут Кирилл Васильев, я буду ревьюером твоего проекта. Я предлагаю общаться на «ты», но если привычнее на «вы», просто скажи об этом! \n",
    "    \n",
    "Я оставил комментарии в твоем проекте. Пожалуйста, не удаляй их до технического принятия проекта.\n",
    "\n",
    "Ты можешь реагировать на комментарии как просто написав их в Markdown-ячейках, так и выделив их цветом. Например, <font color='blue'>синим</font>. Второй способ, на мой взгляд, удобнее.\n",
    "\n",
    "Свои комментарии я буду обозначать <font color='green'>зеленым</font>, <font color='gold'>желтым</font> и <font color='red'>красным </font> цветами, например:\n",
    "\n",
    "<br/>\n",
    "\n",
    "<div class=\"alert alert-success\">\n",
    "<h2> Комментарий ревьюера <a class=\"tocSkip\"> </h2>\n",
    "\n",
    "<b>Все отлично!👍:</b> В случае, если решение на отдельном шаге является полностью правильным.\n",
    "</div>\n",
    "\n",
    "<br/>\n",
    "\n",
    "<div class=\"alert alert-warning\">\n",
    "    <h2> Комментарий ревьюера <a class=\"tocSkip\"> </h2>\n",
    "    \n",
    "<b>Некоторые замечания и рекомендации💡:</b> В случае, когда решение на отдельном шаге станет еще лучше, если внести небольшие коррективы.\n",
    "</div>\n",
    "\n",
    "\n",
    "<br/>\n",
    "<div class=\"alert alert-block alert-danger\">\n",
    "<h2> Комментарий ревьюера <a class=\"tocSkip\"></h2>\n",
    "\n",
    "    \n",
    "<b>На доработку🤔:</b>\n",
    " В случае, когда решение на отдельном шаге требует существенной переработки и внесения правок. Напоминаю, что проект не может быть принят с первого раза, если ревью содержит комментарии, рекомендующие доработать шаги.\n",
    "</div>\n",
    "        \n",
    "Предлагаю тебе задавать вопросы по первым двум шагам и авторскому решению, если они возникнут. По проверке сразу переходим к третьему шагу и собственно аналитике проекта.\n",
    "    \n",
    " "
   ]
  },
  {
   "cell_type": "markdown",
   "id": "d39a8204",
   "metadata": {
    "deletable": false,
    "editable": false,
    "id": "c81daeeb"
   },
   "source": [
    "# Исследование надежности заемщиков\n"
   ]
  },
  {
   "cell_type": "markdown",
   "id": "d2aef44c",
   "metadata": {
    "deletable": false,
    "editable": false,
    "id": "827c20bf"
   },
   "source": [
    "Во второй части проекта вы выполните шаги 3 и 4. Их вручную проверит ревьюер.\n",
    "Чтобы вам не пришлось писать код заново для шагов 1 и 2, мы добавили авторские решения в ячейки с кодом. \n",
    "\n"
   ]
  },
  {
   "cell_type": "markdown",
   "id": "956d82a3",
   "metadata": {
    "deletable": false,
    "editable": false,
    "id": "744d7639"
   },
   "source": [
    "## Откройте таблицу и изучите общую информацию о данных"
   ]
  },
  {
   "cell_type": "markdown",
   "id": "1d1e639a",
   "metadata": {
    "deletable": false,
    "editable": false,
    "id": "e7a14c31"
   },
   "source": [
    "**Задание 1. Импортируйте библиотеку pandas. Считайте данные из csv-файла в датафрейм и сохраните в переменную `data`. Путь к файлу:**\n",
    "\n",
    "`/datasets/data.csv`"
   ]
  },
  {
   "cell_type": "code",
   "execution_count": 1,
   "id": "cf88ff7a",
   "metadata": {
    "deletable": false,
    "id": "7bcf75c9"
   },
   "outputs": [],
   "source": [
    "import pandas as pd\n",
    "\n",
    "try:\n",
    "    data = pd.read_csv('/datasets/data.csv')\n",
    "except:\n",
    "    data = pd.read_csv('https://code.s3.yandex.net/datasets/data.csv')"
   ]
  },
  {
   "cell_type": "markdown",
   "id": "be21c181",
   "metadata": {
    "deletable": false,
    "editable": false,
    "id": "b8038fe3"
   },
   "source": [
    "**Задание 2. Выведите первые 20 строчек датафрейма `data` на экран.**"
   ]
  },
  {
   "cell_type": "code",
   "execution_count": 2,
   "id": "9ab536e3",
   "metadata": {
    "deletable": false,
    "id": "2a7cab99",
    "outputId": "1a8f3ef2-d323-4ec2-ddf7-89670b5944c4"
   },
   "outputs": [
    {
     "data": {
      "text/html": [
       "<div>\n",
       "<style scoped>\n",
       "    .dataframe tbody tr th:only-of-type {\n",
       "        vertical-align: middle;\n",
       "    }\n",
       "\n",
       "    .dataframe tbody tr th {\n",
       "        vertical-align: top;\n",
       "    }\n",
       "\n",
       "    .dataframe thead th {\n",
       "        text-align: right;\n",
       "    }\n",
       "</style>\n",
       "<table border=\"1\" class=\"dataframe\">\n",
       "  <thead>\n",
       "    <tr style=\"text-align: right;\">\n",
       "      <th></th>\n",
       "      <th>children</th>\n",
       "      <th>days_employed</th>\n",
       "      <th>dob_years</th>\n",
       "      <th>education</th>\n",
       "      <th>education_id</th>\n",
       "      <th>family_status</th>\n",
       "      <th>family_status_id</th>\n",
       "      <th>gender</th>\n",
       "      <th>income_type</th>\n",
       "      <th>debt</th>\n",
       "      <th>total_income</th>\n",
       "      <th>purpose</th>\n",
       "    </tr>\n",
       "  </thead>\n",
       "  <tbody>\n",
       "    <tr>\n",
       "      <th>21505</th>\n",
       "      <td>0</td>\n",
       "      <td>338904.866406</td>\n",
       "      <td>53</td>\n",
       "      <td>среднее</td>\n",
       "      <td>1</td>\n",
       "      <td>гражданский брак</td>\n",
       "      <td>1</td>\n",
       "      <td>M</td>\n",
       "      <td>пенсионер</td>\n",
       "      <td>0</td>\n",
       "      <td>75439.993167</td>\n",
       "      <td>сыграть свадьбу</td>\n",
       "    </tr>\n",
       "    <tr>\n",
       "      <th>21506</th>\n",
       "      <td>1</td>\n",
       "      <td>-1556.249906</td>\n",
       "      <td>33</td>\n",
       "      <td>ВЫСШЕЕ</td>\n",
       "      <td>0</td>\n",
       "      <td>гражданский брак</td>\n",
       "      <td>1</td>\n",
       "      <td>F</td>\n",
       "      <td>сотрудник</td>\n",
       "      <td>0</td>\n",
       "      <td>145541.993320</td>\n",
       "      <td>свадьба</td>\n",
       "    </tr>\n",
       "    <tr>\n",
       "      <th>21507</th>\n",
       "      <td>1</td>\n",
       "      <td>-79.832064</td>\n",
       "      <td>32</td>\n",
       "      <td>среднее</td>\n",
       "      <td>1</td>\n",
       "      <td>гражданский брак</td>\n",
       "      <td>1</td>\n",
       "      <td>F</td>\n",
       "      <td>госслужащий</td>\n",
       "      <td>0</td>\n",
       "      <td>98180.279152</td>\n",
       "      <td>сделка с подержанным автомобилем</td>\n",
       "    </tr>\n",
       "    <tr>\n",
       "      <th>21508</th>\n",
       "      <td>0</td>\n",
       "      <td>386497.714078</td>\n",
       "      <td>62</td>\n",
       "      <td>среднее</td>\n",
       "      <td>1</td>\n",
       "      <td>женат / замужем</td>\n",
       "      <td>0</td>\n",
       "      <td>M</td>\n",
       "      <td>пенсионер</td>\n",
       "      <td>0</td>\n",
       "      <td>72638.590915</td>\n",
       "      <td>недвижимость</td>\n",
       "    </tr>\n",
       "    <tr>\n",
       "      <th>21509</th>\n",
       "      <td>0</td>\n",
       "      <td>362161.054124</td>\n",
       "      <td>59</td>\n",
       "      <td>высшее</td>\n",
       "      <td>0</td>\n",
       "      <td>женат / замужем</td>\n",
       "      <td>0</td>\n",
       "      <td>M</td>\n",
       "      <td>пенсионер</td>\n",
       "      <td>0</td>\n",
       "      <td>73029.059379</td>\n",
       "      <td>операции с недвижимостью</td>\n",
       "    </tr>\n",
       "    <tr>\n",
       "      <th>21510</th>\n",
       "      <td>2</td>\n",
       "      <td>NaN</td>\n",
       "      <td>28</td>\n",
       "      <td>среднее</td>\n",
       "      <td>1</td>\n",
       "      <td>женат / замужем</td>\n",
       "      <td>0</td>\n",
       "      <td>F</td>\n",
       "      <td>сотрудник</td>\n",
       "      <td>0</td>\n",
       "      <td>NaN</td>\n",
       "      <td>приобретение автомобиля</td>\n",
       "    </tr>\n",
       "    <tr>\n",
       "      <th>21511</th>\n",
       "      <td>0</td>\n",
       "      <td>-612.569129</td>\n",
       "      <td>29</td>\n",
       "      <td>высшее</td>\n",
       "      <td>0</td>\n",
       "      <td>гражданский брак</td>\n",
       "      <td>1</td>\n",
       "      <td>F</td>\n",
       "      <td>сотрудник</td>\n",
       "      <td>1</td>\n",
       "      <td>140068.472941</td>\n",
       "      <td>покупка жилья для сдачи</td>\n",
       "    </tr>\n",
       "    <tr>\n",
       "      <th>21512</th>\n",
       "      <td>0</td>\n",
       "      <td>-165.377752</td>\n",
       "      <td>26</td>\n",
       "      <td>высшее</td>\n",
       "      <td>0</td>\n",
       "      <td>Не женат / не замужем</td>\n",
       "      <td>4</td>\n",
       "      <td>M</td>\n",
       "      <td>компаньон</td>\n",
       "      <td>0</td>\n",
       "      <td>147301.457769</td>\n",
       "      <td>получение дополнительного образования</td>\n",
       "    </tr>\n",
       "    <tr>\n",
       "      <th>21513</th>\n",
       "      <td>0</td>\n",
       "      <td>-1166.216789</td>\n",
       "      <td>35</td>\n",
       "      <td>среднее</td>\n",
       "      <td>1</td>\n",
       "      <td>женат / замужем</td>\n",
       "      <td>0</td>\n",
       "      <td>F</td>\n",
       "      <td>сотрудник</td>\n",
       "      <td>0</td>\n",
       "      <td>250986.142309</td>\n",
       "      <td>покупка жилья</td>\n",
       "    </tr>\n",
       "    <tr>\n",
       "      <th>21514</th>\n",
       "      <td>0</td>\n",
       "      <td>-280.469996</td>\n",
       "      <td>27</td>\n",
       "      <td>неоконченное высшее</td>\n",
       "      <td>2</td>\n",
       "      <td>Не женат / не замужем</td>\n",
       "      <td>4</td>\n",
       "      <td>M</td>\n",
       "      <td>компаньон</td>\n",
       "      <td>0</td>\n",
       "      <td>355988.407188</td>\n",
       "      <td>строительство недвижимости</td>\n",
       "    </tr>\n",
       "    <tr>\n",
       "      <th>21515</th>\n",
       "      <td>1</td>\n",
       "      <td>-467.685130</td>\n",
       "      <td>28</td>\n",
       "      <td>среднее</td>\n",
       "      <td>1</td>\n",
       "      <td>женат / замужем</td>\n",
       "      <td>0</td>\n",
       "      <td>F</td>\n",
       "      <td>сотрудник</td>\n",
       "      <td>1</td>\n",
       "      <td>109486.327999</td>\n",
       "      <td>заняться образованием</td>\n",
       "    </tr>\n",
       "    <tr>\n",
       "      <th>21516</th>\n",
       "      <td>0</td>\n",
       "      <td>-914.391429</td>\n",
       "      <td>42</td>\n",
       "      <td>высшее</td>\n",
       "      <td>0</td>\n",
       "      <td>женат / замужем</td>\n",
       "      <td>0</td>\n",
       "      <td>F</td>\n",
       "      <td>компаньон</td>\n",
       "      <td>0</td>\n",
       "      <td>322807.776603</td>\n",
       "      <td>покупка своего жилья</td>\n",
       "    </tr>\n",
       "    <tr>\n",
       "      <th>21517</th>\n",
       "      <td>0</td>\n",
       "      <td>-404.679034</td>\n",
       "      <td>42</td>\n",
       "      <td>высшее</td>\n",
       "      <td>0</td>\n",
       "      <td>гражданский брак</td>\n",
       "      <td>1</td>\n",
       "      <td>F</td>\n",
       "      <td>компаньон</td>\n",
       "      <td>0</td>\n",
       "      <td>178059.553491</td>\n",
       "      <td>на покупку своего автомобиля</td>\n",
       "    </tr>\n",
       "    <tr>\n",
       "      <th>21518</th>\n",
       "      <td>0</td>\n",
       "      <td>373995.710838</td>\n",
       "      <td>59</td>\n",
       "      <td>СРЕДНЕЕ</td>\n",
       "      <td>1</td>\n",
       "      <td>женат / замужем</td>\n",
       "      <td>0</td>\n",
       "      <td>F</td>\n",
       "      <td>пенсионер</td>\n",
       "      <td>0</td>\n",
       "      <td>153864.650328</td>\n",
       "      <td>сделка с автомобилем</td>\n",
       "    </tr>\n",
       "    <tr>\n",
       "      <th>21519</th>\n",
       "      <td>1</td>\n",
       "      <td>-2351.431934</td>\n",
       "      <td>37</td>\n",
       "      <td>ученая степень</td>\n",
       "      <td>4</td>\n",
       "      <td>в разводе</td>\n",
       "      <td>3</td>\n",
       "      <td>M</td>\n",
       "      <td>сотрудник</td>\n",
       "      <td>0</td>\n",
       "      <td>115949.039788</td>\n",
       "      <td>покупка коммерческой недвижимости</td>\n",
       "    </tr>\n",
       "    <tr>\n",
       "      <th>21520</th>\n",
       "      <td>1</td>\n",
       "      <td>-4529.316663</td>\n",
       "      <td>43</td>\n",
       "      <td>среднее</td>\n",
       "      <td>1</td>\n",
       "      <td>гражданский брак</td>\n",
       "      <td>1</td>\n",
       "      <td>F</td>\n",
       "      <td>компаньон</td>\n",
       "      <td>0</td>\n",
       "      <td>224791.862382</td>\n",
       "      <td>операции с жильем</td>\n",
       "    </tr>\n",
       "    <tr>\n",
       "      <th>21521</th>\n",
       "      <td>0</td>\n",
       "      <td>343937.404131</td>\n",
       "      <td>67</td>\n",
       "      <td>среднее</td>\n",
       "      <td>1</td>\n",
       "      <td>женат / замужем</td>\n",
       "      <td>0</td>\n",
       "      <td>F</td>\n",
       "      <td>пенсионер</td>\n",
       "      <td>0</td>\n",
       "      <td>155999.806512</td>\n",
       "      <td>сделка с автомобилем</td>\n",
       "    </tr>\n",
       "    <tr>\n",
       "      <th>21522</th>\n",
       "      <td>1</td>\n",
       "      <td>-2113.346888</td>\n",
       "      <td>38</td>\n",
       "      <td>среднее</td>\n",
       "      <td>1</td>\n",
       "      <td>гражданский брак</td>\n",
       "      <td>1</td>\n",
       "      <td>M</td>\n",
       "      <td>сотрудник</td>\n",
       "      <td>1</td>\n",
       "      <td>89672.561153</td>\n",
       "      <td>недвижимость</td>\n",
       "    </tr>\n",
       "    <tr>\n",
       "      <th>21523</th>\n",
       "      <td>3</td>\n",
       "      <td>-3112.481705</td>\n",
       "      <td>38</td>\n",
       "      <td>среднее</td>\n",
       "      <td>1</td>\n",
       "      <td>женат / замужем</td>\n",
       "      <td>0</td>\n",
       "      <td>M</td>\n",
       "      <td>сотрудник</td>\n",
       "      <td>1</td>\n",
       "      <td>244093.050500</td>\n",
       "      <td>на покупку своего автомобиля</td>\n",
       "    </tr>\n",
       "    <tr>\n",
       "      <th>21524</th>\n",
       "      <td>2</td>\n",
       "      <td>-1984.507589</td>\n",
       "      <td>40</td>\n",
       "      <td>среднее</td>\n",
       "      <td>1</td>\n",
       "      <td>женат / замужем</td>\n",
       "      <td>0</td>\n",
       "      <td>F</td>\n",
       "      <td>сотрудник</td>\n",
       "      <td>0</td>\n",
       "      <td>82047.418899</td>\n",
       "      <td>на покупку автомобиля</td>\n",
       "    </tr>\n",
       "  </tbody>\n",
       "</table>\n",
       "</div>"
      ],
      "text/plain": [
       "       children  days_employed  dob_years            education  education_id  \\\n",
       "21505         0  338904.866406         53              среднее             1   \n",
       "21506         1   -1556.249906         33               ВЫСШЕЕ             0   \n",
       "21507         1     -79.832064         32              среднее             1   \n",
       "21508         0  386497.714078         62              среднее             1   \n",
       "21509         0  362161.054124         59               высшее             0   \n",
       "21510         2            NaN         28              среднее             1   \n",
       "21511         0    -612.569129         29               высшее             0   \n",
       "21512         0    -165.377752         26               высшее             0   \n",
       "21513         0   -1166.216789         35              среднее             1   \n",
       "21514         0    -280.469996         27  неоконченное высшее             2   \n",
       "21515         1    -467.685130         28              среднее             1   \n",
       "21516         0    -914.391429         42               высшее             0   \n",
       "21517         0    -404.679034         42               высшее             0   \n",
       "21518         0  373995.710838         59              СРЕДНЕЕ             1   \n",
       "21519         1   -2351.431934         37       ученая степень             4   \n",
       "21520         1   -4529.316663         43              среднее             1   \n",
       "21521         0  343937.404131         67              среднее             1   \n",
       "21522         1   -2113.346888         38              среднее             1   \n",
       "21523         3   -3112.481705         38              среднее             1   \n",
       "21524         2   -1984.507589         40              среднее             1   \n",
       "\n",
       "               family_status  family_status_id gender  income_type  debt  \\\n",
       "21505       гражданский брак                 1      M    пенсионер     0   \n",
       "21506       гражданский брак                 1      F    сотрудник     0   \n",
       "21507       гражданский брак                 1      F  госслужащий     0   \n",
       "21508        женат / замужем                 0      M    пенсионер     0   \n",
       "21509        женат / замужем                 0      M    пенсионер     0   \n",
       "21510        женат / замужем                 0      F    сотрудник     0   \n",
       "21511       гражданский брак                 1      F    сотрудник     1   \n",
       "21512  Не женат / не замужем                 4      M    компаньон     0   \n",
       "21513        женат / замужем                 0      F    сотрудник     0   \n",
       "21514  Не женат / не замужем                 4      M    компаньон     0   \n",
       "21515        женат / замужем                 0      F    сотрудник     1   \n",
       "21516        женат / замужем                 0      F    компаньон     0   \n",
       "21517       гражданский брак                 1      F    компаньон     0   \n",
       "21518        женат / замужем                 0      F    пенсионер     0   \n",
       "21519              в разводе                 3      M    сотрудник     0   \n",
       "21520       гражданский брак                 1      F    компаньон     0   \n",
       "21521        женат / замужем                 0      F    пенсионер     0   \n",
       "21522       гражданский брак                 1      M    сотрудник     1   \n",
       "21523        женат / замужем                 0      M    сотрудник     1   \n",
       "21524        женат / замужем                 0      F    сотрудник     0   \n",
       "\n",
       "        total_income                                purpose  \n",
       "21505   75439.993167                        сыграть свадьбу  \n",
       "21506  145541.993320                                свадьба  \n",
       "21507   98180.279152       сделка с подержанным автомобилем  \n",
       "21508   72638.590915                           недвижимость  \n",
       "21509   73029.059379               операции с недвижимостью  \n",
       "21510            NaN                приобретение автомобиля  \n",
       "21511  140068.472941                покупка жилья для сдачи  \n",
       "21512  147301.457769  получение дополнительного образования  \n",
       "21513  250986.142309                          покупка жилья  \n",
       "21514  355988.407188             строительство недвижимости  \n",
       "21515  109486.327999                  заняться образованием  \n",
       "21516  322807.776603                   покупка своего жилья  \n",
       "21517  178059.553491           на покупку своего автомобиля  \n",
       "21518  153864.650328                   сделка с автомобилем  \n",
       "21519  115949.039788      покупка коммерческой недвижимости  \n",
       "21520  224791.862382                      операции с жильем  \n",
       "21521  155999.806512                   сделка с автомобилем  \n",
       "21522   89672.561153                           недвижимость  \n",
       "21523  244093.050500           на покупку своего автомобиля  \n",
       "21524   82047.418899                  на покупку автомобиля  "
      ]
     },
     "execution_count": 2,
     "metadata": {},
     "output_type": "execute_result"
    }
   ],
   "source": [
    "data.tail(20)"
   ]
  },
  {
   "cell_type": "markdown",
   "id": "c4019b38",
   "metadata": {
    "deletable": false,
    "editable": false,
    "id": "1c12e233"
   },
   "source": [
    "**Задание 3. Выведите основную информацию о датафрейме с помощью метода `info()`.**"
   ]
  },
  {
   "cell_type": "code",
   "execution_count": 3,
   "id": "2611bb64",
   "metadata": {
    "deletable": false,
    "id": "2b757bca",
    "outputId": "15376089-8dad-46c9-b520-c05248d43158"
   },
   "outputs": [
    {
     "name": "stdout",
     "output_type": "stream",
     "text": [
      "<class 'pandas.core.frame.DataFrame'>\n",
      "RangeIndex: 21525 entries, 0 to 21524\n",
      "Data columns (total 12 columns):\n",
      " #   Column            Non-Null Count  Dtype  \n",
      "---  ------            --------------  -----  \n",
      " 0   children          21525 non-null  int64  \n",
      " 1   days_employed     19351 non-null  float64\n",
      " 2   dob_years         21525 non-null  int64  \n",
      " 3   education         21525 non-null  object \n",
      " 4   education_id      21525 non-null  int64  \n",
      " 5   family_status     21525 non-null  object \n",
      " 6   family_status_id  21525 non-null  int64  \n",
      " 7   gender            21525 non-null  object \n",
      " 8   income_type       21525 non-null  object \n",
      " 9   debt              21525 non-null  int64  \n",
      " 10  total_income      19351 non-null  float64\n",
      " 11  purpose           21525 non-null  object \n",
      "dtypes: float64(2), int64(5), object(5)\n",
      "memory usage: 2.0+ MB\n"
     ]
    }
   ],
   "source": [
    "data.info()"
   ]
  },
  {
   "cell_type": "markdown",
   "id": "be501be7",
   "metadata": {
    "deletable": false,
    "editable": false,
    "id": "333ec665"
   },
   "source": [
    "## Предобработка данных"
   ]
  },
  {
   "cell_type": "markdown",
   "id": "9dca78dd",
   "metadata": {
    "deletable": false,
    "editable": false,
    "id": "02d92d53"
   },
   "source": [
    "### Удаление пропусков"
   ]
  },
  {
   "cell_type": "markdown",
   "id": "11e1afc8",
   "metadata": {
    "deletable": false,
    "editable": false,
    "id": "cd84967c"
   },
   "source": [
    "**Задание 4. Выведите количество пропущенных значений для каждого столбца. Используйте комбинацию двух методов.**"
   ]
  },
  {
   "cell_type": "code",
   "execution_count": 4,
   "id": "2fb34a2f",
   "metadata": {
    "deletable": false,
    "id": "7f9b2309",
    "outputId": "81f4d817-781c-465c-ed15-91ce4446810d"
   },
   "outputs": [
    {
     "data": {
      "text/plain": [
       "children               0\n",
       "days_employed       2174\n",
       "dob_years              0\n",
       "education              0\n",
       "education_id           0\n",
       "family_status          0\n",
       "family_status_id       0\n",
       "gender                 0\n",
       "income_type            0\n",
       "debt                   0\n",
       "total_income        2174\n",
       "purpose                0\n",
       "dtype: int64"
      ]
     },
     "execution_count": 4,
     "metadata": {},
     "output_type": "execute_result"
    }
   ],
   "source": [
    "data.isna().sum()"
   ]
  },
  {
   "cell_type": "markdown",
   "id": "6ea4058f",
   "metadata": {
    "deletable": false,
    "editable": false,
    "id": "db86e27b"
   },
   "source": [
    "**Задание 5. В двух столбцах есть пропущенные значения. Один из них — `days_employed`. Пропуски в этом столбце вы обработаете на следующем этапе. Другой столбец с пропущенными значениями — `total_income` — хранит данные о доходах. На сумму дохода сильнее всего влияет тип занятости, поэтому заполнить пропуски в этом столбце нужно медианным значением по каждому типу из столбца `income_type`. Например, у человека с типом занятости `сотрудник` пропуск в столбце `total_income` должен быть заполнен медианным доходом среди всех записей с тем же типом.**"
   ]
  },
  {
   "cell_type": "code",
   "execution_count": 5,
   "id": "407fd9e5",
   "metadata": {
    "deletable": false,
    "id": "42006a93"
   },
   "outputs": [],
   "source": [
    "for t in data['income_type'].unique():\n",
    "    data.loc[(data['income_type'] == t) & (data['total_income'].isna()), 'total_income'] = \\\n",
    "    data.loc[(data['income_type'] == t), 'total_income'].median()"
   ]
  },
  {
   "cell_type": "markdown",
   "id": "3c5aa098",
   "metadata": {
    "deletable": false,
    "editable": false,
    "id": "89da5ece"
   },
   "source": [
    "### Обработка аномальных значений"
   ]
  },
  {
   "cell_type": "markdown",
   "id": "49282b51",
   "metadata": {
    "deletable": false,
    "editable": false,
    "id": "57964554"
   },
   "source": [
    "**Задание 6. В данных могут встречаться артефакты (аномалии) — значения, которые не отражают действительность и появились по какой-то ошибке. таким артефактом будет отрицательное количество дней трудового стажа в столбце `days_employed`. Для реальных данных это нормально. Обработайте значения в этом столбце: замените все отрицательные значения положительными с помощью метода `abs()`.**"
   ]
  },
  {
   "cell_type": "code",
   "execution_count": 6,
   "id": "1b1a74ce",
   "metadata": {
    "deletable": false,
    "id": "f6f055bf"
   },
   "outputs": [],
   "source": [
    "data['days_employed'] = data['days_employed'].abs()"
   ]
  },
  {
   "cell_type": "markdown",
   "id": "06aefe72",
   "metadata": {
    "deletable": false,
    "editable": false,
    "id": "6107dd2f"
   },
   "source": [
    "**Задание 7. Для каждого типа занятости выведите медианное значение трудового стажа `days_employed` в днях.**"
   ]
  },
  {
   "cell_type": "code",
   "execution_count": 7,
   "id": "e2675343",
   "metadata": {
    "deletable": false,
    "id": "85a5faf6",
    "outputId": "801ef80e-522b-4668-f34e-565af7432bcf"
   },
   "outputs": [
    {
     "data": {
      "text/plain": [
       "income_type\n",
       "безработный        366413.652744\n",
       "в декрете            3296.759962\n",
       "госслужащий          2689.368353\n",
       "компаньон            1547.382223\n",
       "пенсионер          365213.306266\n",
       "предприниматель       520.848083\n",
       "сотрудник            1574.202821\n",
       "студент               578.751554\n",
       "Name: days_employed, dtype: float64"
      ]
     },
     "execution_count": 7,
     "metadata": {},
     "output_type": "execute_result"
    }
   ],
   "source": [
    "data.groupby('income_type')['days_employed'].agg('median')"
   ]
  },
  {
   "cell_type": "markdown",
   "id": "dbd46df9",
   "metadata": {
    "deletable": false,
    "editable": false,
    "id": "38d1a030"
   },
   "source": [
    "У двух типов (безработные и пенсионеры) получатся аномально большие значения. Исправить такие значения сложно, поэтому оставьте их как есть. Тем более этот столбец не понадобится вам для исследования."
   ]
  },
  {
   "cell_type": "markdown",
   "id": "d4231dfc",
   "metadata": {
    "deletable": false,
    "editable": false,
    "id": "d8a9f147"
   },
   "source": [
    "**Задание 8. Выведите перечень уникальных значений столбца `children`.**"
   ]
  },
  {
   "cell_type": "code",
   "execution_count": 8,
   "id": "6d229127",
   "metadata": {
    "deletable": false,
    "id": "ef5056eb",
    "outputId": "6975b15c-7f95-4697-d16d-a0c79b657b03"
   },
   "outputs": [
    {
     "data": {
      "text/plain": [
       "array([ 1,  0,  3,  2, -1,  4, 20,  5])"
      ]
     },
     "execution_count": 8,
     "metadata": {},
     "output_type": "execute_result"
    }
   ],
   "source": [
    "data['children'].unique()"
   ]
  },
  {
   "cell_type": "markdown",
   "id": "cb004211",
   "metadata": {
    "deletable": false,
    "editable": false,
    "id": "40b9ebf2"
   },
   "source": [
    "**Задание 9. В столбце `children` есть два аномальных значения. Удалите строки, в которых встречаются такие аномальные значения из датафрейма `data`.**"
   ]
  },
  {
   "cell_type": "code",
   "execution_count": 9,
   "id": "0e2c4c70",
   "metadata": {
    "deletable": false,
    "id": "3ff9801d"
   },
   "outputs": [],
   "source": [
    "data = data[(data['children'] != -1) & (data['children'] != 20)]"
   ]
  },
  {
   "cell_type": "markdown",
   "id": "0c7f6520",
   "metadata": {
    "deletable": false,
    "editable": false,
    "id": "bbc4d0ce"
   },
   "source": [
    "**Задание 10. Ещё раз выведите перечень уникальных значений столбца `children`, чтобы убедиться, что артефакты удалены.**"
   ]
  },
  {
   "cell_type": "code",
   "execution_count": 10,
   "id": "a4693348",
   "metadata": {
    "deletable": false,
    "id": "ad4fa8b7",
    "outputId": "b2097101-d49d-44d9-901b-32a65c9463d1"
   },
   "outputs": [
    {
     "data": {
      "text/plain": [
       "array([1, 0, 3, 2, 4, 5])"
      ]
     },
     "execution_count": 10,
     "metadata": {},
     "output_type": "execute_result"
    }
   ],
   "source": [
    "data['children'].unique()"
   ]
  },
  {
   "cell_type": "markdown",
   "id": "5ad6f0cf",
   "metadata": {
    "deletable": false,
    "editable": false,
    "id": "75440b63"
   },
   "source": [
    "### Удаление пропусков (продолжение)"
   ]
  },
  {
   "cell_type": "markdown",
   "id": "2e7aa45a",
   "metadata": {
    "deletable": false,
    "editable": false,
    "id": "f4ea573f"
   },
   "source": [
    "**Задание 11. Заполните пропуски в столбце `days_employed` медианными значениями по каждого типа занятости `income_type`.**"
   ]
  },
  {
   "cell_type": "code",
   "execution_count": 11,
   "id": "8463ea7b",
   "metadata": {
    "deletable": false,
    "id": "af6b1a7e"
   },
   "outputs": [],
   "source": [
    "for t in data['income_type'].unique():\n",
    "    data.loc[(data['income_type'] == t) & (data['days_employed'].isna()), 'days_employed'] = \\\n",
    "    data.loc[(data['income_type'] == t), 'days_employed'].median()"
   ]
  },
  {
   "cell_type": "markdown",
   "id": "93d7ebcc",
   "metadata": {
    "deletable": false,
    "editable": false,
    "id": "2753f40d"
   },
   "source": [
    "**Задание 12. Убедитесь, что все пропуски заполнены. Проверьте себя и ещё раз выведите количество пропущенных значений для каждого столбца с помощью двух методов.**"
   ]
  },
  {
   "cell_type": "code",
   "execution_count": 12,
   "id": "3cf2ccc6",
   "metadata": {
    "deletable": false,
    "id": "55f78bc2",
    "outputId": "8da1e4e1-358e-4e87-98c9-f261bce0a7b2"
   },
   "outputs": [
    {
     "data": {
      "text/plain": [
       "children            0\n",
       "days_employed       0\n",
       "dob_years           0\n",
       "education           0\n",
       "education_id        0\n",
       "family_status       0\n",
       "family_status_id    0\n",
       "gender              0\n",
       "income_type         0\n",
       "debt                0\n",
       "total_income        0\n",
       "purpose             0\n",
       "dtype: int64"
      ]
     },
     "execution_count": 12,
     "metadata": {},
     "output_type": "execute_result"
    }
   ],
   "source": [
    "data.isna().sum()"
   ]
  },
  {
   "cell_type": "markdown",
   "id": "f16cee04",
   "metadata": {
    "deletable": false,
    "editable": false,
    "id": "ddc81e43"
   },
   "source": [
    "### Изменение типов данных"
   ]
  },
  {
   "cell_type": "markdown",
   "id": "9a04ed03",
   "metadata": {
    "deletable": false,
    "editable": false,
    "id": "42d19d24"
   },
   "source": [
    "**Задание 13. Замените вещественный тип данных в столбце `total_income` на целочисленный с помощью метода `astype()`.**"
   ]
  },
  {
   "cell_type": "code",
   "execution_count": 13,
   "id": "97074f6f",
   "metadata": {
    "deletable": false,
    "id": "920b65ad"
   },
   "outputs": [],
   "source": [
    "data['total_income'] = data['total_income'].astype(int)"
   ]
  },
  {
   "cell_type": "markdown",
   "id": "f2d6d086",
   "metadata": {
    "deletable": false,
    "editable": false,
    "id": "80c420ba"
   },
   "source": [
    "### Обработка дубликатов"
   ]
  },
  {
   "cell_type": "markdown",
   "id": "8fe5bbb1",
   "metadata": {
    "deletable": false,
    "editable": false
   },
   "source": [
    "**Задание 14. Обработайте неявные дубликаты в столбце `education`. В этом столбце есть одни и те же значения, но записанные по-разному: с использованием заглавных и строчных букв. Приведите их к нижнему регистру. Проверьте остальные столбцы.**"
   ]
  },
  {
   "cell_type": "code",
   "execution_count": 14,
   "id": "df8ca289",
   "metadata": {
    "deletable": false
   },
   "outputs": [],
   "source": [
    "data['education'] = data['education'].str.lower()"
   ]
  },
  {
   "cell_type": "markdown",
   "id": "bf75f9ec",
   "metadata": {
    "deletable": false,
    "editable": false,
    "id": "dc587695"
   },
   "source": [
    "**Задание 15. Выведите на экран количество строк-дубликатов в данных. Если такие строки присутствуют, удалите их.**"
   ]
  },
  {
   "cell_type": "code",
   "execution_count": 15,
   "id": "80eee5d6",
   "metadata": {
    "deletable": false,
    "id": "3ee445e4",
    "outputId": "9684deba-1934-42d1-99e1-cda61740f822"
   },
   "outputs": [
    {
     "data": {
      "text/plain": [
       "71"
      ]
     },
     "execution_count": 15,
     "metadata": {},
     "output_type": "execute_result"
    }
   ],
   "source": [
    "data.duplicated().sum()"
   ]
  },
  {
   "cell_type": "code",
   "execution_count": 16,
   "id": "3d045765",
   "metadata": {
    "deletable": false,
    "id": "8575fe05"
   },
   "outputs": [],
   "source": [
    "data = data.drop_duplicates()"
   ]
  },
  {
   "cell_type": "markdown",
   "id": "8a135315",
   "metadata": {
    "deletable": false,
    "editable": false,
    "id": "9904cf55"
   },
   "source": [
    "### Категоризация данных"
   ]
  },
  {
   "cell_type": "markdown",
   "id": "35d1e745",
   "metadata": {
    "deletable": false,
    "editable": false,
    "id": "72fcc8a2"
   },
   "source": [
    "**Задание 16. На основании диапазонов, указанных ниже, создайте в датафрейме `data` столбец `total_income_category` с категориями:**\n",
    "\n",
    "- 0–30000 — `'E'`;\n",
    "- 30001–50000 — `'D'`;\n",
    "- 50001–200000 — `'C'`;\n",
    "- 200001–1000000 — `'B'`;\n",
    "- 1000001 и выше — `'A'`.\n",
    "\n",
    "\n",
    "**Например, кредитополучателю с доходом 25000 нужно назначить категорию `'E'`, а клиенту, получающему 235000, — `'B'`. Используйте собственную функцию с именем `categorize_income()` и метод `apply()`.**"
   ]
  },
  {
   "cell_type": "markdown",
   "id": "1462287d",
   "metadata": {},
   "source": [
    "<font color='blue'> Не очень удачные категории. \n",
    "Понятно, что если это серёзная бигдата для международной команды пишущей нейросеть для отсеивания клиентов. \n",
    "Но у нас тут небольшое приключение на пару вечеров, строчки \"от 30 до 50 тыс\" были бы приятней для работы. \n",
    "К тому же следующей категорий идет цель кредита, которую мы разбиваем по-человечески. \n",
    "Тогда, последовательно и туда надо было вставлять категории-буквы или коды. То есть обидно не то, что подход к названиям \n",
    "категорий разный, а то что мы сами не определились ни с языком (пол: M F), ни с принципами названия категорий. <font>"
   ]
  },
  {
   "cell_type": "code",
   "execution_count": 17,
   "id": "bea2f58b",
   "metadata": {
    "deletable": false,
    "id": "e1771346"
   },
   "outputs": [],
   "source": [
    "def categorize_income(income):\n",
    "    try:\n",
    "        if 0 <= income <= 30000:\n",
    "            return 'E'\n",
    "        elif 30001 <= income <= 50000:\n",
    "            return 'D'\n",
    "        elif 50001 <= income <= 200000:\n",
    "            return 'C'\n",
    "        elif 200001 <= income <= 1000000:\n",
    "            return 'B'\n",
    "        elif income >= 1000001:\n",
    "            return 'A'\n",
    "    except:\n",
    "        pass"
   ]
  },
  {
   "cell_type": "code",
   "execution_count": 18,
   "id": "332010da",
   "metadata": {
    "deletable": false,
    "id": "d5f3586d"
   },
   "outputs": [],
   "source": [
    "data['total_income_category'] = data['total_income'].apply(categorize_income)"
   ]
  },
  {
   "cell_type": "markdown",
   "id": "9d15206f",
   "metadata": {
    "deletable": false,
    "editable": false,
    "id": "dde49b5c"
   },
   "source": [
    "**Задание 17. Выведите на экран перечень уникальных целей взятия кредита из столбца `purpose`.**"
   ]
  },
  {
   "cell_type": "code",
   "execution_count": 19,
   "id": "b8670faa",
   "metadata": {
    "deletable": false,
    "id": "f67ce9b3",
    "outputId": "673c12d9-7d7e-4ae0-9812-c622c89dd244"
   },
   "outputs": [
    {
     "data": {
      "text/plain": [
       "array(['покупка жилья', 'приобретение автомобиля',\n",
       "       'дополнительное образование', 'сыграть свадьбу',\n",
       "       'операции с жильем', 'образование', 'на проведение свадьбы',\n",
       "       'покупка жилья для семьи', 'покупка недвижимости',\n",
       "       'покупка коммерческой недвижимости', 'покупка жилой недвижимости',\n",
       "       'строительство собственной недвижимости', 'недвижимость',\n",
       "       'строительство недвижимости', 'на покупку подержанного автомобиля',\n",
       "       'на покупку своего автомобиля',\n",
       "       'операции с коммерческой недвижимостью',\n",
       "       'строительство жилой недвижимости', 'жилье',\n",
       "       'операции со своей недвижимостью', 'автомобили',\n",
       "       'заняться образованием', 'сделка с подержанным автомобилем',\n",
       "       'получение образования', 'автомобиль', 'свадьба',\n",
       "       'получение дополнительного образования', 'покупка своего жилья',\n",
       "       'операции с недвижимостью', 'получение высшего образования',\n",
       "       'свой автомобиль', 'сделка с автомобилем',\n",
       "       'профильное образование', 'высшее образование',\n",
       "       'покупка жилья для сдачи', 'на покупку автомобиля', 'ремонт жилью',\n",
       "       'заняться высшим образованием'], dtype=object)"
      ]
     },
     "execution_count": 19,
     "metadata": {},
     "output_type": "execute_result"
    }
   ],
   "source": [
    "data['purpose'].unique()"
   ]
  },
  {
   "cell_type": "markdown",
   "id": "24f59118",
   "metadata": {
    "deletable": false,
    "editable": false,
    "id": "85d0aef0"
   },
   "source": [
    "**Задание 18. Создайте функцию, которая на основании данных из столбца `purpose` сформирует новый столбец `purpose_category`, в который войдут следующие категории:**\n",
    "\n",
    "- `'операции с автомобилем'`,\n",
    "- `'операции с недвижимостью'`,\n",
    "- `'проведение свадьбы'`,\n",
    "- `'получение образования'`.\n",
    "\n",
    "**Например, если в столбце `purpose` находится подстрока `'на покупку автомобиля'`, то в столбце `purpose_category` должна появиться строка `'операции с автомобилем'`.**\n",
    "\n",
    "**Используйте собственную функцию с именем `categorize_purpose()` и метод `apply()`. Изучите данные в столбце `purpose` и определите, какие подстроки помогут вам правильно определить категорию.**"
   ]
  },
  {
   "cell_type": "code",
   "execution_count": 20,
   "id": "79242781",
   "metadata": {
    "deletable": false,
    "id": "e149fab4"
   },
   "outputs": [],
   "source": [
    "def categorize_purpose(row):\n",
    "    try:\n",
    "        if 'автом' in row:\n",
    "            return 'операции с автомобилем'\n",
    "        elif 'жил' in row or 'недвиж' in row:\n",
    "            return 'операции с недвижимостью'\n",
    "        elif 'свад' in row:\n",
    "            return 'проведение свадьбы'\n",
    "        elif 'образов' in row:\n",
    "            return 'получение образования'\n",
    "    except:\n",
    "        return 'нет категории'"
   ]
  },
  {
   "cell_type": "code",
   "execution_count": 21,
   "id": "f2776e15",
   "metadata": {
    "deletable": false,
    "id": "bf36e69b"
   },
   "outputs": [],
   "source": [
    "data['purpose_category'] = data['purpose'].apply(categorize_purpose)"
   ]
  },
  {
   "cell_type": "markdown",
   "id": "998bac55",
   "metadata": {
    "deletable": false,
    "editable": false,
    "id": "09b242bf"
   },
   "source": [
    "### Шаг 3. Исследуйте данные и ответьте на вопросы"
   ]
  },
  {
   "cell_type": "markdown",
   "id": "b775a275",
   "metadata": {
    "deletable": false,
    "editable": false,
    "id": "c5d66278"
   },
   "source": [
    "#### 3.1 Есть ли зависимость между количеством детей и возвратом кредита в срок?"
   ]
  },
  {
   "cell_type": "markdown",
   "id": "23cb7ac2",
   "metadata": {},
   "source": [
    "Оценим объём выборки:"
   ]
  },
  {
   "cell_type": "code",
   "execution_count": 22,
   "id": "69345bdc",
   "metadata": {},
   "outputs": [
    {
     "data": {
      "text/plain": [
       "0    14091\n",
       "1     4808\n",
       "2     2052\n",
       "3      330\n",
       "4       41\n",
       "5        9\n",
       "Name: children, dtype: int64"
      ]
     },
     "metadata": {},
     "output_type": "display_data"
    },
    {
     "data": {
      "text/plain": [
       "0    0.660588\n",
       "1    0.225400\n",
       "2    0.096198\n",
       "3    0.015470\n",
       "4    0.001922\n",
       "5    0.000422\n",
       "Name: children, dtype: float64"
      ]
     },
     "execution_count": 22,
     "metadata": {},
     "output_type": "execute_result"
    }
   ],
   "source": [
    "display(data['children'].value_counts())\n",
    "data['children'].value_counts()/len(data)"
   ]
  },
  {
   "cell_type": "markdown",
   "id": "299b1c65",
   "metadata": {},
   "source": [
    "В группе с пятью детьми всего 9 человек. Вероятно, ее можно не принимать в расчет при анализе, поскольку в ней высока вероятность случайного распределения.\n",
    "Рассмотрим значение среднего параметра debt по группам с разным количеством детей. "
   ]
  },
  {
   "cell_type": "markdown",
   "id": "de32c5fc",
   "metadata": {},
   "source": [
    "<div class=\"alert alert-success\">\n",
    "<h2> Комментарий ревьюера <a class=\"tocSkip\"> </h2>\n",
    "\n",
    "👍 Все верно. Действительно, эту группу можно не учитывать при анализе. Либо можно объединить эту группу с другими менее многочисленными. (3,4 ребенка)\n",
    "</div>"
   ]
  },
  {
   "cell_type": "code",
   "execution_count": 23,
   "id": "13c6c679",
   "metadata": {
    "deletable": false,
    "id": "2cacfc4a"
   },
   "outputs": [
    {
     "data": {
      "text/plain": [
       "'Процент должников среди заёмщиков с разным количеством детей:'"
      ]
     },
     "metadata": {},
     "output_type": "display_data"
    },
    {
     "data": {
      "text/plain": [
       "children\n",
       "0    7.543822\n",
       "1    9.234609\n",
       "2    9.454191\n",
       "3    8.181818\n",
       "4    9.756098\n",
       "5    0.000000\n",
       "Name: debt, dtype: float64"
      ]
     },
     "execution_count": 23,
     "metadata": {},
     "output_type": "execute_result"
    },
    {
     "data": {
      "image/png": "[encoded data removed]",
      "text/plain": [
       "<Figure size 720x432 with 1 Axes>"
      ]
     },
     "metadata": {
      "needs_background": "light"
     },
     "output_type": "display_data"
    }
   ],
   "source": [
    "(data.groupby('children')['debt'].mean()*100).plot(\n",
    "    kind = 'bar',\n",
    "    ylim = (0,10), \n",
    "    rot =0, \n",
    "    title = \"Процент должников, среди заёмщиков с разным количеством детей\",\n",
    "    figsize = (10,6),\n",
    "    xlabel = \"Количество детей\",\n",
    "    ylabel = \"%\"\n",
    ")\n",
    "\n",
    "display('Процент должников среди заёмщиков с разным количеством детей:')\n",
    "data.groupby('children')['debt'].mean()*100"
   ]
  },
  {
   "cell_type": "markdown",
   "id": "32a65b43",
   "metadata": {},
   "source": [
    "<font color='blue'>Поправил график</font>"
   ]
  },
  {
   "cell_type": "markdown",
   "id": "78f05d4a",
   "metadata": {},
   "source": [
    "<div class=\"alert alert-success\">\n",
    "<h2> Комментарий ревьюера <a class=\"tocSkip\"> </h2>\n",
    "\n",
    "👍 Отлично, используем группировку, считаем среднее.\n",
    "</div>"
   ]
  },
  {
   "cell_type": "markdown",
   "id": "44acff12",
   "metadata": {},
   "source": [
    "Рассмотрим распределение количества детей в двух группах заёмщиков."
   ]
  },
  {
   "cell_type": "code",
   "execution_count": 24,
   "id": "2fb6e72b",
   "metadata": {},
   "outputs": [
    {
     "data": {
      "text/html": [
       "<div>\n",
       "<style scoped>\n",
       "    .dataframe tbody tr th:only-of-type {\n",
       "        vertical-align: middle;\n",
       "    }\n",
       "\n",
       "    .dataframe tbody tr th {\n",
       "        vertical-align: top;\n",
       "    }\n",
       "\n",
       "    .dataframe thead th {\n",
       "        text-align: right;\n",
       "    }\n",
       "</style>\n",
       "<table border=\"1\" class=\"dataframe\">\n",
       "  <thead>\n",
       "    <tr style=\"text-align: right;\">\n",
       "      <th></th>\n",
       "      <th>debt_Должники</th>\n",
       "      <th>debt_НЕдолжники</th>\n",
       "    </tr>\n",
       "    <tr>\n",
       "      <th>children</th>\n",
       "      <th></th>\n",
       "      <th></th>\n",
       "    </tr>\n",
       "  </thead>\n",
       "  <tbody>\n",
       "    <tr>\n",
       "      <th>0</th>\n",
       "      <td>61.374134</td>\n",
       "      <td>66.472779</td>\n",
       "    </tr>\n",
       "    <tr>\n",
       "      <th>1</th>\n",
       "      <td>25.635104</td>\n",
       "      <td>22.266442</td>\n",
       "    </tr>\n",
       "    <tr>\n",
       "      <th>2</th>\n",
       "      <td>11.200924</td>\n",
       "      <td>9.480076</td>\n",
       "    </tr>\n",
       "    <tr>\n",
       "      <th>3</th>\n",
       "      <td>1.558891</td>\n",
       "      <td>1.545997</td>\n",
       "    </tr>\n",
       "    <tr>\n",
       "      <th>4</th>\n",
       "      <td>0.230947</td>\n",
       "      <td>0.188785</td>\n",
       "    </tr>\n",
       "  </tbody>\n",
       "</table>\n",
       "</div>"
      ],
      "text/plain": [
       "          debt_Должники  debt_НЕдолжники\n",
       "children                                \n",
       "0             61.374134        66.472779\n",
       "1             25.635104        22.266442\n",
       "2             11.200924         9.480076\n",
       "3              1.558891         1.545997\n",
       "4              0.230947         0.188785"
      ]
     },
     "execution_count": 24,
     "metadata": {},
     "output_type": "execute_result"
    },
    {
     "data": {
      "image/png": "[encoded data removed]",
      "text/plain": [
       "<Figure size 720x432 with 1 Axes>"
      ]
     },
     "metadata": {
      "needs_background": "light"
     },
     "output_type": "display_data"
    }
   ],
   "source": [
    "#Добросовестные клиенты\n",
    "fair = ((data[data['debt'] == 0]\n",
    "            .groupby('children')['debt']\n",
    "            .count()/len(data[data['debt'] == 0])*100)\n",
    "            .to_frame())\n",
    "#Должники\n",
    "debtors = ((data[data['debt'] == 1]\n",
    "            .groupby('children')['debt']\n",
    "            .count()/len(data[data['debt'] == 1])*100)\n",
    "            .to_frame())\n",
    "\n",
    "debtors_group = debtors.merge(fair, on = 'children',suffixes = ('_Должники', '_НЕдолжники'))\n",
    "debtors_group.plot(rot = 0, \n",
    "                   kind = 'bar',\n",
    "                   figsize= (10,6),\n",
    "                   title = \"Процент клиентов с разным количеством детей\",\n",
    "                   xlabel = \"Количество детей\",\n",
    "                   ylabel = \"%\"\n",
    "                  )\n",
    "debtors_group\n"
   ]
  },
  {
   "cell_type": "markdown",
   "id": "1671dd82",
   "metadata": {},
   "source": [
    "<font color='blue'>Поправил график</font>"
   ]
  },
  {
   "cell_type": "markdown",
   "id": "c288c84c",
   "metadata": {},
   "source": [
    "Основная масса заёмщиков - бездетные клиенты. Процент заёмщиков закономерно уменьшается по мере увеличения числа детей. \n",
    "Процент лиц, имеющих задолженность остается примерно постоянным: от 7.5% для бездетных до 9.7% для родителей 4 детей. Исключение составляет группа клиентов с пятью детьми. Среди них должников не нашлось. Однако, учитывая что их очень мало (9 человек - менее 0.05 процента), отсутсвие должников в этой группе может быть просто случайностью.\n",
    "\n",
    "В группах заёмщиков имеются незначительные различия по числу детей: Среди должников доля бездетных ниже, а доля родителей всех групп немного выше. То есть задолженность связана с наличием/числом детей.\n",
    "\n",
    "Мы можем сравнить две группы (должники и \"добросовестные\") по числу детей и выяснить случайны ли различия между двумя группами.\n",
    "\n",
    "Для этого мы воспользуемся тестом хи-квадрат Пирсона. С помощью него мы определим, случайны ли различия\n",
    "Для начала посчитаем число должников и добросовестных клиентов в разных группах по числу детей."
   ]
  },
  {
   "cell_type": "code",
   "execution_count": 25,
   "id": "ad99d7f9",
   "metadata": {},
   "outputs": [
    {
     "data": {
      "text/plain": [
       "children  debt\n",
       "0         0       13028\n",
       "          1        1063\n",
       "1         0        4364\n",
       "          1         444\n",
       "2         0        1858\n",
       "          1         194\n",
       "3         0         303\n",
       "          1          27\n",
       "4         0          37\n",
       "          1           4\n",
       "5         0           9\n",
       "Name: debt, dtype: int64"
      ]
     },
     "execution_count": 25,
     "metadata": {},
     "output_type": "execute_result"
    }
   ],
   "source": [
    "data.groupby(['children','debt'])['debt'].count()"
   ]
  },
  {
   "cell_type": "markdown",
   "id": "938e0d5b",
   "metadata": {},
   "source": [
    "Сделаем два списка, соответствующих группам добросовестных заёмщиков (debt_0) должников (debt_1). Последнюю группу с пятью детьми не будем анализировать, поскольку таких заёмщиков крайне мало.\n",
    "Сделаем также список списков, которые примет функция хи-квадрат. Последнюю группу с клиентами у которых пять детей включать в анализ не будем, поскольку в ней слишком мало значений."
   ]
  },
  {
   "cell_type": "code",
   "execution_count": 26,
   "id": "980840e6",
   "metadata": {},
   "outputs": [],
   "source": [
    "debt_0 = [13028,4364,1858,303,37]\n",
    "debt_1 = [1063 , 444, 194, 27, 4]\n",
    "debt_groups = [debt_0, debt_1]"
   ]
  },
  {
   "cell_type": "markdown",
   "id": "18682bdc",
   "metadata": {},
   "source": [
    "Установим библиотеку для работы с функцией хи-квадрат."
   ]
  },
  {
   "cell_type": "code",
   "execution_count": 27,
   "id": "140fb1cc",
   "metadata": {},
   "outputs": [
    {
     "name": "stdout",
     "output_type": "stream",
     "text": [
      "Requirement already satisfied: scipy in /opt/conda/lib/python3.9/site-packages (1.9.1)\r\n",
      "Requirement already satisfied: numpy<1.25.0,>=1.18.5 in /opt/conda/lib/python3.9/site-packages (from scipy) (1.21.1)\r\n"
     ]
    }
   ],
   "source": [
    "!pip install scipy\n",
    "import scipy.stats as stats\n",
    "from scipy.stats import chi2_contingency"
   ]
  },
  {
   "cell_type": "markdown",
   "id": "bcd849ae",
   "metadata": {},
   "source": [
    "Посчитаем значение хи-квадрат и выведем на экран **p-значение** , которое отражает уровень достоверности различий."
   ]
  },
  {
   "cell_type": "code",
   "execution_count": 28,
   "id": "a7068659",
   "metadata": {},
   "outputs": [
    {
     "data": {
      "text/plain": [
       "0.00068"
      ]
     },
     "execution_count": 28,
     "metadata": {},
     "output_type": "execute_result"
    }
   ],
   "source": [
    "stat, p, dof, expected = chi2_contingency(debt_groups)\n",
    "round(p,5)"
   ]
  },
  {
   "cell_type": "markdown",
   "id": "5280cd78",
   "metadata": {},
   "source": [
    "Уровень p - принятый в научных работах равен 0,05.\n",
    "Это означает, что в 5 процентах случаях обнаруженные различия могут быть случайны.\n",
    "В нашем случае  p < 0.001, то есть вероятность случайных различий намного ниже.\n",
    "Исходя из результатов этого теста, мы можем подтвердить, что различия между должниками и добросовестными заёмщиками действительно имеются.\n",
    "\n",
    "Неравномерность выборки (чем больше детей, тем меньшая по размеру группа) может влиять на результат. В группе клиентов с пятью детьми выборка и вовсе крайне мала. Попробуем проверить различия по должникам между всего лишь двумя группами: бездетных и заёмщиков-родителей, объединив последних в одну группу.\n",
    "\n",
    "Создаём в исходной таблице отдельный столбец parent, отражающий, является ли клиент родителем."
   ]
  },
  {
   "cell_type": "markdown",
   "id": "94d80d1f",
   "metadata": {},
   "source": [
    "<div class=\"alert alert-success\">\n",
    "<h2> Комментарий ревьюера <a class=\"tocSkip\"> </h2>\n",
    "👍  \n",
    "\n",
    "p-value — это вероятность получить такие или более выраженные различия при условии, что в генеральной совокупности никаких различий на самом деле нет. Ага. В 5% или более.\n",
    "       \n",
    "Ок, объединить в эти две группы − тоже очень логичный шаг.\n",
    "</div>"
   ]
  },
  {
   "cell_type": "code",
   "execution_count": 29,
   "id": "dc682ed2",
   "metadata": {},
   "outputs": [],
   "source": [
    "data['parent'] = (data['children'] > 0)*1"
   ]
  },
  {
   "cell_type": "markdown",
   "id": "65cf6286",
   "metadata": {},
   "source": [
    "<div class=\"alert alert-success\">\n",
    "<h2> Комментарий ревьюера <a class=\"tocSkip\"> </h2>\n",
    "\n",
    "👍  Отличное компактное решение по коду.\n",
    "</div>"
   ]
  },
  {
   "cell_type": "markdown",
   "id": "781ce5aa",
   "metadata": {},
   "source": [
    "Рассмотрим средний процент должников у бездетных клиентов и клиентов с детьми:"
   ]
  },
  {
   "cell_type": "code",
   "execution_count": 30,
   "id": "f4ed6562",
   "metadata": {},
   "outputs": [
    {
     "data": {
      "text/plain": [
       "parent\n",
       "0    7.543822\n",
       "1    9.240331\n",
       "Name: debt, dtype: float64"
      ]
     },
     "execution_count": 30,
     "metadata": {},
     "output_type": "execute_result"
    }
   ],
   "source": [
    "data.groupby('parent')['debt'].mean()*100"
   ]
  },
  {
   "cell_type": "markdown",
   "id": "97ae3d76",
   "metadata": {},
   "source": [
    "Рассмотрим доли родителей в группах должников и добросовестных клиентов"
   ]
  },
  {
   "cell_type": "code",
   "execution_count": 31,
   "id": "da04e4f6",
   "metadata": {},
   "outputs": [
    {
     "data": {
      "text/plain": [
       "debt  parent\n",
       "0     0         13028\n",
       "      1          6571\n",
       "1     0          1063\n",
       "      1           669\n",
       "Name: debt, dtype: int64"
      ]
     },
     "execution_count": 31,
     "metadata": {},
     "output_type": "execute_result"
    }
   ],
   "source": [
    "data.groupby(['debt','parent'])['debt'].count()"
   ]
  },
  {
   "cell_type": "code",
   "execution_count": 32,
   "id": "6915ff68",
   "metadata": {},
   "outputs": [],
   "source": [
    "import matplotlib.pyplot as plt"
   ]
  },
  {
   "cell_type": "code",
   "execution_count": 33,
   "id": "bb6a10cc",
   "metadata": {},
   "outputs": [
    {
     "data": {
      "image/png": "[encoded data removed]",
      "text/plain": [
       "<Figure size 1080x720 with 2 Axes>"
      ]
     },
     "metadata": {},
     "output_type": "display_data"
    }
   ],
   "source": [
    "grouped_debtors = (pd.DataFrame({\n",
    "                    'debtors_groups':['Должники','НЕдолжники'], \n",
    "                    'Родители':[669,6571],\n",
    "                    'НЕ родители':[1063,13028]})\n",
    "                    .set_index('debtors_groups')\n",
    "                  )\n",
    "\n",
    "grouped_debtors.plot(kind='pie',\n",
    "                     title='Доля должников в двух группах клиентов:\\n слева - родители, справа - бездетные',\n",
    "                     subplots='True',\n",
    "                     rot=45,\n",
    "                     legend=False,\n",
    "                     figsize = (15,10),\n",
    "                     autopct='%.1f',\n",
    "                     labels=['Должники',''],\n",
    "                     explode=[0.05, 0.05],\n",
    "                     fontsize= 15,\n",
    "                     ylabel= '',\n",
    "                     center = (7,0))\n",
    "\n",
    "#plt.title('Название графика')\n",
    "plt.show()"
   ]
  },
  {
   "cell_type": "markdown",
   "id": "860b4dc4",
   "metadata": {},
   "source": [
    "<font color='blue'>Подключил пайплот, поправил график. Через plt.title('Название графика') он вставляет название только к правому пирогу. Надо наверное отстраивать каждый пирог по отдельности через axes <font>"
   ]
  },
  {
   "cell_type": "markdown",
   "id": "45fc1a7c",
   "metadata": {},
   "source": [
    "<div class=\"alert alert-success\">\n",
    "<h2> Комментарий ревьюера #2 <a class=\"tocSkip\"> </h2>\n",
    "\n",
    "👍 Хм, я обычно делаю через сабплотс. Рисуешь сетку, затем отрисовываешь графики и они «встают» в сетку в нужной очереди. \n",
    "    \n",
    "Примеры по оформлению: https://habr.com/ru/post/468295/\n",
    "</div>"
   ]
  },
  {
   "cell_type": "markdown",
   "id": "de3c2f1d",
   "metadata": {},
   "source": [
    "<div class=\"alert alert-warning\">\n",
    "<h2> Комментарий ревьюера <a class=\"tocSkip\"> </h2>\n",
    "    \n",
    "<b>Некоторые замечания и рекомендации💡:</b> \n",
    "\n",
    "Хороший график. Я бы его подписал, увеличил, а также убрал бы служебную информацию вверху. Последнее можно сделать с помощью строки `plt.show()` после кода графика и до вывода. \n",
    "    \n",
    "Подпись графика также можно сделать через параметры plt.title('Название графика').\n",
    "    \n",
    "*Предварительно нужно подключить `import matplotlib.pyplot as plt`\n",
    "       \n",
    "</div>\n"
   ]
  },
  {
   "cell_type": "markdown",
   "id": "87eeb10e",
   "metadata": {},
   "source": [
    "Теперь аналогичным образом применим тест хи-квадрат для 2X2 групп (должники/добросовестные и бездетные/родители) и оценим уровень достоверности различий."
   ]
  },
  {
   "cell_type": "code",
   "execution_count": 34,
   "id": "341a7a41",
   "metadata": {},
   "outputs": [
    {
     "data": {
      "text/plain": [
       "1.9634766179716872e-05"
      ]
     },
     "execution_count": 34,
     "metadata": {},
     "output_type": "execute_result"
    }
   ],
   "source": [
    "data.groupby(['parent','debt'])['debt'].count()\n",
    "\n",
    "debt_0 = [13028,6571]\n",
    "debt_1 = [1063, 669]\n",
    "debt_groups = [debt_0, debt_1]\n",
    "\n",
    "stat, p, dof, expected = chi2_contingency(debt_groups)\n",
    "p"
   ]
  },
  {
   "cell_type": "markdown",
   "id": "96cd9bbc",
   "metadata": {
    "deletable": false,
    "id": "3a6b99ec"
   },
   "source": [
    "**Вывод:** \n",
    "Таким образом, мы подтвердили что вероятность задолженности положительно связана с наличием детей. \n",
    "Доля родителей среди должников немного, но достоверно выше, однако нельзя сказать, что она растет по мере увеличения числа детей. То есть большее влияние оказывает сам факт родительства, а не количество детей."
   ]
  },
  {
   "cell_type": "markdown",
   "id": "ee50dba6",
   "metadata": {},
   "source": [
    "<div class=\"alert alert-success\">\n",
    "<h2> Комментарий ревьюера <a class=\"tocSkip\"> </h2>\n",
    "\n",
    "👍 Хорошая работа. Конечно, как можно догадаться, такого широкого исследования изначально не предполагалось, но да, все сделано корректно, результаты верные: данным по пяти детям мало, учитывать их не следует (отдельно). Можно сгруппировать по двум категориям, сравниваем, получаем вывод, что бездетные более надежные заемщики. По остальным категориям зависимость не сильно прослеживается.\n",
    "    \n",
    "</div>\n"
   ]
  },
  {
   "cell_type": "markdown",
   "id": "de145951",
   "metadata": {
    "deletable": false,
    "editable": false,
    "id": "97be82ca"
   },
   "source": [
    "#### 3.2 Есть ли зависимость между семейным положением и возвратом кредита в срок?"
   ]
  },
  {
   "cell_type": "markdown",
   "id": "04472f39",
   "metadata": {},
   "source": [
    "Посмотрим на выборку по семейному статусу:"
   ]
  },
  {
   "cell_type": "code",
   "execution_count": 35,
   "id": "bdf736ac",
   "metadata": {
    "deletable": false,
    "id": "dc3f7ee8"
   },
   "outputs": [
    {
     "data": {
      "text/plain": [
       "женат / замужем          12261\n",
       "гражданский брак          4134\n",
       "Не женат / не замужем     2796\n",
       "в разводе                 1189\n",
       "вдовец / вдова             951\n",
       "Name: family_status, dtype: int64"
      ]
     },
     "metadata": {},
     "output_type": "display_data"
    },
    {
     "data": {
      "text/plain": [
       "женат / замужем          0.574797\n",
       "гражданский брак         0.193802\n",
       "Не женат / не замужем    0.131077\n",
       "в разводе                0.055740\n",
       "вдовец / вдова           0.044583\n",
       "Name: family_status, dtype: float64"
      ]
     },
     "execution_count": 35,
     "metadata": {},
     "output_type": "execute_result"
    }
   ],
   "source": [
    "display(data['family_status'].value_counts())\n",
    "data['family_status'].value_counts()/len(data)"
   ]
  },
  {
   "cell_type": "markdown",
   "id": "c06ed22d",
   "metadata": {},
   "source": [
    "Похоже, что выборка достаточна для анализа. Оценим средний процент в разных группах:"
   ]
  },
  {
   "cell_type": "code",
   "execution_count": 36,
   "id": "78ec3629",
   "metadata": {},
   "outputs": [
    {
     "data": {
      "text/plain": [
       "'Процент должников среди заёмщиков с разным семейным статусом:'"
      ]
     },
     "metadata": {},
     "output_type": "display_data"
    },
    {
     "data": {
      "text/plain": [
       "family_status\n",
       "Не женат / не замужем    9.763948\n",
       "в разводе                7.064760\n",
       "вдовец / вдова           6.624606\n",
       "гражданский брак         9.313014\n",
       "женат / замужем          7.560558\n",
       "Name: debt, dtype: float64"
      ]
     },
     "execution_count": 36,
     "metadata": {},
     "output_type": "execute_result"
    },
    {
     "data": {
      "image/png": "[encoded data removed]",
      "text/plain": [
       "<Figure size 720x432 with 1 Axes>"
      ]
     },
     "metadata": {
      "needs_background": "light"
     },
     "output_type": "display_data"
    }
   ],
   "source": [
    "((data.groupby('family_status')['debt']\n",
    "   .mean()*100)\n",
    "   .plot(kind = 'bar',\n",
    "         ylim = (0,10),\n",
    "         rot =45,\n",
    "         title = \"Процент должников, среди заёмщиков с разным семейным статусом\",\n",
    "         figsize = (10,6),\n",
    "         xlabel = \"\",\n",
    "         ylabel = \"%\")\n",
    ")\n",
    "\n",
    "display('Процент должников среди заёмщиков с разным семейным статусом:')\n",
    "data.groupby('family_status')['debt'].mean()*100"
   ]
  },
  {
   "cell_type": "markdown",
   "id": "36d89c04",
   "metadata": {},
   "source": [
    "Средний процент должником меняется от 6.6 у вдовцов/вдов до 9.8 у одиноких холостяков. В целом можно сказзать, что опыт жизни в браке положительно связан с кредитной историей клиента. Попробуем оценить различия в распределении должников по группам"
   ]
  },
  {
   "cell_type": "code",
   "execution_count": 37,
   "id": "1a8543ab",
   "metadata": {},
   "outputs": [
    {
     "data": {
      "text/html": [
       "<div>\n",
       "<style scoped>\n",
       "    .dataframe tbody tr th:only-of-type {\n",
       "        vertical-align: middle;\n",
       "    }\n",
       "\n",
       "    .dataframe tbody tr th {\n",
       "        vertical-align: top;\n",
       "    }\n",
       "\n",
       "    .dataframe thead th {\n",
       "        text-align: right;\n",
       "    }\n",
       "</style>\n",
       "<table border=\"1\" class=\"dataframe\">\n",
       "  <thead>\n",
       "    <tr style=\"text-align: right;\">\n",
       "      <th></th>\n",
       "      <th>debt_Должники</th>\n",
       "      <th>debt_НЕдолжники</th>\n",
       "    </tr>\n",
       "    <tr>\n",
       "      <th>family_status</th>\n",
       "      <th></th>\n",
       "      <th></th>\n",
       "    </tr>\n",
       "  </thead>\n",
       "  <tbody>\n",
       "    <tr>\n",
       "      <th>Не женат / не замужем</th>\n",
       "      <td>15.762125</td>\n",
       "      <td>12.873106</td>\n",
       "    </tr>\n",
       "    <tr>\n",
       "      <th>в разводе</th>\n",
       "      <td>4.849885</td>\n",
       "      <td>5.638043</td>\n",
       "    </tr>\n",
       "    <tr>\n",
       "      <th>вдовец / вдова</th>\n",
       "      <td>3.637413</td>\n",
       "      <td>4.530843</td>\n",
       "    </tr>\n",
       "    <tr>\n",
       "      <th>гражданский брак</th>\n",
       "      <td>22.228637</td>\n",
       "      <td>19.128527</td>\n",
       "    </tr>\n",
       "    <tr>\n",
       "      <th>женат / замужем</th>\n",
       "      <td>53.521940</td>\n",
       "      <td>57.829481</td>\n",
       "    </tr>\n",
       "  </tbody>\n",
       "</table>\n",
       "</div>"
      ],
      "text/plain": [
       "                       debt_Должники  debt_НЕдолжники\n",
       "family_status                                        \n",
       "Не женат / не замужем      15.762125        12.873106\n",
       "в разводе                   4.849885         5.638043\n",
       "вдовец / вдова              3.637413         4.530843\n",
       "гражданский брак           22.228637        19.128527\n",
       "женат / замужем            53.521940        57.829481"
      ]
     },
     "execution_count": 37,
     "metadata": {},
     "output_type": "execute_result"
    },
    {
     "data": {
      "image/png": "[encoded data removed]",
      "text/plain": [
       "<Figure size 720x432 with 1 Axes>"
      ]
     },
     "metadata": {
      "needs_background": "light"
     },
     "output_type": "display_data"
    }
   ],
   "source": [
    "#Добросовестные клиенты\n",
    "fair = ((data[data['debt'] == 0]\n",
    "            .groupby('family_status')['debt']\n",
    "            .count()/len(data[data['debt'] == 0])*100)\n",
    "            .to_frame())\n",
    "#Должники\n",
    "debtors = ((data[data['debt'] == 1]\n",
    "            .groupby('family_status')['debt']\n",
    "            .count()/len(data[data['debt'] == 1])*100)\n",
    "            .to_frame())\n",
    "\n",
    "debtors_group = debtors.merge(fair, on = 'family_status', suffixes = ('_Должники', '_НЕдолжники'))\n",
    "debtors_group.plot(rot = 45, \n",
    "                   kind = 'bar', \n",
    "                   figsize =(10,6),\n",
    "                   title = \"Процент клиентов с разным семейным статусом\",\n",
    "                   xlabel = \"\",\n",
    "                   ylabel = \"%\"\n",
    "                  )\n",
    "debtors_group\n"
   ]
  },
  {
   "cell_type": "markdown",
   "id": "2f28ff14",
   "metadata": {},
   "source": [
    "Более половины заёмщиков состоят в официальном браке. В два раза меньше тех, кто живет в гражданском браке.\n",
    "У тех, кто имеет или имел (развод, смерть супруга) официального супруга процент должников несколько ниже. \n",
    "Оценим достоверность различий в тесте хи-квадрат."
   ]
  },
  {
   "cell_type": "code",
   "execution_count": 38,
   "id": "42706c9f",
   "metadata": {},
   "outputs": [
    {
     "data": {
      "text/plain": [
       "debt  family_status        \n",
       "0     Не женат / не замужем     2523\n",
       "      в разводе                 1105\n",
       "      вдовец / вдова             888\n",
       "      гражданский брак          3749\n",
       "      женат / замужем          11334\n",
       "1     Не женат / не замужем      273\n",
       "      в разводе                   84\n",
       "      вдовец / вдова              63\n",
       "      гражданский брак           385\n",
       "      женат / замужем            927\n",
       "Name: debt, dtype: int64"
      ]
     },
     "execution_count": 38,
     "metadata": {},
     "output_type": "execute_result"
    }
   ],
   "source": [
    "data.groupby(['debt','family_status'])['debt'].count()"
   ]
  },
  {
   "cell_type": "code",
   "execution_count": 39,
   "id": "b8851bc6",
   "metadata": {},
   "outputs": [
    {
     "data": {
      "text/plain": [
       "1.3792030784697705e-05"
      ]
     },
     "execution_count": 39,
     "metadata": {},
     "output_type": "execute_result"
    }
   ],
   "source": [
    "debt_0 = [2523, 1105, 888, 3749, 11334]\n",
    "debt_1 = [273 , 84  , 63 , 385 , 927]\n",
    "debt_groups = [debt_0, debt_1]\n",
    "\n",
    "stat, p, dof, expected = chi2_contingency(debt_groups)\n",
    "p"
   ]
  },
  {
   "cell_type": "markdown",
   "id": "eeda6524",
   "metadata": {},
   "source": [
    "Различия достверны."
   ]
  },
  {
   "cell_type": "markdown",
   "id": "7a3b6003",
   "metadata": {
    "deletable": false,
    "id": "1cef7837"
   },
   "source": [
    "**Вывод:** \n",
    "Вероятность возврата кредита в срок связана с семейным статусом. \n",
    "Похоже, что опыт официального брака (в том числе и прошлый) снижает вероятность возникновения задолженности "
   ]
  },
  {
   "cell_type": "markdown",
   "id": "1bee790d",
   "metadata": {},
   "source": [
    "<div class=\"alert alert-success\">\n",
    "<h2> Комментарий ревьюера <a class=\"tocSkip\"> </h2>\n",
    "\n",
    "👍 Отлично\n",
    "</div>\n"
   ]
  },
  {
   "cell_type": "markdown",
   "id": "7dc3c9e7",
   "metadata": {
    "deletable": false,
    "editable": false,
    "id": "1e8b2fca"
   },
   "source": [
    "#### 3.3 Есть ли зависимость между уровнем дохода и возвратом кредита в срок?"
   ]
  },
  {
   "cell_type": "markdown",
   "id": "0f2b702b",
   "metadata": {
    "deletable": false,
    "id": "cd7e3720"
   },
   "source": [
    "Рассмотрим выборку по уровню дохода."
   ]
  },
  {
   "cell_type": "code",
   "execution_count": 40,
   "id": "933cc296",
   "metadata": {},
   "outputs": [
    {
     "data": {
      "text/html": [
       "<div>\n",
       "<style scoped>\n",
       "    .dataframe tbody tr th:only-of-type {\n",
       "        vertical-align: middle;\n",
       "    }\n",
       "\n",
       "    .dataframe tbody tr th {\n",
       "        vertical-align: top;\n",
       "    }\n",
       "\n",
       "    .dataframe thead th {\n",
       "        text-align: right;\n",
       "    }\n",
       "</style>\n",
       "<table border=\"1\" class=\"dataframe\">\n",
       "  <thead>\n",
       "    <tr style=\"text-align: right;\">\n",
       "      <th></th>\n",
       "      <th>count</th>\n",
       "      <th>mean</th>\n",
       "      <th>median</th>\n",
       "    </tr>\n",
       "    <tr>\n",
       "      <th>debt</th>\n",
       "      <th></th>\n",
       "      <th></th>\n",
       "      <th></th>\n",
       "    </tr>\n",
       "  </thead>\n",
       "  <tbody>\n",
       "    <tr>\n",
       "      <th>0</th>\n",
       "      <td>19599</td>\n",
       "      <td>165713.065105</td>\n",
       "      <td>142594</td>\n",
       "    </tr>\n",
       "    <tr>\n",
       "      <th>1</th>\n",
       "      <td>1732</td>\n",
       "      <td>161152.278868</td>\n",
       "      <td>142594</td>\n",
       "    </tr>\n",
       "  </tbody>\n",
       "</table>\n",
       "</div>"
      ],
      "text/plain": [
       "      count           mean  median\n",
       "debt                              \n",
       "0     19599  165713.065105  142594\n",
       "1      1732  161152.278868  142594"
      ]
     },
     "execution_count": 40,
     "metadata": {},
     "output_type": "execute_result"
    },
    {
     "data": {
      "image/png": "[encoded data removed]",
      "text/plain": [
       "<Figure size 576x432 with 1 Axes>"
      ]
     },
     "metadata": {
      "needs_background": "light"
     },
     "output_type": "display_data"
    }
   ],
   "source": [
    "data.boxplot(column = 'total_income', by = 'debt', figsize = (8,6), showfliers=False, grid=True)\n",
    "data.groupby('debt')['total_income'].agg(['count','mean','median'])"
   ]
  },
  {
   "cell_type": "markdown",
   "id": "f38d5d37",
   "metadata": {},
   "source": [
    "Похоже должники практически не отличаются от добросовестных заёмщиков по уровню зарплаты. \n",
    "Медианная зарплата у обеих групп идентичная. Чтобы убедиться в отсутствии различий между группами  проведем U тест Манна-Уитни "
   ]
  },
  {
   "cell_type": "code",
   "execution_count": 41,
   "id": "795b35ef",
   "metadata": {},
   "outputs": [
    {
     "data": {
      "text/plain": [
       "MannwhitneyuResult(statistic=17343904.0, pvalue=0.13076810497423266)"
      ]
     },
     "execution_count": 41,
     "metadata": {},
     "output_type": "execute_result"
    }
   ],
   "source": [
    "debt_0 = data[data['debt'] == 0]['total_income']\n",
    "debt_1 = data[data['debt'] == 1]['total_income']\n",
    "\n",
    "stats.mannwhitneyu (debt_0, debt_1)"
   ]
  },
  {
   "cell_type": "markdown",
   "id": "a61748f8",
   "metadata": {},
   "source": [
    "Значение уровня достоверности больше 0.05 это значит, что видимые небольшие различия в зарплатах между двумя группами недостоверны. <font color='blue'> Добавим анализ отдельных зарплатных категорий: <font>"
   ]
  },
  {
   "cell_type": "markdown",
   "id": "a6ca71cd",
   "metadata": {},
   "source": [
    "<font color='blue'> Сперва оценим выборку по разным категориям <font>"
   ]
  },
  {
   "cell_type": "code",
   "execution_count": 42,
   "id": "3f23c878",
   "metadata": {},
   "outputs": [
    {
     "data": {
      "text/plain": [
       "C    15921\n",
       "B     5014\n",
       "D      349\n",
       "A       25\n",
       "E       22\n",
       "Name: total_income_category, dtype: int64"
      ]
     },
     "metadata": {},
     "output_type": "display_data"
    },
    {
     "data": {
      "text/plain": [
       "C    0.746379\n",
       "B    0.235057\n",
       "D    0.016361\n",
       "A    0.001172\n",
       "E    0.001031\n",
       "Name: total_income_category, dtype: float64"
      ]
     },
     "execution_count": 42,
     "metadata": {},
     "output_type": "execute_result"
    }
   ],
   "source": [
    "display(data['total_income_category'].value_counts())\n",
    "data['total_income_category'].value_counts()/len(data)\n",
    "\n",
    "#data.groupby('total_income_category')['debt'].agg(['count'])"
   ]
  },
  {
   "cell_type": "markdown",
   "id": "75ab4a3d",
   "metadata": {},
   "source": [
    "<font color='blue'>Видно, что в выборке крайне мало ( по 0.1%) тех, кто получает больше 1 млн и меньше 30 тысяч рублей. Посчитаем процент должников в группах<font>"
   ]
  },
  {
   "cell_type": "code",
   "execution_count": 43,
   "id": "27be8f07",
   "metadata": {},
   "outputs": [
    {
     "data": {
      "text/plain": [
       "total_income_category\n",
       "A    8.000000\n",
       "B    7.060231\n",
       "C    8.498210\n",
       "D    6.017192\n",
       "E    9.090909\n",
       "Name: debt, dtype: float64"
      ]
     },
     "execution_count": 43,
     "metadata": {},
     "output_type": "execute_result"
    },
    {
     "data": {
      "image/png": "[encoded data removed]",
      "text/plain": [
       "<Figure size 720x432 with 1 Axes>"
      ]
     },
     "metadata": {
      "needs_background": "light"
     },
     "output_type": "display_data"
    }
   ],
   "source": [
    "((data.groupby('total_income_category')['debt']\n",
    "   .mean()*100)\n",
    "   .plot(kind = 'bar',\n",
    "         ylim = (0,10),\n",
    "         rot =45,\n",
    "         title = \"Процент должников, среди заёмщиков с разным доходом\",\n",
    "         figsize = (10,6),\n",
    "         xlabel = \"\",\n",
    "         ylabel = \"%\",\n",
    "         grid=True)\n",
    ")\n",
    "\n",
    "\n",
    "data.groupby('total_income_category')['debt'].mean()*100"
   ]
  },
  {
   "cell_type": "markdown",
   "id": "eeff9b29",
   "metadata": {},
   "source": [
    "<font color='blue'>Посчитаем процент клиентов разных зарплатных групп<font>"
   ]
  },
  {
   "cell_type": "code",
   "execution_count": 44,
   "id": "805f69f2",
   "metadata": {},
   "outputs": [
    {
     "data": {
      "text/html": [
       "<div>\n",
       "<style scoped>\n",
       "    .dataframe tbody tr th:only-of-type {\n",
       "        vertical-align: middle;\n",
       "    }\n",
       "\n",
       "    .dataframe tbody tr th {\n",
       "        vertical-align: top;\n",
       "    }\n",
       "\n",
       "    .dataframe thead th {\n",
       "        text-align: right;\n",
       "    }\n",
       "</style>\n",
       "<table border=\"1\" class=\"dataframe\">\n",
       "  <thead>\n",
       "    <tr style=\"text-align: right;\">\n",
       "      <th></th>\n",
       "      <th>debt_Должники</th>\n",
       "      <th>debt_НЕдолжники</th>\n",
       "    </tr>\n",
       "    <tr>\n",
       "      <th>total_income_category</th>\n",
       "      <th></th>\n",
       "      <th></th>\n",
       "    </tr>\n",
       "  </thead>\n",
       "  <tbody>\n",
       "    <tr>\n",
       "      <th>B</th>\n",
       "      <td>20.438799</td>\n",
       "      <td>23.776723</td>\n",
       "    </tr>\n",
       "    <tr>\n",
       "      <th>C</th>\n",
       "      <td>78.117783</td>\n",
       "      <td>74.330323</td>\n",
       "    </tr>\n",
       "  </tbody>\n",
       "</table>\n",
       "</div>"
      ],
      "text/plain": [
       "                       debt_Должники  debt_НЕдолжники\n",
       "total_income_category                                \n",
       "B                          20.438799        23.776723\n",
       "C                          78.117783        74.330323"
      ]
     },
     "execution_count": 44,
     "metadata": {},
     "output_type": "execute_result"
    },
    {
     "data": {
      "image/png": "[encoded data removed]",
      "text/plain": [
       "<Figure size 720x432 with 1 Axes>"
      ]
     },
     "metadata": {
      "needs_background": "light"
     },
     "output_type": "display_data"
    }
   ],
   "source": [
    "#Добросовестные клиенты\n",
    "fair = ((data[(data['debt'] == 0) & (data['total_income_category'].isin(['B','C']))]\n",
    "            .groupby('total_income_category')['debt']\n",
    "            .count()/len(data[data['debt'] == 0])*100)\n",
    "            .to_frame())\n",
    "#Должники\n",
    "debtors = ((data[(data['debt'] == 1) & (data['total_income_category'].isin(['B','C']))]\n",
    "            .groupby('total_income_category')['debt']\n",
    "            .count()/len(data[data['debt'] == 1])*100)\n",
    "            .to_frame())\n",
    "    \n",
    "\n",
    "debtors_group = debtors.merge(fair, on = 'total_income_category', suffixes = ('_Должники', '_НЕдолжники'))\n",
    "debtors_group.plot(rot = 45, \n",
    "                   kind = 'bar', \n",
    "                   figsize =(10,6),\n",
    "                   title = \"Процент клиентов с разной зарплатой\",\n",
    "                   xlabel = \"\",\n",
    "                   ylabel = \"%\"\n",
    "                  )\n",
    "debtors_group"
   ]
  },
  {
   "cell_type": "markdown",
   "id": "e7945a79",
   "metadata": {},
   "source": [
    "<font color='blue'>Посчитаем процент клиентов в группах A D E<font>"
   ]
  },
  {
   "cell_type": "code",
   "execution_count": 45,
   "id": "4a3414c6",
   "metadata": {},
   "outputs": [
    {
     "data": {
      "text/html": [
       "<div>\n",
       "<style scoped>\n",
       "    .dataframe tbody tr th:only-of-type {\n",
       "        vertical-align: middle;\n",
       "    }\n",
       "\n",
       "    .dataframe tbody tr th {\n",
       "        vertical-align: top;\n",
       "    }\n",
       "\n",
       "    .dataframe thead th {\n",
       "        text-align: right;\n",
       "    }\n",
       "</style>\n",
       "<table border=\"1\" class=\"dataframe\">\n",
       "  <thead>\n",
       "    <tr style=\"text-align: right;\">\n",
       "      <th></th>\n",
       "      <th>debt_Должники</th>\n",
       "      <th>debt_НЕдолжники</th>\n",
       "    </tr>\n",
       "    <tr>\n",
       "      <th>total_income_category</th>\n",
       "      <th></th>\n",
       "      <th></th>\n",
       "    </tr>\n",
       "  </thead>\n",
       "  <tbody>\n",
       "    <tr>\n",
       "      <th>A</th>\n",
       "      <td>0.115473</td>\n",
       "      <td>0.117353</td>\n",
       "    </tr>\n",
       "    <tr>\n",
       "      <th>D</th>\n",
       "      <td>1.212471</td>\n",
       "      <td>1.673555</td>\n",
       "    </tr>\n",
       "    <tr>\n",
       "      <th>E</th>\n",
       "      <td>0.115473</td>\n",
       "      <td>0.102046</td>\n",
       "    </tr>\n",
       "  </tbody>\n",
       "</table>\n",
       "</div>"
      ],
      "text/plain": [
       "                       debt_Должники  debt_НЕдолжники\n",
       "total_income_category                                \n",
       "A                           0.115473         0.117353\n",
       "D                           1.212471         1.673555\n",
       "E                           0.115473         0.102046"
      ]
     },
     "execution_count": 45,
     "metadata": {},
     "output_type": "execute_result"
    },
    {
     "data": {
      "image/png": "[encoded data removed]",
      "text/plain": [
       "<Figure size 720x432 with 1 Axes>"
      ]
     },
     "metadata": {
      "needs_background": "light"
     },
     "output_type": "display_data"
    }
   ],
   "source": [
    "#Добросовестные клиенты\n",
    "fair = ((data[(data['debt'] == 0) & (data['total_income_category'].isin(['A','D','E']))]\n",
    "            .groupby('total_income_category')['debt']\n",
    "            .count()/len(data[data['debt'] == 0])*100)\n",
    "            .to_frame())\n",
    "\n",
    "#Должники\n",
    "debtors = ((data[(data['debt'] == 1) & (data['total_income_category'].isin(['A','D','E']))]\n",
    "            .groupby('total_income_category')['debt']\n",
    "            .count()/len(data[data['debt'] == 1])*100)\n",
    "            .to_frame()\n",
    "          )\n",
    "\n",
    "debtors_group = debtors.merge(fair, on = 'total_income_category', suffixes = ('_Должники', '_НЕдолжники'))\n",
    "debtors_group.plot(rot = 45, \n",
    "                   kind = 'bar', \n",
    "                   figsize =(10,6),\n",
    "                   title = \"Процент клиентов с разной зарплатой\",\n",
    "                   xlabel = \"\",\n",
    "                   ylabel = \"%\")\n",
    "debtors_group"
   ]
  },
  {
   "cell_type": "markdown",
   "id": "47e9cced",
   "metadata": {},
   "source": [
    "<font color='blue'>По отдельным категориям видны небольшие различия в долях должников. Попробуем оценить их отдельными тестами\n",
    "<font>"
   ]
  },
  {
   "cell_type": "code",
   "execution_count": 46,
   "id": "fb4dc38f",
   "metadata": {},
   "outputs": [
    {
     "name": "stdout",
     "output_type": "stream",
     "text": [
      "Income A category reuslt: MannwhitneyuResult(statistic=21.0, pvalue=0.8800000000000001)\n",
      "Income B category reuslt: MannwhitneyuResult(statistic=835322.0, pvalue=0.6891891377172983)\n",
      "Income C category reuslt: MannwhitneyuResult(statistic=9717276.0, pvalue=0.3934731067974102)\n",
      "Income D category reuslt: MannwhitneyuResult(statistic=3592.0, pvalue=0.7420948806302478)\n",
      "Income E category reuslt: MannwhitneyuResult(statistic=23.0, pvalue=0.7792207792207793)\n"
     ]
    }
   ],
   "source": [
    "for category in ['A','B','C','D','E']:\n",
    "    cat_filter_0 = (data['debt'] == 0) & (data['total_income_category'] == category)\n",
    "    cat_filter_1 = (data['debt'] == 1) & (data['total_income_category'] == category)\n",
    "    \n",
    "    debt_0 = data[cat_filter_0]['total_income']\n",
    "    debt_1 = data[cat_filter_1]['total_income']\n",
    "    print(f'Income {category} category reuslt:', stats.mannwhitneyu (debt_0, debt_1))"
   ]
  },
  {
   "cell_type": "markdown",
   "id": "b29762e8",
   "metadata": {},
   "source": [
    "<font color='blue'>\n",
    "Тест Манна-Уитни не обнаружил достоверных различий между грппами в разных зарплатных когортах<font>\n",
    "    \n",
    "  <font color='blue'>  Построим боксплоты для категорий \n",
    "- С (50-200 тыс) \n",
    "- D (30-50 тыс)\n",
    "- E (< 30 тыс)\n",
    "<font>"
   ]
  },
  {
   "cell_type": "code",
   "execution_count": 47,
   "id": "dbfc04b1",
   "metadata": {},
   "outputs": [
    {
     "data": {
      "image/png": "[encoded data removed]",
      "text/plain": [
       "<Figure size 576x432 with 1 Axes>"
      ]
     },
     "metadata": {
      "needs_background": "light"
     },
     "output_type": "display_data"
    },
    {
     "data": {
      "image/png": "[encoded data removed]",
      "text/plain": [
       "<Figure size 576x432 with 1 Axes>"
      ]
     },
     "metadata": {
      "needs_background": "light"
     },
     "output_type": "display_data"
    }
   ],
   "source": [
    "data[data['total_income_category'].isin(['C','D','E'])].boxplot(column = 'total_income',\n",
    "                                                   by = ['total_income_category','debt'],\n",
    "                                                   figsize = (8,6),\n",
    "                                                   showfliers=False,\n",
    "                                                   grid=False)\n",
    "\n",
    "data[data['total_income_category'].isin(['A','B'])].boxplot(column = 'total_income',\n",
    "                                                   by = ['total_income_category','debt'],\n",
    "                                                   figsize = (8,6),\n",
    "                                                   showfliers=False,\n",
    "                                                   grid=False)\n",
    "\n",
    "\n",
    "plt.show()"
   ]
  },
  {
   "cell_type": "markdown",
   "id": "262b33ff",
   "metadata": {},
   "source": [
    "<font color='blue'>Различия в разных зарплатные когортах клиентов недостоверны. \n",
    "Однако стоит обратить внимание на крайне низкую долю заёмщиков с зарплатой категории Е - менее 30 тысяч рублей. \n",
    "Либо банк массово отказывает таким клиентам, либо граждане с такой зарплатой не рассчитывают/опасаются брать кредит\n",
    "<font>"
   ]
  },
  {
   "cell_type": "markdown",
   "id": "aa4a43c8",
   "metadata": {},
   "source": [
    "<div class=\"alert alert-success\">\n",
    "<h2> Комментарий ревьюера #2 <a class=\"tocSkip\"> </h2>\n",
    "\n",
    "👍 Согласен. Спасибо за дополнение.\n",
    "</div>\n"
   ]
  },
  {
   "cell_type": "markdown",
   "id": "ff362cc8",
   "metadata": {
    "deletable": false,
    "id": "e8593def"
   },
   "source": [
    "**Вывод:**\n",
    "Уровень дохода не связан с вероятностью возврата кредит в срок, однако группа клиентов с зарплатой менее 30 тысяч недостаточна для полноценного анализа."
   ]
  },
  {
   "cell_type": "markdown",
   "id": "bf2e2865",
   "metadata": {},
   "source": [
    "<div class=\"alert alert-warning\">\n",
    "<h2> Комментарий ревьюера <a class=\"tocSkip\"> </h2>\n",
    "    \n",
    "<b>Некоторые замечания и рекомендации💡:</b> \n",
    "    \n",
    "Все верно. Действительно, видно (а уж с тестом точно) что различий по категориям доходов нет. Однако есть нюанс.\n",
    "\n",
    "Что касается группы «Е» с доходом ниже 30 тысяч в месяц. Мы знаем, что это примерно соответствует медианной зарплате в России. Мы ожидаем, что таких клиентов у банка будет много. Однако в нашей выборке их почти нет. Следовательно, банк изначально отказывал таким клиентам в выдаче кредита. Почти всем.\n",
    "    \n",
    "Из 22 человек, которым банк все-таки одобрил кредит, в двух случаях заемщики допустили просрочку. Выборка небольшая, но если бы мы предполагали, что дисциплинированность таких заемщиков находится на среднем уровне для нашего датасета (примерно 8%), то мы бы ожидали там увидеть либо ноль, либо одного должника. Так как у нас произошло с малочисленной группой заемщиков с пятью детьми. Однако здесь мы видим аж двух клиентов, допустивших просрочку. Это как минимум говорит нам о том, что нужно пометить эту категорию как несущую для банка повышенный риск. И да, не лишним будет добавить, что для окончательных выводов не хватает данных.\n",
    "       \n",
    "</div>"
   ]
  },
  {
   "cell_type": "markdown",
   "id": "27a0835f",
   "metadata": {
    "deletable": false,
    "editable": false,
    "id": "99ecbd1f"
   },
   "source": [
    "#### 3.4 Как разные цели кредита влияют на его возврат в срок?"
   ]
  },
  {
   "cell_type": "markdown",
   "id": "40be42e4",
   "metadata": {
    "deletable": false,
    "id": "2b687290"
   },
   "source": [
    "Рассмотрим выборку по целям кредита."
   ]
  },
  {
   "cell_type": "code",
   "execution_count": 48,
   "id": "e74cd49b",
   "metadata": {},
   "outputs": [
    {
     "data": {
      "text/plain": [
       "операции с недвижимостью    10751\n",
       "операции с автомобилем       4279\n",
       "получение образования        3988\n",
       "проведение свадьбы           2313\n",
       "Name: purpose_category, dtype: int64"
      ]
     },
     "metadata": {},
     "output_type": "display_data"
    },
    {
     "data": {
      "text/plain": [
       "операции с недвижимостью    0.504008\n",
       "операции с автомобилем      0.200600\n",
       "получение образования       0.186958\n",
       "проведение свадьбы          0.108434\n",
       "Name: purpose_category, dtype: float64"
      ]
     },
     "execution_count": 48,
     "metadata": {},
     "output_type": "execute_result"
    }
   ],
   "source": [
    "display(data['purpose_category'].value_counts())\n",
    "data['purpose_category'].value_counts()/len(data)\n"
   ]
  },
  {
   "cell_type": "markdown",
   "id": "af842b7c",
   "metadata": {},
   "source": [
    "Похоже, что выборка достаточна для анализа. Оценим средний процент в разных группах:"
   ]
  },
  {
   "cell_type": "code",
   "execution_count": 49,
   "id": "5df7f692",
   "metadata": {},
   "outputs": [
    {
     "data": {
      "text/plain": [
       "'Процент должников среди заёмщиков с разной целью:'"
      ]
     },
     "metadata": {},
     "output_type": "display_data"
    },
    {
     "data": {
      "text/plain": [
       "purpose_category\n",
       "операции с автомобилем      9.347978\n",
       "операции с недвижимостью    7.255139\n",
       "получение образования       9.252758\n",
       "проведение свадьбы          7.911803\n",
       "Name: debt, dtype: float64"
      ]
     },
     "execution_count": 49,
     "metadata": {},
     "output_type": "execute_result"
    },
    {
     "data": {
      "image/png": "[encoded data removed]",
      "text/plain": [
       "<Figure size 720x432 with 1 Axes>"
      ]
     },
     "metadata": {
      "needs_background": "light"
     },
     "output_type": "display_data"
    }
   ],
   "source": [
    "(((data.groupby('purpose_category')['debt']\n",
    "   .mean()*100)\n",
    "   .plot(kind = 'bar',\n",
    "         ylim = (0,10),\n",
    "         rot =45,\n",
    "         title = \"Процент должников, среди заёмщиков с разной целью кредита\",\n",
    "         figsize = (10,6),\n",
    "         xlabel = \"\",\n",
    "         ylabel = \"%\")\n",
    "))\n",
    "\n",
    "display('Процент должников среди заёмщиков с разной целью:')\n",
    "data.groupby('purpose_category')['debt'].mean()*100"
   ]
  },
  {
   "cell_type": "markdown",
   "id": "3aeb59be",
   "metadata": {},
   "source": [
    "Итак, самый низкий процент должников (7.3), берущих кредит на операции с едвижимостью, а самый высокий у тех, кто покупает авто (9.3). Рассмотрим распределение должников по этим группам"
   ]
  },
  {
   "cell_type": "code",
   "execution_count": 50,
   "id": "926836b3",
   "metadata": {},
   "outputs": [
    {
     "data": {
      "text/html": [
       "<div>\n",
       "<style scoped>\n",
       "    .dataframe tbody tr th:only-of-type {\n",
       "        vertical-align: middle;\n",
       "    }\n",
       "\n",
       "    .dataframe tbody tr th {\n",
       "        vertical-align: top;\n",
       "    }\n",
       "\n",
       "    .dataframe thead th {\n",
       "        text-align: right;\n",
       "    }\n",
       "</style>\n",
       "<table border=\"1\" class=\"dataframe\">\n",
       "  <thead>\n",
       "    <tr style=\"text-align: right;\">\n",
       "      <th></th>\n",
       "      <th>debt_Yes</th>\n",
       "      <th>debt_No</th>\n",
       "    </tr>\n",
       "    <tr>\n",
       "      <th>purpose_category</th>\n",
       "      <th></th>\n",
       "      <th></th>\n",
       "    </tr>\n",
       "  </thead>\n",
       "  <tbody>\n",
       "    <tr>\n",
       "      <th>операции с автомобилем</th>\n",
       "      <td>23.094688</td>\n",
       "      <td>19.791826</td>\n",
       "    </tr>\n",
       "    <tr>\n",
       "      <th>операции с недвижимостью</th>\n",
       "      <td>45.034642</td>\n",
       "      <td>50.875045</td>\n",
       "    </tr>\n",
       "    <tr>\n",
       "      <th>получение образования</th>\n",
       "      <td>21.304850</td>\n",
       "      <td>18.465228</td>\n",
       "    </tr>\n",
       "    <tr>\n",
       "      <th>проведение свадьбы</th>\n",
       "      <td>10.565820</td>\n",
       "      <td>10.867901</td>\n",
       "    </tr>\n",
       "  </tbody>\n",
       "</table>\n",
       "</div>"
      ],
      "text/plain": [
       "                           debt_Yes    debt_No\n",
       "purpose_category                              \n",
       "операции с автомобилем    23.094688  19.791826\n",
       "операции с недвижимостью  45.034642  50.875045\n",
       "получение образования     21.304850  18.465228\n",
       "проведение свадьбы        10.565820  10.867901"
      ]
     },
     "execution_count": 50,
     "metadata": {},
     "output_type": "execute_result"
    },
    {
     "data": {
      "image/png": "[encoded data removed]",
      "text/plain": [
       "<Figure size 720x432 with 1 Axes>"
      ]
     },
     "metadata": {
      "needs_background": "light"
     },
     "output_type": "display_data"
    }
   ],
   "source": [
    "#Добросовестные клиенты\n",
    "fair = ((data[data['debt'] == 0]\n",
    "            .groupby('purpose_category')['debt']\n",
    "            .count()/len(data[data['debt'] == 0])*100)\n",
    "            .to_frame())\n",
    "#Должники\n",
    "debtors = ((data[data['debt'] == 1]\n",
    "            .groupby('purpose_category')['debt']\n",
    "            .count()/len(data[data['debt'] == 1])*100)\n",
    "            .to_frame())\n",
    "\n",
    "debtors_group = debtors.merge(fair, on = 'purpose_category', suffixes = ('_Yes', '_No'))\n",
    "debtors_group.plot(rot = 45,\n",
    "                   kind = 'bar',\n",
    "                   figsize =(10,6),\n",
    "                   title = \"Процент клиентов с разной целью кредита\",\n",
    "                   xlabel = \"\",\n",
    "                   ylabel = \"%\"\n",
    "                  )\n",
    "debtors_group"
   ]
  },
  {
   "cell_type": "markdown",
   "id": "02aeffd3",
   "metadata": {},
   "source": [
    "Посчитаем достоверность различий тестом хи-квадрат:"
   ]
  },
  {
   "cell_type": "code",
   "execution_count": 51,
   "id": "1eaef22a",
   "metadata": {},
   "outputs": [
    {
     "data": {
      "text/plain": [
       "debt  purpose_category        \n",
       "0     операции с автомобилем      3879\n",
       "      операции с недвижимостью    9971\n",
       "      получение образования       3619\n",
       "      проведение свадьбы          2130\n",
       "1     операции с автомобилем       400\n",
       "      операции с недвижимостью     780\n",
       "      получение образования        369\n",
       "      проведение свадьбы           183\n",
       "Name: debt, dtype: int64"
      ]
     },
     "execution_count": 51,
     "metadata": {},
     "output_type": "execute_result"
    }
   ],
   "source": [
    "data.groupby(['debt','purpose_category'])['debt'].count()"
   ]
  },
  {
   "cell_type": "code",
   "execution_count": 52,
   "id": "653bfe57",
   "metadata": {},
   "outputs": [
    {
     "data": {
      "text/plain": [
       "7.78277883541783e-06"
      ]
     },
     "execution_count": 52,
     "metadata": {},
     "output_type": "execute_result"
    }
   ],
   "source": [
    "debt_0 = [3879, 9971, 3619, 2130]\n",
    "debt_1 = [400 , 780  ,369 , 183 ]\n",
    "debt_groups = [debt_0, debt_1]\n",
    "\n",
    "stat, p, dof, expected = chi2_contingency(debt_groups)\n",
    "p"
   ]
  },
  {
   "cell_type": "markdown",
   "id": "6de0bd53",
   "metadata": {},
   "source": [
    "Уровень достоверности p значительно меньше 0.05. Различия между выборками достоверны."
   ]
  },
  {
   "cell_type": "markdown",
   "id": "3b8a4338",
   "metadata": {
    "deletable": false,
    "id": "b4bb2ce6"
   },
   "source": [
    "**Вывод:** \n",
    "Цель кредита связана с вероятностью возврата кредит в срок. \n",
    "<font color='blue'> Наименее рисковые для банка заёмщики берут деньги на недвижимость. Покупка автомобиля и оплата учебы связаны с повышенной вероятностью долгов клиента перед банком <font>"
   ]
  },
  {
   "cell_type": "markdown",
   "id": "ebdf55ec",
   "metadata": {},
   "source": [
    "<div class=\"alert alert-warning\">\n",
    "<h2> Комментарий ревьюера <a class=\"tocSkip\"> </h2>\n",
    "    \n",
    "<b>Некоторые замечания и рекомендации💡:</b> \n",
    "\n",
    "Ок, в самом выводе стоит отметить категории, которые несут больше рисков: выше ты их правильно называешь. Комментарий чисто по оформлению.\n",
    "       \n",
    "</div>"
   ]
  },
  {
   "cell_type": "markdown",
   "id": "437e795a",
   "metadata": {},
   "source": [
    "#### 3.5 Есть ли зависимость между возрастом и возвратом кредита в срок? (Дополнительный анализ)"
   ]
  },
  {
   "cell_type": "markdown",
   "id": "6d010deb",
   "metadata": {},
   "source": [
    "<div class=\"alert alert-success\">\n",
    "<h2> Комментарий ревьюера <a class=\"tocSkip\"> </h2>\n",
    "\n",
    "👍 Аха! Вопрос, который меня занимает, почему такой очевидный пункт не включили в задание. \n",
    "</div>"
   ]
  },
  {
   "cell_type": "markdown",
   "id": "7b83aa54",
   "metadata": {},
   "source": [
    "Рассмотрим выборку по возрасту"
   ]
  },
  {
   "cell_type": "code",
   "execution_count": 53,
   "id": "6770ad9d",
   "metadata": {},
   "outputs": [
    {
     "data": {
      "text/plain": [
       "0     100\n",
       "19     14\n",
       "20     51\n",
       "21    110\n",
       "22    183\n",
       "23    250\n",
       "24    263\n",
       "25    356\n",
       "26    406\n",
       "27    490\n",
       "28    501\n",
       "29    542\n",
       "30    533\n",
       "31    555\n",
       "32    505\n",
       "33    577\n",
       "34    595\n",
       "35    613\n",
       "36    552\n",
       "37    530\n",
       "38    594\n",
       "39    571\n",
       "40    601\n",
       "41    601\n",
       "42    591\n",
       "43    509\n",
       "44    541\n",
       "45    493\n",
       "46    466\n",
       "47    477\n",
       "48    534\n",
       "49    505\n",
       "50    508\n",
       "51    444\n",
       "52    483\n",
       "53    457\n",
       "54    473\n",
       "55    441\n",
       "56    478\n",
       "57    453\n",
       "58    454\n",
       "59    440\n",
       "60    373\n",
       "61    352\n",
       "62    347\n",
       "63    268\n",
       "64    258\n",
       "65    193\n",
       "66    182\n",
       "67    167\n",
       "68     99\n",
       "69     83\n",
       "70     65\n",
       "71     56\n",
       "72     33\n",
       "73      8\n",
       "74      6\n",
       "75      1\n",
       "Name: dob_years, dtype: int64"
      ]
     },
     "execution_count": 53,
     "metadata": {},
     "output_type": "execute_result"
    }
   ],
   "source": [
    "data['dob_years'].value_counts().sort_index()"
   ]
  },
  {
   "cell_type": "markdown",
   "id": "fc6d0ab5",
   "metadata": {},
   "source": [
    "Похоже здесь не совсем корректные данные: нашлось 100 человек, чей возраст 0. \n",
    "Заполним их медианой по выборке. "
   ]
  },
  {
   "cell_type": "markdown",
   "id": "5b85366e",
   "metadata": {},
   "source": [
    "<div class=\"alert alert-warning\">\n",
    "<h2> Комментарий ревьюера <a class=\"tocSkip\"> </h2>\n",
    "    \n",
    "<b>Некоторые замечания и рекомендации💡:</b> \n",
    "\n",
    "Хм, если хотим смотреть на зависимость, то логичнее было бы здесь не учитывать эти данные. Любое усреднение будет искажать картину.\n",
    "       \n",
    "</div>\n"
   ]
  },
  {
   "cell_type": "markdown",
   "id": "88dc2fb4",
   "metadata": {},
   "source": [
    "<font color='blue'> Ок, посчитаем без этой сотни <font>"
   ]
  },
  {
   "cell_type": "code",
   "execution_count": 54,
   "id": "f23fdc5d",
   "metadata": {},
   "outputs": [],
   "source": [
    "#age_mediana = data[data['dob_years'] != 0]['dob_years'].median()\n",
    "#data.loc[data['dob_years'] == 0,'dob_years'] = age_mediana    \n",
    "#data['dob_years'].value_counts().sort_index()"
   ]
  },
  {
   "cell_type": "markdown",
   "id": "5a521a44",
   "metadata": {},
   "source": [
    "Оценим различия в возрасте между двумя группами заёмщиков.<font color='blue'> Удалим из выборки 100 человек с возрастом 0. Это менее 0.5% выборки <font>"
   ]
  },
  {
   "cell_type": "code",
   "execution_count": 55,
   "id": "98e46492",
   "metadata": {},
   "outputs": [
    {
     "data": {
      "text/html": [
       "<div>\n",
       "<style scoped>\n",
       "    .dataframe tbody tr th:only-of-type {\n",
       "        vertical-align: middle;\n",
       "    }\n",
       "\n",
       "    .dataframe tbody tr th {\n",
       "        vertical-align: top;\n",
       "    }\n",
       "\n",
       "    .dataframe thead th {\n",
       "        text-align: right;\n",
       "    }\n",
       "</style>\n",
       "<table border=\"1\" class=\"dataframe\">\n",
       "  <thead>\n",
       "    <tr style=\"text-align: right;\">\n",
       "      <th></th>\n",
       "      <th>count</th>\n",
       "      <th>mean</th>\n",
       "      <th>median</th>\n",
       "    </tr>\n",
       "    <tr>\n",
       "      <th>debt</th>\n",
       "      <th></th>\n",
       "      <th></th>\n",
       "      <th></th>\n",
       "    </tr>\n",
       "  </thead>\n",
       "  <tbody>\n",
       "    <tr>\n",
       "      <th>0</th>\n",
       "      <td>19507</td>\n",
       "      <td>43.743323</td>\n",
       "      <td>43</td>\n",
       "    </tr>\n",
       "    <tr>\n",
       "      <th>1</th>\n",
       "      <td>1724</td>\n",
       "      <td>40.522622</td>\n",
       "      <td>39</td>\n",
       "    </tr>\n",
       "  </tbody>\n",
       "</table>\n",
       "</div>"
      ],
      "text/plain": [
       "      count       mean  median\n",
       "debt                          \n",
       "0     19507  43.743323      43\n",
       "1      1724  40.522622      39"
      ]
     },
     "execution_count": 55,
     "metadata": {},
     "output_type": "execute_result"
    },
    {
     "data": {
      "image/png": "[encoded data removed]",
      "text/plain": [
       "<Figure size 576x432 with 1 Axes>"
      ]
     },
     "metadata": {
      "needs_background": "light"
     },
     "output_type": "display_data"
    }
   ],
   "source": [
    "\n",
    "data[data['dob_years'] > 0].boxplot(column = 'dob_years', by = 'debt', figsize = (8,6), showfliers=False)\n",
    "data[data['dob_years'] > 0].groupby('debt')['dob_years'].agg(['count','mean','median'])"
   ]
  },
  {
   "cell_type": "markdown",
   "id": "2d5765af",
   "metadata": {},
   "source": [
    "Похоже, что клиенты, имеющие задолженности в среднем моложе на 3-4 года. Подтвердим достоверность различий тестом Манна-Уитни."
   ]
  },
  {
   "cell_type": "code",
   "execution_count": 56,
   "id": "b9a199a9",
   "metadata": {},
   "outputs": [
    {
     "data": {
      "text/plain": [
       "MannwhitneyuResult(statistic=19392009.5, pvalue=4.2325821770437607e-26)"
      ]
     },
     "execution_count": 56,
     "metadata": {},
     "output_type": "execute_result"
    }
   ],
   "source": [
    "debt_0 = data[(data['dob_years'] > 0) & (data['debt'] == 0)]['dob_years']\n",
    "debt_1 = data[(data['dob_years'] > 0) & (data['debt'] == 1)]['dob_years']\n",
    "\n",
    "stats.mannwhitneyu (debt_0, debt_1)"
   ]
  },
  {
   "cell_type": "markdown",
   "id": "785c5b69",
   "metadata": {},
   "source": [
    "Значение уровня достоверности значительно меньше 0.05. Различия в возрасте заемщиков достоверны. Попробуем оценить изменение параметра задолженности в связи с возрастом. Возьмем группы, насчитывающие больше 100 человек."
   ]
  },
  {
   "cell_type": "code",
   "execution_count": 57,
   "id": "d5ca334a",
   "metadata": {},
   "outputs": [
    {
     "data": {
      "text/plain": [
       "<AxesSubplot:xlabel='dob_years'>"
      ]
     },
     "execution_count": 57,
     "metadata": {},
     "output_type": "execute_result"
    },
    {
     "data": {
      "image/png": "[encoded data removed]",
      "text/plain": [
       "<Figure size 432x288 with 1 Axes>"
      ]
     },
     "metadata": {
      "needs_background": "light"
     },
     "output_type": "display_data"
    }
   ],
   "source": [
    "data[data['dob_years'].between(21,68)].groupby('dob_years')['debt'].mean().plot()"
   ]
  },
  {
   "cell_type": "markdown",
   "id": "727b6ad2",
   "metadata": {},
   "source": [
    "Похоже мы обнаружили что вероятность задолженности по кредиту негативно связана с возрастом. Интересно, что тренд на снижение вероятности долга начинается после 30 лет.\n",
    "Корелляционный анализ покажет достоверную связь, но делать мы его тут не станем."
   ]
  },
  {
   "cell_type": "markdown",
   "id": "642d1051",
   "metadata": {},
   "source": [
    "<font color='blue'> А как здесь грамотно корреляцию посчитать? \n",
    "У нас независимые сэмплы возраста(числовая) и 0/1 (категория).Пирсоном? Так будет корректно?\n",
    "`data['dob_age'].corr(data['debt'], method='pearson')` \n",
    "    Или лучше смотреть уже сгруппированный возраст и среднюю по 0/1 категории? <font>"
   ]
  },
  {
   "cell_type": "markdown",
   "id": "6c75511f",
   "metadata": {},
   "source": [
    "<div class=\"alert alert-success\">\n",
    "<h2> Комментарий ревьюера #2 <a class=\"tocSkip\"> </h2>\n",
    "\n",
    "👍 Да, как у тебя, можно без уточнения Пирсона. Нет, без группировки, конечно :)\n",
    "</div>\n"
   ]
  },
  {
   "cell_type": "markdown",
   "id": "e981ad68",
   "metadata": {},
   "source": [
    "<div class=\"alert alert-success\">\n",
    "<h2> Комментарий ревьюера <a class=\"tocSkip\"> </h2>\n",
    "\n",
    "👍 Ну вот. А я уже приготовился и даже комментарий по этому поводу написал.\n",
    "    \n",
    "</div>\n",
    "\n"
   ]
  },
  {
   "cell_type": "markdown",
   "id": "4a4e6901",
   "metadata": {},
   "source": [
    "**Вывод:** \n",
    "Возраст заёмщика связан с вероятностью возврата кредит в срок: чем старше заёмщик, тем более добросовестно он платит по счетам."
   ]
  },
  {
   "cell_type": "markdown",
   "id": "4824395d",
   "metadata": {},
   "source": [
    "<div class=\"alert alert-success\">\n",
    "<h2> Комментарий ревьюера <a class=\"tocSkip\"> </h2>\n",
    "\n",
    "👍 Верно. А возраст хорошо коррелирует с семейным статусом. Поэтому там зависимость, судя по всему, опосредованная. Утверждения типа «штамп в паспорте дисциплинирует» еще нужно доказать.\n",
    "</div>\n",
    "\n"
   ]
  },
  {
   "cell_type": "markdown",
   "id": "ed135627",
   "metadata": {},
   "source": [
    "#### 3.6 Есть ли зависимость между полом и возвратом кредита в срок? (Дополнительный анализ)"
   ]
  },
  {
   "cell_type": "markdown",
   "id": "b2fe8e1f",
   "metadata": {},
   "source": [
    "Оценим выборку:"
   ]
  },
  {
   "cell_type": "code",
   "execution_count": 58,
   "id": "ebc0a3e3",
   "metadata": {},
   "outputs": [
    {
     "data": {
      "text/plain": [
       "F      14092\n",
       "M       7238\n",
       "XNA        1\n",
       "Name: gender, dtype: int64"
      ]
     },
     "metadata": {},
     "output_type": "display_data"
    },
    {
     "data": {
      "text/plain": [
       "F      0.660635\n",
       "M      0.339318\n",
       "XNA    0.000047\n",
       "Name: gender, dtype: float64"
      ]
     },
     "execution_count": 58,
     "metadata": {},
     "output_type": "execute_result"
    }
   ],
   "source": [
    "display(data['gender'].value_counts())\n",
    "data['gender'].value_counts()/len(data)"
   ]
  },
  {
   "cell_type": "markdown",
   "id": "a0dcadfb",
   "metadata": {},
   "source": [
    "В выборке имеется один человек неопределенного пола. Можно его исключить из анализа. Рассмотрим процент должников по полу и долю внутри одного пола:"
   ]
  },
  {
   "cell_type": "code",
   "execution_count": 59,
   "id": "eaf4f5c3",
   "metadata": {},
   "outputs": [
    {
     "data": {
      "text/plain": [
       "debt  gender\n",
       "0     F         13103\n",
       "      M          6495\n",
       "1     F           989\n",
       "      M           743\n",
       "Name: debt, dtype: int64"
      ]
     },
     "execution_count": 59,
     "metadata": {},
     "output_type": "execute_result"
    }
   ],
   "source": [
    "data[data['gender'] != \"XNA\"].groupby(['debt','gender'])['debt'].count()"
   ]
  },
  {
   "cell_type": "code",
   "execution_count": 60,
   "id": "afbf93b4",
   "metadata": {},
   "outputs": [
    {
     "data": {
      "text/plain": [
       "'Процент должников среди заёмщиков разного пола:'"
      ]
     },
     "metadata": {},
     "output_type": "display_data"
    },
    {
     "data": {
      "text/plain": [
       "gender\n",
       "F     7.018166\n",
       "M    10.265267\n",
       "Name: debt, dtype: float64"
      ]
     },
     "execution_count": 60,
     "metadata": {},
     "output_type": "execute_result"
    },
    {
     "data": {
      "image/png": "[encoded data removed]",
      "text/plain": [
       "<Figure size 720x432 with 1 Axes>"
      ]
     },
     "metadata": {
      "needs_background": "light"
     },
     "output_type": "display_data"
    }
   ],
   "source": [
    "(((data[data['gender'] != \"XNA\"].groupby('gender')['debt']\n",
    "   .mean()*100)\n",
    "   .plot(kind= 'bar',\n",
    "         ylim= (0,12),\n",
    "         rot= 45,\n",
    "         title = \"Процент должников, среди заёмщиков разного пола\",\n",
    "         figsize = (10,6),\n",
    "         xlabel = \"Пол\",\n",
    "         ylabel = \"%\")\n",
    "))\n",
    "\n",
    "display('Процент должников среди заёмщиков разного пола:')\n",
    "data[data['gender'] != \"XNA\"].groupby('gender')['debt'].mean()*100"
   ]
  },
  {
   "cell_type": "code",
   "execution_count": 61,
   "id": "5f6199d8",
   "metadata": {},
   "outputs": [
    {
     "data": {
      "text/html": [
       "<div>\n",
       "<style scoped>\n",
       "    .dataframe tbody tr th:only-of-type {\n",
       "        vertical-align: middle;\n",
       "    }\n",
       "\n",
       "    .dataframe tbody tr th {\n",
       "        vertical-align: top;\n",
       "    }\n",
       "\n",
       "    .dataframe thead th {\n",
       "        text-align: right;\n",
       "    }\n",
       "</style>\n",
       "<table border=\"1\" class=\"dataframe\">\n",
       "  <thead>\n",
       "    <tr style=\"text-align: right;\">\n",
       "      <th></th>\n",
       "      <th>debt_Должники</th>\n",
       "      <th>debt_НЕдолжники</th>\n",
       "    </tr>\n",
       "    <tr>\n",
       "      <th>gender</th>\n",
       "      <th></th>\n",
       "      <th></th>\n",
       "    </tr>\n",
       "  </thead>\n",
       "  <tbody>\n",
       "    <tr>\n",
       "      <th>F</th>\n",
       "      <td>57.101617</td>\n",
       "      <td>66.855452</td>\n",
       "    </tr>\n",
       "    <tr>\n",
       "      <th>M</th>\n",
       "      <td>42.898383</td>\n",
       "      <td>33.139446</td>\n",
       "    </tr>\n",
       "  </tbody>\n",
       "</table>\n",
       "</div>"
      ],
      "text/plain": [
       "        debt_Должники  debt_НЕдолжники\n",
       "gender                                \n",
       "F           57.101617        66.855452\n",
       "M           42.898383        33.139446"
      ]
     },
     "execution_count": 61,
     "metadata": {},
     "output_type": "execute_result"
    },
    {
     "data": {
      "image/png": "[encoded data removed]",
      "text/plain": [
       "<Figure size 720x432 with 1 Axes>"
      ]
     },
     "metadata": {
      "needs_background": "light"
     },
     "output_type": "display_data"
    }
   ],
   "source": [
    "#Добросовестные клиенты\n",
    "fair = ((data[data['debt'] == 0]\n",
    "            .groupby('gender')['debt']\n",
    "            .count()/len(data[data['debt'] == 0])*100)\n",
    "            .to_frame())\n",
    "#Должники\n",
    "debtors = ((data[data['debt'] == 1]\n",
    "            .groupby('gender')['debt']\n",
    "            .count()/len(data[data['debt'] == 1])*100)\n",
    "            .to_frame())\n",
    "\n",
    "debtors_group = debtors.merge(fair, on = 'gender', suffixes = ('_Должники', '_НЕдолжники'))\n",
    "debtors_group.plot(rot = 45, kind = 'bar', figsize =(10,6))\n",
    "debtors_group"
   ]
  },
  {
   "cell_type": "markdown",
   "id": "41812468",
   "metadata": {},
   "source": [
    "Проведем тест хи-квадрат:"
   ]
  },
  {
   "cell_type": "code",
   "execution_count": 62,
   "id": "f6a5b79b",
   "metadata": {},
   "outputs": [
    {
     "data": {
      "text/plain": [
       "2.522804793255984e-16"
      ]
     },
     "execution_count": 62,
     "metadata": {},
     "output_type": "execute_result"
    }
   ],
   "source": [
    "debt_0 = [13103, 6495]\n",
    "debt_1 = [989, 743]\n",
    "debt_groups = [debt_0, debt_1]\n",
    "\n",
    "stat, p, dof, expected = chi2_contingency(debt_groups)\n",
    "p"
   ]
  },
  {
   "cell_type": "markdown",
   "id": "33c33168",
   "metadata": {},
   "source": [
    "Различия достоверны"
   ]
  },
  {
   "cell_type": "markdown",
   "id": "9ff83eb1",
   "metadata": {},
   "source": [
    "**Вывод:** \n",
    "Пол заёмщика связан с вероятностью возврата кредит в срок: женщины - более ответственные заёмщики. "
   ]
  },
  {
   "cell_type": "markdown",
   "id": "9ea879a7",
   "metadata": {},
   "source": [
    "<div class=\"alert alert-success\">\n",
    "<h2> Комментарий ревьюера <a class=\"tocSkip\"> </h2>\n",
    "\n",
    "👍 В целом да. Но нужно смотреть на семейных и одиноких отдельно. Кажется, здесь была такая история, что женщины с детьми не в браке лучше отдают кредиты, чем женщины с детьми и в браке. Ну и гипотеза, что если при живом муже жена оформляет кредит на себя, то видимо с отношениями не все в порядке, что чаще сочетается с финансовой нестабильностью и всеми вытекающими в виде просрочек по долгу последствиями. Но это уже такие дебри и нюансы...\n",
    "</div>\n",
    "\n"
   ]
  },
  {
   "cell_type": "markdown",
   "id": "02c7ed27",
   "metadata": {},
   "source": [
    "#### 3.7 Есть ли зависимость между образованием и возвратом кредита в срок? (Дополнительный анализ)"
   ]
  },
  {
   "cell_type": "markdown",
   "id": "001799ff",
   "metadata": {},
   "source": [
    "Оценим выборку:"
   ]
  },
  {
   "cell_type": "code",
   "execution_count": 63,
   "id": "7865bf7b",
   "metadata": {},
   "outputs": [
    {
     "data": {
      "text/plain": [
       "среднее                15075\n",
       "высшее                  5227\n",
       "неоконченное высшее      741\n",
       "начальное                282\n",
       "ученая степень             6\n",
       "Name: education, dtype: int64"
      ]
     },
     "metadata": {},
     "output_type": "display_data"
    },
    {
     "data": {
      "text/plain": [
       "среднее                0.706718\n",
       "высшее                 0.245042\n",
       "неоконченное высшее    0.034738\n",
       "начальное              0.013220\n",
       "ученая степень         0.000281\n",
       "Name: education, dtype: float64"
      ]
     },
     "execution_count": 63,
     "metadata": {},
     "output_type": "execute_result"
    }
   ],
   "source": [
    "display(data['education'].value_counts())\n",
    "data['education'].value_counts()/len(data)"
   ]
  },
  {
   "cell_type": "markdown",
   "id": "b25ff4d8",
   "metadata": {},
   "source": [
    "Кандидатов и докторов наук слишком мало, их можно исключить из анализа."
   ]
  },
  {
   "cell_type": "code",
   "execution_count": 64,
   "id": "9bae34a0",
   "metadata": {},
   "outputs": [
    {
     "data": {
      "text/plain": [
       "'Процент должников среди заёмщиков с разным образованием:'"
      ]
     },
     "metadata": {},
     "output_type": "display_data"
    },
    {
     "data": {
      "text/plain": [
       "education\n",
       "высшее                  5.318538\n",
       "начальное              10.992908\n",
       "неоконченное высшее     9.176788\n",
       "среднее                 8.988391\n",
       "Name: debt, dtype: float64"
      ]
     },
     "execution_count": 64,
     "metadata": {},
     "output_type": "execute_result"
    },
    {
     "data": {
      "image/png": "[encoded data removed]",
      "text/plain": [
       "<Figure size 720x432 with 1 Axes>"
      ]
     },
     "metadata": {
      "needs_background": "light"
     },
     "output_type": "display_data"
    }
   ],
   "source": [
    "(((data[data['education'] != \"ученая степень\"].groupby('education')['debt']\n",
    "   .mean()*100)\n",
    "   .plot(kind = 'bar',ylim = (0,12), rot =45, figsize=(10,6))))\n",
    "\n",
    "display('Процент должников среди заёмщиков с разным образованием:')\n",
    "data[data['education'] != \"ученая степень\"].groupby('education')['debt'].mean()*100"
   ]
  },
  {
   "cell_type": "code",
   "execution_count": 65,
   "id": "d32a60f1",
   "metadata": {},
   "outputs": [
    {
     "data": {
      "text/html": [
       "<div>\n",
       "<style scoped>\n",
       "    .dataframe tbody tr th:only-of-type {\n",
       "        vertical-align: middle;\n",
       "    }\n",
       "\n",
       "    .dataframe tbody tr th {\n",
       "        vertical-align: top;\n",
       "    }\n",
       "\n",
       "    .dataframe thead th {\n",
       "        text-align: right;\n",
       "    }\n",
       "</style>\n",
       "<table border=\"1\" class=\"dataframe\">\n",
       "  <thead>\n",
       "    <tr style=\"text-align: right;\">\n",
       "      <th></th>\n",
       "      <th>debt_Должники</th>\n",
       "      <th>debt_НЕдолжники</th>\n",
       "    </tr>\n",
       "    <tr>\n",
       "      <th>education</th>\n",
       "      <th></th>\n",
       "      <th></th>\n",
       "    </tr>\n",
       "  </thead>\n",
       "  <tbody>\n",
       "    <tr>\n",
       "      <th>высшее</th>\n",
       "      <td>16.050808</td>\n",
       "      <td>25.251288</td>\n",
       "    </tr>\n",
       "    <tr>\n",
       "      <th>начальное</th>\n",
       "      <td>1.789838</td>\n",
       "      <td>1.280678</td>\n",
       "    </tr>\n",
       "    <tr>\n",
       "      <th>неоконченное высшее</th>\n",
       "      <td>3.926097</td>\n",
       "      <td>3.433849</td>\n",
       "    </tr>\n",
       "    <tr>\n",
       "      <th>среднее</th>\n",
       "      <td>78.233256</td>\n",
       "      <td>70.003572</td>\n",
       "    </tr>\n",
       "  </tbody>\n",
       "</table>\n",
       "</div>"
      ],
      "text/plain": [
       "                     debt_Должники  debt_НЕдолжники\n",
       "education                                          \n",
       "высшее                   16.050808        25.251288\n",
       "начальное                 1.789838         1.280678\n",
       "неоконченное высшее       3.926097         3.433849\n",
       "среднее                  78.233256        70.003572"
      ]
     },
     "execution_count": 65,
     "metadata": {},
     "output_type": "execute_result"
    },
    {
     "data": {
      "image/png": "[encoded data removed]",
      "text/plain": [
       "<Figure size 720x432 with 1 Axes>"
      ]
     },
     "metadata": {
      "needs_background": "light"
     },
     "output_type": "display_data"
    }
   ],
   "source": [
    "#Добросовестные клиенты\n",
    "fair = ((data[data['debt'] == 0]\n",
    "            .groupby('education')['debt']\n",
    "            .count()/len(data[data['debt'] == 0])*100)\n",
    "            .to_frame())\n",
    "#Должники\n",
    "debtors = ((data[data['debt'] == 1]\n",
    "            .groupby('education')['debt']\n",
    "            .count()/len(data[data['debt'] == 1])*100)\n",
    "            .to_frame())\n",
    "\n",
    "debtors_group = debtors.merge(fair, on = 'education', suffixes = ('_Должники', '_НЕдолжники'))\n",
    "debtors_group.plot(rot = 45, kind = 'bar', figsize =(10,6))\n",
    "debtors_group"
   ]
  },
  {
   "cell_type": "markdown",
   "id": "a68e1c9f",
   "metadata": {},
   "source": [
    "Похоже чем более качественное образование получил клиент, тем меньше у него проблем с задолженностями по кредиту. \n",
    "Самый высокий процент должников в группе с начальным образованием, однако эта группа сравнительно невелика. \n",
    "Подавляющее большинство клиентов имеет среднее образование. Они составляют почти 80% должников но лишь 70% добросовестных заёмщиков.\n",
    "Среди клиентов с высшим образованием тренд противоположный: 16% должников и 25% добросовестных."
   ]
  },
  {
   "cell_type": "markdown",
   "id": "45ed8f55",
   "metadata": {},
   "source": [
    "**Вывод:** \n",
    "Образование заёмщика связано с вероятностью возврата кредит в срок: Чем выше образование клиента, тем более ответственныый  он заёмщик. "
   ]
  },
  {
   "cell_type": "markdown",
   "id": "d8d189a2",
   "metadata": {},
   "source": [
    "<div class=\"alert alert-success\">\n",
    "<h2> Комментарий ревьюера <a class=\"tocSkip\"> </h2>\n",
    "\n",
    "👍 О да, пожалуй, это самый сильный фактор из всех, доступных нам в датасете.\n",
    "</div>\n",
    "\n"
   ]
  },
  {
   "cell_type": "markdown",
   "id": "bcd761d8",
   "metadata": {
    "deletable": false,
    "editable": false,
    "id": "09c3ac4c"
   },
   "source": [
    "#### 3.5 Приведите возможные причины появления пропусков в исходных данных."
   ]
  },
  {
   "cell_type": "markdown",
   "id": "804d3ed8",
   "metadata": {
    "deletable": false,
    "id": "9da2ceda"
   },
   "source": [
    "*Ответ:* \n",
    "Причины пропусков можно разделить на две группы.\n",
    "Человеческий фактор и технические причины.\n",
    "\n",
    "К человеческому фактору относят ошибки оператора или пользователя, вводящего данные.\n",
    "Иногда возникает нежелание или невозможность ввести корректные данные.\n",
    "\n",
    "К техническим причинам можно отнести ошибки при копировании или форматировании.\n",
    "Технические проблемы могут также возникать по вине разработчика, не настроившего корректно форму ввода или вывода данных для анализа.\n",
    "\n",
    "Одна из частых причин пропусков - слияние таблиц в одну.\n"
   ]
  },
  {
   "cell_type": "markdown",
   "id": "5ab3bb90",
   "metadata": {},
   "source": [
    "<div class=\"alert alert-success\">\n",
    "<h2> Комментарий ревьюера <a class=\"tocSkip\"> </h2>\n",
    "\n",
    "👍 Все группы названы, все верно. Я лично думаю, есть вероятность, что заемщики не смогли документально подтвердить стаж и доход (у нас пропуски идут аккурат в этих двух столбцах).\n",
    "</div>\n",
    "\n"
   ]
  },
  {
   "cell_type": "markdown",
   "id": "195e3f5e",
   "metadata": {
    "deletable": false,
    "editable": false,
    "id": "7b0487d6"
   },
   "source": [
    "#### 3.6 Объясните, почему заполнить пропуски медианным значением — лучшее решение для количественных переменных."
   ]
  },
  {
   "cell_type": "markdown",
   "id": "e9fb3b7a",
   "metadata": {
    "deletable": false,
    "id": "7ecf2b8e"
   },
   "source": [
    "*Ответ:* \n",
    "Медиана слабо чувствительна к выбросам- значениям, которые сильно отличаются от основной выборки. \n",
    "Даже одно слишком большое или маленькое значение может сильно сместить среднюю по всей выборке."
   ]
  },
  {
   "cell_type": "markdown",
   "id": "b0a9eccc",
   "metadata": {},
   "source": [
    "<div class=\"alert alert-success\">\n",
    "<h2> Комментарий ревьюера <a class=\"tocSkip\"> </h2>\n",
    "\n",
    "👍 Да, именно так. Особенно видна будет разница в среднем и медиане в графе со стажем.\n",
    "</div>\n",
    "\n"
   ]
  },
  {
   "cell_type": "markdown",
   "id": "7489157c",
   "metadata": {
    "deletable": false,
    "editable": false,
    "id": "6db5255a"
   },
   "source": [
    "### Шаг 4: общий вывод."
   ]
  },
  {
   "cell_type": "markdown",
   "id": "8194f5f9",
   "metadata": {
    "deletable": false,
    "id": "bad65432"
   },
   "source": [
    "После предварительной обработки данных мы рассмотрели взаимосвязь нескольких переменных с целевой переменной (наличие задолженности по кредиту). \n",
    "Мы установили:\n",
    "- Наличие задолженности связано с **наличием** детей у клиента. Процент должников среди родителей выше, чем среди бездетных. Связь с **количеством** детей не столь очевидна.\n",
    "- Наличие задолженности связано с семейным статусом клиента. У тех, кто имеет или имел (развод, смерть супруга) официального супруга процент должников ниже\n",
    "- Наличие задолженности не связано с уровнем дохода. Следует обратить внимание на небольше число клиентов с доходом менее 30 тысяч. Очевидно, это многочиленная группа в населении страны, однако она слабо представлена среди клиентов банка.\n",
    "- Наличие задолженности связано с целью, на которую берется кредит. Больше должников среди тех, кто берет деньги на автомобиль или образование. Меньше - у тех кто покупает жилье.\n",
    "- Наличие задолженности связано с возрастом заёмщика - чем он моложе, тем больше шансов, что у него будут проблемы с возвратом кредита.\n",
    "- Наличие задолженности связано с полом заёмщика - женщины среди должников меньше.\n",
    "- Наличие задолженности связано с образованием заёмщика - чем выше уровень образования, тем меньше шансов, что у него будут проблемы с возвратом кредита.\n",
    "\n",
    "В целом, анализ данных подтверждает интуитивные догадки относительно платёжеспособности заёмщиков. Следует принять во внимание, что разные факторы могут быть скоррелированны друг сдругом и оказывать совместное влияние на вероятность появления задолженности   "
   ]
  },
  {
   "cell_type": "markdown",
   "id": "a11d5f36",
   "metadata": {},
   "source": [
    "<font color='blue'> Чуть поправил выводы <font>"
   ]
  },
  {
   "cell_type": "markdown",
   "id": "a38f004d",
   "metadata": {},
   "source": [
    "<div class=\"alert alert-success\">\n",
    "<h2> Комментарий ревьюера #2 <a class=\"tocSkip\"> </h2>\n",
    "\n",
    "👍 Здесь все отлично.\n",
    "</div>\n"
   ]
  },
  {
   "cell_type": "markdown",
   "id": "ef6cb58e",
   "metadata": {},
   "source": [
    "<div class=\"alert alert-warning\">\n",
    "<h2> Комментарий ревьюера <a class=\"tocSkip\"> </h2>\n",
    "    \n",
    "<b>Некоторые замечания и рекомендации💡:</b> \n",
    "\n",
    "Все отлично. Единственное, я бы посоветовал не выводить портрет идеального заемщика, так как мы не проводили многофакторный анализ и не смотрели как наши признаки работают в сумме. Можно ограничиться простым перечислением рисков внутри каждой из категорий.\n",
    "       \n",
    "</div>"
   ]
  },
  {
   "cell_type": "markdown",
   "id": "28b08ae5",
   "metadata": {},
   "source": [
    "<font color='blue'>\n",
    "Привет, Кирилл.\n",
    "Спасибо за обратную связь.\n",
    "Да, я тоже удиивился, что в заданиях не было предложено проанализировать другие факторы. \n",
    "Там еще ж income_type и days_employed необработанные, но думаю в этом проекте анализа и кода итак уже достаточно.\n",
    "Из-за дополнительного анализа немного поехала навигация, но почему-то не могу изменить раздел 3.5 на 3.6\n",
    "Какой-нибудь ревьювер может докопаться до этого. Спасибо, что не ты :)\n",
    "Самое сложное, конечно, вовремя остановиться когда хочется отрисовать график или выводную таблицу.\n",
    "    Хорошего дня!\n",
    "<font>"
   ]
  },
  {
   "cell_type": "markdown",
   "id": "121cdd87",
   "metadata": {},
   "source": [
    "<div class=\"alert alert-success\">\n",
    "<h2> Комментарий ревьюера #2 <a class=\"tocSkip\"> </h2>\n",
    "\n",
    "👍 На самом деле, первый проект совсем маленький. Думаю, дальше уже все будет достаточно объемным и подробным.\n",
    "</div>\n"
   ]
  },
  {
   "cell_type": "markdown",
   "id": "0ba12be6",
   "metadata": {},
   "source": [
    "<div style=\"border:solid Chocolate 2px; padding: 40px\">\n",
    "\n",
    "**Общий вывод по проверке**\n",
    "\n",
    "У тебя получился хороший проект. Верные вычисления и структура таблиц, хорошая аналитика и правильные ответы на вопросы. Ты проделал гораздо больший объем работы, чем требовалось, но все логично и оправданно. Про Хи-квадрат и критерий Манна-Уитни − круто, что знаешь и применяешь. Виден статистический бекграунд.\n",
    "    \n",
    "Про пояснение по уровню значимости, буквально сегодня читал, что многие практикующие аналитики не могут верно объяснить, что это такое. Ну и не всем студентам сразу дается. У тебя почти верно (кроме того, что в строгой формулировке вместо «равно» нужно употреблять «такие или более экстремальные различия» .. ). \n",
    "        \n",
    "В желтых комментариях оставил пожелания по улучшению проекта. Работу могу принять уже сейчас, но отправлю на доработку, чтобы иметь возможность дать обратную связь по изменениям.\n",
    "\n",
    "**Желаю удачи и жду твой проект на повторное ревью!**😉\n",
    "\n",
    "</div>\n"
   ]
  },
  {
   "cell_type": "markdown",
   "id": "ed40bf5b",
   "metadata": {},
   "source": [
    "<div style=\"border:solid Chocolate 2px; padding: 40px\">\n",
    "\n",
    "**Комментарий ко второй проверке**\n",
    "\n",
    "Спасибо за доработку. Критичных комментариев нет. \n",
    "\n",
    "Желаю удачи в дальнейшей учебе!\n",
    "\n",
    "</div>"
   ]
  }
 ],
 "metadata": {
  "ExecuteTimeLog": [
   {
    "duration": 49,
    "start_time": "2022-11-30T17:55:13.576Z"
   },
   {
    "duration": 514,
    "start_time": "2022-11-30T17:55:23.205Z"
   },
   {
    "duration": 30,
    "start_time": "2022-11-30T17:55:23.721Z"
   },
   {
    "duration": 19,
    "start_time": "2022-11-30T17:55:23.753Z"
   },
   {
    "duration": 11,
    "start_time": "2022-11-30T17:55:23.774Z"
   },
   {
    "duration": 70,
    "start_time": "2022-11-30T17:55:23.788Z"
   },
   {
    "duration": 4,
    "start_time": "2022-11-30T17:55:23.860Z"
   },
   {
    "duration": 17,
    "start_time": "2022-11-30T17:55:23.868Z"
   },
   {
    "duration": 6,
    "start_time": "2022-11-30T17:55:23.887Z"
   },
   {
    "duration": 11,
    "start_time": "2022-11-30T17:55:23.895Z"
   },
   {
    "duration": 6,
    "start_time": "2022-11-30T17:55:23.907Z"
   },
   {
    "duration": 44,
    "start_time": "2022-11-30T17:55:23.938Z"
   },
   {
    "duration": 14,
    "start_time": "2022-11-30T17:55:23.984Z"
   },
   {
    "duration": 6,
    "start_time": "2022-11-30T17:55:24.000Z"
   },
   {
    "duration": 36,
    "start_time": "2022-11-30T17:55:24.009Z"
   },
   {
    "duration": 29,
    "start_time": "2022-11-30T17:55:24.047Z"
   },
   {
    "duration": 22,
    "start_time": "2022-11-30T17:55:24.078Z"
   },
   {
    "duration": 3,
    "start_time": "2022-11-30T17:55:24.102Z"
   },
   {
    "duration": 30,
    "start_time": "2022-11-30T17:55:24.107Z"
   },
   {
    "duration": 10,
    "start_time": "2022-11-30T17:55:24.140Z"
   },
   {
    "duration": 15,
    "start_time": "2022-11-30T17:55:24.153Z"
   },
   {
    "duration": 18,
    "start_time": "2022-11-30T17:55:24.170Z"
   },
   {
    "duration": 9,
    "start_time": "2022-11-30T17:55:24.190Z"
   },
   {
    "duration": 6,
    "start_time": "2022-11-30T17:55:24.200Z"
   },
   {
    "duration": 10,
    "start_time": "2022-11-30T17:55:24.207Z"
   },
   {
    "duration": 10,
    "start_time": "2022-11-30T17:55:24.219Z"
   },
   {
    "duration": 7,
    "start_time": "2022-11-30T17:56:26.458Z"
   },
   {
    "duration": 13,
    "start_time": "2022-11-30T17:57:10.142Z"
   },
   {
    "duration": 9,
    "start_time": "2022-11-30T17:57:27.101Z"
   },
   {
    "duration": 9,
    "start_time": "2022-11-30T17:58:07.913Z"
   },
   {
    "duration": 7,
    "start_time": "2022-11-30T17:59:09.612Z"
   },
   {
    "duration": 1129,
    "start_time": "2022-11-30T17:59:35.666Z"
   },
   {
    "duration": 12,
    "start_time": "2022-11-30T17:59:49.187Z"
   },
   {
    "duration": 647,
    "start_time": "2022-11-30T18:00:08.455Z"
   },
   {
    "duration": 151,
    "start_time": "2022-11-30T18:00:28.589Z"
   },
   {
    "duration": 135,
    "start_time": "2022-11-30T18:00:35.607Z"
   },
   {
    "duration": 161,
    "start_time": "2022-11-30T18:00:56.356Z"
   },
   {
    "duration": 173,
    "start_time": "2022-11-30T18:01:05.612Z"
   },
   {
    "duration": 134,
    "start_time": "2022-11-30T18:01:21.186Z"
   },
   {
    "duration": 27,
    "start_time": "2022-11-30T18:02:21.033Z"
   },
   {
    "duration": 12,
    "start_time": "2022-11-30T18:02:36.308Z"
   },
   {
    "duration": 21,
    "start_time": "2022-11-30T18:05:06.816Z"
   },
   {
    "duration": 7,
    "start_time": "2022-11-30T18:09:35.961Z"
   },
   {
    "duration": 113,
    "start_time": "2022-11-30T18:10:05.454Z"
   },
   {
    "duration": 126,
    "start_time": "2022-11-30T18:10:51.827Z"
   },
   {
    "duration": 116,
    "start_time": "2022-11-30T18:11:45.477Z"
   },
   {
    "duration": 128,
    "start_time": "2022-11-30T18:12:00.861Z"
   },
   {
    "duration": 109,
    "start_time": "2022-11-30T18:12:04.559Z"
   },
   {
    "duration": 112,
    "start_time": "2022-11-30T18:13:44.707Z"
   },
   {
    "duration": 109,
    "start_time": "2022-11-30T18:14:21.529Z"
   },
   {
    "duration": 9,
    "start_time": "2022-11-30T18:15:50.018Z"
   },
   {
    "duration": 8,
    "start_time": "2022-11-30T18:16:19.204Z"
   },
   {
    "duration": 15,
    "start_time": "2022-11-30T18:16:31.814Z"
   },
   {
    "duration": 7,
    "start_time": "2022-11-30T18:16:56.277Z"
   },
   {
    "duration": 123,
    "start_time": "2022-11-30T18:17:29.989Z"
   },
   {
    "duration": 167,
    "start_time": "2022-11-30T18:17:44.984Z"
   },
   {
    "duration": 184,
    "start_time": "2022-11-30T18:17:50.313Z"
   },
   {
    "duration": 127,
    "start_time": "2022-11-30T18:18:01.031Z"
   },
   {
    "duration": 112,
    "start_time": "2022-11-30T18:18:09.319Z"
   },
   {
    "duration": 5,
    "start_time": "2022-11-30T18:25:09.794Z"
   },
   {
    "duration": 10,
    "start_time": "2022-11-30T18:26:42.107Z"
   },
   {
    "duration": 75,
    "start_time": "2022-11-30T18:28:02.820Z"
   },
   {
    "duration": 1188,
    "start_time": "2022-11-30T18:28:20.474Z"
   },
   {
    "duration": 10,
    "start_time": "2022-11-30T18:28:35.424Z"
   },
   {
    "duration": 112,
    "start_time": "2022-11-30T18:28:41.929Z"
   },
   {
    "duration": 1213,
    "start_time": "2022-11-30T18:28:53.570Z"
   },
   {
    "duration": 1067,
    "start_time": "2022-11-30T18:29:11.806Z"
   },
   {
    "duration": 1198,
    "start_time": "2022-11-30T18:29:54.994Z"
   },
   {
    "duration": 132,
    "start_time": "2022-11-30T18:30:26.280Z"
   },
   {
    "duration": 162,
    "start_time": "2022-11-30T18:32:28.845Z"
   },
   {
    "duration": 5,
    "start_time": "2022-11-30T18:33:21.672Z"
   },
   {
    "duration": 123,
    "start_time": "2022-11-30T18:36:16.891Z"
   },
   {
    "duration": 126,
    "start_time": "2022-11-30T18:36:24.748Z"
   },
   {
    "duration": 16,
    "start_time": "2022-11-30T18:40:21.326Z"
   },
   {
    "duration": 19,
    "start_time": "2022-11-30T18:40:40.155Z"
   },
   {
    "duration": 6,
    "start_time": "2022-11-30T18:54:52.308Z"
   },
   {
    "duration": 10,
    "start_time": "2022-11-30T18:55:26.338Z"
   },
   {
    "duration": 8,
    "start_time": "2022-11-30T18:55:35.905Z"
   },
   {
    "duration": 156,
    "start_time": "2022-11-30T18:56:48.781Z"
   },
   {
    "duration": 16,
    "start_time": "2022-11-30T19:00:14.034Z"
   },
   {
    "duration": 13,
    "start_time": "2022-11-30T19:03:26.149Z"
   },
   {
    "duration": 3242,
    "start_time": "2022-11-30T19:08:58.266Z"
   },
   {
    "duration": 3,
    "start_time": "2022-11-30T19:09:05.365Z"
   },
   {
    "duration": 2278,
    "start_time": "2022-11-30T19:09:07.717Z"
   },
   {
    "duration": 3,
    "start_time": "2022-11-30T19:10:53.477Z"
   },
   {
    "duration": 2153,
    "start_time": "2022-11-30T19:10:55.444Z"
   },
   {
    "duration": 6,
    "start_time": "2022-11-30T19:11:21.177Z"
   },
   {
    "duration": 5,
    "start_time": "2022-11-30T19:11:31.401Z"
   },
   {
    "duration": 7,
    "start_time": "2022-11-30T19:11:48.831Z"
   },
   {
    "duration": 3,
    "start_time": "2022-11-30T19:14:10.579Z"
   },
   {
    "duration": 6,
    "start_time": "2022-11-30T19:14:13.571Z"
   },
   {
    "duration": 3,
    "start_time": "2022-11-30T19:17:13.124Z"
   },
   {
    "duration": 82,
    "start_time": "2022-11-30T19:17:58.680Z"
   },
   {
    "duration": 13,
    "start_time": "2022-11-30T19:18:05.463Z"
   },
   {
    "duration": 10,
    "start_time": "2022-11-30T19:18:14.414Z"
   },
   {
    "duration": 10,
    "start_time": "2022-11-30T19:18:36.030Z"
   },
   {
    "duration": 9,
    "start_time": "2022-11-30T19:19:11.573Z"
   },
   {
    "duration": 9,
    "start_time": "2022-11-30T19:19:18.538Z"
   },
   {
    "duration": 10,
    "start_time": "2022-11-30T19:19:36.471Z"
   },
   {
    "duration": 10,
    "start_time": "2022-11-30T19:20:26.011Z"
   },
   {
    "duration": 9,
    "start_time": "2022-11-30T19:20:41.138Z"
   },
   {
    "duration": 11,
    "start_time": "2022-11-30T19:20:45.761Z"
   },
   {
    "duration": 9,
    "start_time": "2022-11-30T19:21:18.224Z"
   },
   {
    "duration": 10,
    "start_time": "2022-11-30T19:21:38.166Z"
   },
   {
    "duration": 72,
    "start_time": "2022-11-30T19:22:11.900Z"
   },
   {
    "duration": 10,
    "start_time": "2022-11-30T19:22:16.690Z"
   },
   {
    "duration": 9,
    "start_time": "2022-11-30T19:22:28.561Z"
   },
   {
    "duration": 496,
    "start_time": "2022-11-30T19:22:41.824Z"
   },
   {
    "duration": 20,
    "start_time": "2022-11-30T19:22:42.323Z"
   },
   {
    "duration": 16,
    "start_time": "2022-11-30T19:22:42.345Z"
   },
   {
    "duration": 10,
    "start_time": "2022-11-30T19:22:42.364Z"
   },
   {
    "duration": 34,
    "start_time": "2022-11-30T19:22:42.376Z"
   },
   {
    "duration": 28,
    "start_time": "2022-11-30T19:22:42.412Z"
   },
   {
    "duration": 10,
    "start_time": "2022-11-30T19:22:42.442Z"
   },
   {
    "duration": 4,
    "start_time": "2022-11-30T19:22:42.454Z"
   },
   {
    "duration": 12,
    "start_time": "2022-11-30T19:22:42.459Z"
   },
   {
    "duration": 4,
    "start_time": "2022-11-30T19:22:42.474Z"
   },
   {
    "duration": 60,
    "start_time": "2022-11-30T19:22:42.479Z"
   },
   {
    "duration": 11,
    "start_time": "2022-11-30T19:22:42.541Z"
   },
   {
    "duration": 4,
    "start_time": "2022-11-30T19:22:42.554Z"
   },
   {
    "duration": 14,
    "start_time": "2022-11-30T19:22:42.559Z"
   },
   {
    "duration": 24,
    "start_time": "2022-11-30T19:22:42.574Z"
   },
   {
    "duration": 38,
    "start_time": "2022-11-30T19:22:42.599Z"
   },
   {
    "duration": 4,
    "start_time": "2022-11-30T19:22:42.640Z"
   },
   {
    "duration": 13,
    "start_time": "2022-11-30T19:22:42.646Z"
   },
   {
    "duration": 11,
    "start_time": "2022-11-30T19:22:42.661Z"
   },
   {
    "duration": 5,
    "start_time": "2022-11-30T19:22:42.673Z"
   },
   {
    "duration": 13,
    "start_time": "2022-11-30T19:22:42.680Z"
   },
   {
    "duration": 253,
    "start_time": "2022-11-30T19:22:42.695Z"
   },
   {
    "duration": 27,
    "start_time": "2022-11-30T19:22:42.950Z"
   },
   {
    "duration": 5,
    "start_time": "2022-11-30T19:22:42.979Z"
   },
   {
    "duration": 9,
    "start_time": "2022-11-30T19:22:42.986Z"
   },
   {
    "duration": 5,
    "start_time": "2022-11-30T19:22:42.996Z"
   },
   {
    "duration": 2772,
    "start_time": "2022-11-30T19:22:43.002Z"
   },
   {
    "duration": 9,
    "start_time": "2022-11-30T19:22:45.777Z"
   },
   {
    "duration": 9,
    "start_time": "2022-11-30T19:22:45.788Z"
   },
   {
    "duration": 5,
    "start_time": "2022-11-30T19:22:45.799Z"
   },
   {
    "duration": 4,
    "start_time": "2022-11-30T19:22:45.807Z"
   },
   {
    "duration": 98,
    "start_time": "2022-11-30T19:23:24.964Z"
   },
   {
    "duration": 472,
    "start_time": "2022-11-30T19:23:35.157Z"
   },
   {
    "duration": 19,
    "start_time": "2022-11-30T19:23:35.631Z"
   },
   {
    "duration": 18,
    "start_time": "2022-11-30T19:23:35.651Z"
   },
   {
    "duration": 10,
    "start_time": "2022-11-30T19:23:35.671Z"
   },
   {
    "duration": 37,
    "start_time": "2022-11-30T19:23:35.683Z"
   },
   {
    "duration": 17,
    "start_time": "2022-11-30T19:23:35.721Z"
   },
   {
    "duration": 9,
    "start_time": "2022-11-30T19:23:35.739Z"
   },
   {
    "duration": 5,
    "start_time": "2022-11-30T19:23:35.750Z"
   },
   {
    "duration": 9,
    "start_time": "2022-11-30T19:23:35.757Z"
   },
   {
    "duration": 4,
    "start_time": "2022-11-30T19:23:35.770Z"
   },
   {
    "duration": 74,
    "start_time": "2022-11-30T19:23:35.776Z"
   },
   {
    "duration": 10,
    "start_time": "2022-11-30T19:23:35.852Z"
   },
   {
    "duration": 9,
    "start_time": "2022-11-30T19:23:35.865Z"
   },
   {
    "duration": 16,
    "start_time": "2022-11-30T19:23:35.876Z"
   },
   {
    "duration": 24,
    "start_time": "2022-11-30T19:23:35.894Z"
   },
   {
    "duration": 30,
    "start_time": "2022-11-30T19:23:35.920Z"
   },
   {
    "duration": 4,
    "start_time": "2022-11-30T19:23:35.951Z"
   },
   {
    "duration": 14,
    "start_time": "2022-11-30T19:23:35.957Z"
   },
   {
    "duration": 7,
    "start_time": "2022-11-30T19:23:35.973Z"
   },
   {
    "duration": 3,
    "start_time": "2022-11-30T19:23:35.982Z"
   },
   {
    "duration": 10,
    "start_time": "2022-11-30T19:23:35.987Z"
   },
   {
    "duration": 282,
    "start_time": "2022-11-30T19:23:35.998Z"
   },
   {
    "duration": 89,
    "start_time": "2022-11-30T19:23:36.282Z"
   },
   {
    "duration": 0,
    "start_time": "2022-11-30T19:23:36.373Z"
   },
   {
    "duration": 0,
    "start_time": "2022-11-30T19:23:36.374Z"
   },
   {
    "duration": 0,
    "start_time": "2022-11-30T19:23:36.375Z"
   },
   {
    "duration": 0,
    "start_time": "2022-11-30T19:23:36.376Z"
   },
   {
    "duration": 0,
    "start_time": "2022-11-30T19:23:36.377Z"
   },
   {
    "duration": 0,
    "start_time": "2022-11-30T19:23:36.378Z"
   },
   {
    "duration": 0,
    "start_time": "2022-11-30T19:23:36.379Z"
   },
   {
    "duration": 0,
    "start_time": "2022-11-30T19:23:36.380Z"
   },
   {
    "duration": 41,
    "start_time": "2022-11-30T19:23:55.801Z"
   },
   {
    "duration": 72,
    "start_time": "2022-11-30T19:24:14.263Z"
   },
   {
    "duration": 10,
    "start_time": "2022-11-30T19:24:18.791Z"
   },
   {
    "duration": 9,
    "start_time": "2022-11-30T19:24:25.777Z"
   },
   {
    "duration": 486,
    "start_time": "2022-11-30T19:24:38.676Z"
   },
   {
    "duration": 18,
    "start_time": "2022-11-30T19:24:39.164Z"
   },
   {
    "duration": 16,
    "start_time": "2022-11-30T19:24:39.184Z"
   },
   {
    "duration": 10,
    "start_time": "2022-11-30T19:24:39.203Z"
   },
   {
    "duration": 35,
    "start_time": "2022-11-30T19:24:39.237Z"
   },
   {
    "duration": 4,
    "start_time": "2022-11-30T19:24:39.273Z"
   },
   {
    "duration": 15,
    "start_time": "2022-11-30T19:24:39.278Z"
   },
   {
    "duration": 5,
    "start_time": "2022-11-30T19:24:39.294Z"
   },
   {
    "duration": 14,
    "start_time": "2022-11-30T19:24:39.300Z"
   },
   {
    "duration": 24,
    "start_time": "2022-11-30T19:24:39.316Z"
   },
   {
    "duration": 35,
    "start_time": "2022-11-30T19:24:39.342Z"
   },
   {
    "duration": 10,
    "start_time": "2022-11-30T19:24:39.379Z"
   },
   {
    "duration": 4,
    "start_time": "2022-11-30T19:24:39.391Z"
   },
   {
    "duration": 15,
    "start_time": "2022-11-30T19:24:39.396Z"
   },
   {
    "duration": 46,
    "start_time": "2022-11-30T19:24:39.412Z"
   },
   {
    "duration": 17,
    "start_time": "2022-11-30T19:24:39.460Z"
   },
   {
    "duration": 4,
    "start_time": "2022-11-30T19:24:39.479Z"
   },
   {
    "duration": 14,
    "start_time": "2022-11-30T19:24:39.484Z"
   },
   {
    "duration": 8,
    "start_time": "2022-11-30T19:24:39.500Z"
   },
   {
    "duration": 3,
    "start_time": "2022-11-30T19:24:39.510Z"
   },
   {
    "duration": 9,
    "start_time": "2022-11-30T19:24:39.538Z"
   },
   {
    "duration": 236,
    "start_time": "2022-11-30T19:24:39.549Z"
   },
   {
    "duration": 93,
    "start_time": "2022-11-30T19:24:39.787Z"
   },
   {
    "duration": 0,
    "start_time": "2022-11-30T19:24:39.882Z"
   },
   {
    "duration": 0,
    "start_time": "2022-11-30T19:24:39.883Z"
   },
   {
    "duration": 0,
    "start_time": "2022-11-30T19:24:39.885Z"
   },
   {
    "duration": 0,
    "start_time": "2022-11-30T19:24:39.885Z"
   },
   {
    "duration": 0,
    "start_time": "2022-11-30T19:24:39.886Z"
   },
   {
    "duration": 0,
    "start_time": "2022-11-30T19:24:39.887Z"
   },
   {
    "duration": 0,
    "start_time": "2022-11-30T19:24:39.888Z"
   },
   {
    "duration": 0,
    "start_time": "2022-11-30T19:24:39.890Z"
   },
   {
    "duration": 9,
    "start_time": "2022-11-30T19:24:46.380Z"
   },
   {
    "duration": 22,
    "start_time": "2022-11-30T19:25:33.733Z"
   },
   {
    "duration": 15,
    "start_time": "2022-11-30T19:25:59.720Z"
   },
   {
    "duration": 16,
    "start_time": "2022-11-30T19:26:32.028Z"
   },
   {
    "duration": 156,
    "start_time": "2022-11-30T19:26:55.684Z"
   },
   {
    "duration": 132,
    "start_time": "2022-11-30T19:27:06.321Z"
   },
   {
    "duration": 111,
    "start_time": "2022-11-30T19:28:49.355Z"
   },
   {
    "duration": 9,
    "start_time": "2022-11-30T19:30:01.043Z"
   },
   {
    "duration": 21,
    "start_time": "2022-11-30T19:41:52.825Z"
   },
   {
    "duration": 100,
    "start_time": "2022-11-30T19:44:53.282Z"
   },
   {
    "duration": 10,
    "start_time": "2022-11-30T19:45:39.924Z"
   },
   {
    "duration": 3,
    "start_time": "2022-11-30T19:46:09.348Z"
   },
   {
    "duration": 2580,
    "start_time": "2022-11-30T19:46:11.434Z"
   },
   {
    "duration": 5,
    "start_time": "2022-11-30T19:46:14.978Z"
   },
   {
    "duration": 10,
    "start_time": "2022-11-30T19:49:32.493Z"
   },
   {
    "duration": 6,
    "start_time": "2022-11-30T19:52:14.748Z"
   },
   {
    "duration": 9,
    "start_time": "2022-11-30T19:52:33.794Z"
   },
   {
    "duration": 5,
    "start_time": "2022-11-30T19:56:03.231Z"
   },
   {
    "duration": 13,
    "start_time": "2022-11-30T19:59:25.880Z"
   },
   {
    "duration": 10,
    "start_time": "2022-11-30T19:59:42.499Z"
   },
   {
    "duration": 11,
    "start_time": "2022-11-30T20:00:06.013Z"
   },
   {
    "duration": 11,
    "start_time": "2022-11-30T20:01:16.743Z"
   },
   {
    "duration": 25,
    "start_time": "2022-11-30T20:01:37.669Z"
   },
   {
    "duration": 15,
    "start_time": "2022-11-30T20:01:54.563Z"
   },
   {
    "duration": 15,
    "start_time": "2022-11-30T20:02:03.291Z"
   },
   {
    "duration": 9,
    "start_time": "2022-11-30T20:02:37.532Z"
   },
   {
    "duration": 73,
    "start_time": "2022-11-30T20:04:34.838Z"
   },
   {
    "duration": 130,
    "start_time": "2022-11-30T20:04:44.232Z"
   },
   {
    "duration": 143,
    "start_time": "2022-11-30T20:05:05.232Z"
   },
   {
    "duration": 171,
    "start_time": "2022-11-30T20:06:13.438Z"
   },
   {
    "duration": 176,
    "start_time": "2022-11-30T20:07:05.694Z"
   },
   {
    "duration": 165,
    "start_time": "2022-11-30T20:07:32.040Z"
   },
   {
    "duration": 72,
    "start_time": "2022-11-30T20:07:46.025Z"
   },
   {
    "duration": 184,
    "start_time": "2022-11-30T20:07:58.295Z"
   },
   {
    "duration": 252,
    "start_time": "2022-11-30T20:08:16.396Z"
   },
   {
    "duration": 4,
    "start_time": "2022-11-30T20:09:17.155Z"
   },
   {
    "duration": 6,
    "start_time": "2022-11-30T20:09:21.040Z"
   },
   {
    "duration": 205,
    "start_time": "2022-11-30T20:16:49.505Z"
   },
   {
    "duration": 193,
    "start_time": "2022-11-30T20:17:07.394Z"
   },
   {
    "duration": 6,
    "start_time": "2022-11-30T20:19:01.206Z"
   },
   {
    "duration": 124,
    "start_time": "2022-11-30T20:22:02.295Z"
   },
   {
    "duration": 106,
    "start_time": "2022-11-30T20:23:06.813Z"
   },
   {
    "duration": 132,
    "start_time": "2022-11-30T20:23:40.438Z"
   },
   {
    "duration": 113,
    "start_time": "2022-11-30T20:23:46.814Z"
   },
   {
    "duration": 499,
    "start_time": "2022-12-01T06:32:32.792Z"
   },
   {
    "duration": 19,
    "start_time": "2022-12-01T06:32:33.293Z"
   },
   {
    "duration": 14,
    "start_time": "2022-12-01T06:32:33.313Z"
   },
   {
    "duration": 8,
    "start_time": "2022-12-01T06:32:33.329Z"
   },
   {
    "duration": 39,
    "start_time": "2022-12-01T06:32:33.339Z"
   },
   {
    "duration": 3,
    "start_time": "2022-12-01T06:32:33.380Z"
   },
   {
    "duration": 11,
    "start_time": "2022-12-01T06:32:33.384Z"
   },
   {
    "duration": 4,
    "start_time": "2022-12-01T06:32:33.396Z"
   },
   {
    "duration": 9,
    "start_time": "2022-12-01T06:32:33.401Z"
   },
   {
    "duration": 4,
    "start_time": "2022-12-01T06:32:33.412Z"
   },
   {
    "duration": 32,
    "start_time": "2022-12-01T06:32:33.417Z"
   },
   {
    "duration": 9,
    "start_time": "2022-12-01T06:32:33.478Z"
   },
   {
    "duration": 6,
    "start_time": "2022-12-01T06:32:33.488Z"
   },
   {
    "duration": 13,
    "start_time": "2022-12-01T06:32:33.498Z"
   },
   {
    "duration": 26,
    "start_time": "2022-12-01T06:32:33.513Z"
   },
   {
    "duration": 16,
    "start_time": "2022-12-01T06:32:33.541Z"
   },
   {
    "duration": 3,
    "start_time": "2022-12-01T06:32:33.558Z"
   },
   {
    "duration": 9,
    "start_time": "2022-12-01T06:32:33.577Z"
   },
   {
    "duration": 10,
    "start_time": "2022-12-01T06:32:33.588Z"
   },
   {
    "duration": 10,
    "start_time": "2022-12-01T06:32:33.600Z"
   },
   {
    "duration": 19,
    "start_time": "2022-12-01T06:32:33.611Z"
   },
   {
    "duration": 555,
    "start_time": "2022-12-01T06:32:33.632Z"
   },
   {
    "duration": 69,
    "start_time": "2022-12-01T06:32:34.189Z"
   },
   {
    "duration": 0,
    "start_time": "2022-12-01T06:32:34.260Z"
   },
   {
    "duration": 0,
    "start_time": "2022-12-01T06:32:34.261Z"
   },
   {
    "duration": 0,
    "start_time": "2022-12-01T06:32:34.262Z"
   },
   {
    "duration": 0,
    "start_time": "2022-12-01T06:32:34.263Z"
   },
   {
    "duration": 0,
    "start_time": "2022-12-01T06:32:34.264Z"
   },
   {
    "duration": 0,
    "start_time": "2022-12-01T06:32:34.265Z"
   },
   {
    "duration": 0,
    "start_time": "2022-12-01T06:32:34.267Z"
   },
   {
    "duration": 0,
    "start_time": "2022-12-01T06:32:34.268Z"
   },
   {
    "duration": 202,
    "start_time": "2022-12-01T06:33:50.689Z"
   },
   {
    "duration": 8,
    "start_time": "2022-12-01T06:33:54.320Z"
   },
   {
    "duration": 3,
    "start_time": "2022-12-01T06:33:57.181Z"
   },
   {
    "duration": 2688,
    "start_time": "2022-12-01T06:33:59.840Z"
   },
   {
    "duration": 5,
    "start_time": "2022-12-01T06:34:04.688Z"
   },
   {
    "duration": 15,
    "start_time": "2022-12-01T06:40:31.642Z"
   },
   {
    "duration": 15,
    "start_time": "2022-12-01T06:40:49.023Z"
   },
   {
    "duration": 16,
    "start_time": "2022-12-01T06:41:33.031Z"
   },
   {
    "duration": 8,
    "start_time": "2022-12-01T06:44:31.188Z"
   },
   {
    "duration": 8,
    "start_time": "2022-12-01T06:45:31.633Z"
   },
   {
    "duration": 7,
    "start_time": "2022-12-01T06:45:42.340Z"
   },
   {
    "duration": 8,
    "start_time": "2022-12-01T06:45:51.116Z"
   },
   {
    "duration": 131,
    "start_time": "2022-12-01T06:48:19.631Z"
   },
   {
    "duration": 119,
    "start_time": "2022-12-01T06:48:48.109Z"
   },
   {
    "duration": 114,
    "start_time": "2022-12-01T06:48:55.040Z"
   },
   {
    "duration": 7,
    "start_time": "2022-12-01T06:52:25.242Z"
   },
   {
    "duration": 199,
    "start_time": "2022-12-01T06:53:05.436Z"
   },
   {
    "duration": 6,
    "start_time": "2022-12-01T06:54:41.780Z"
   },
   {
    "duration": 135,
    "start_time": "2022-12-01T06:55:20.719Z"
   },
   {
    "duration": 176,
    "start_time": "2022-12-01T06:55:29.632Z"
   },
   {
    "duration": 167,
    "start_time": "2022-12-01T06:55:50.128Z"
   },
   {
    "duration": 3,
    "start_time": "2022-12-01T06:57:15.027Z"
   },
   {
    "duration": 8,
    "start_time": "2022-12-01T06:57:19.202Z"
   },
   {
    "duration": 7,
    "start_time": "2022-12-01T06:58:23.167Z"
   },
   {
    "duration": 9,
    "start_time": "2022-12-01T06:59:30.123Z"
   },
   {
    "duration": 256,
    "start_time": "2022-12-01T06:59:52.223Z"
   },
   {
    "duration": 162,
    "start_time": "2022-12-01T07:00:06.395Z"
   },
   {
    "duration": 3,
    "start_time": "2022-12-01T07:03:39.563Z"
   },
   {
    "duration": 221,
    "start_time": "2022-12-01T07:03:44.197Z"
   },
   {
    "duration": 8,
    "start_time": "2022-12-01T07:04:21.960Z"
   },
   {
    "duration": 4,
    "start_time": "2022-12-01T07:07:12.335Z"
   },
   {
    "duration": 9,
    "start_time": "2022-12-01T07:07:19.803Z"
   },
   {
    "duration": 79,
    "start_time": "2022-12-01T07:10:17.791Z"
   },
   {
    "duration": 7,
    "start_time": "2022-12-01T07:10:23.785Z"
   },
   {
    "duration": 133,
    "start_time": "2022-12-01T07:11:02.885Z"
   },
   {
    "duration": 8,
    "start_time": "2022-12-01T07:11:12.616Z"
   },
   {
    "duration": 74,
    "start_time": "2022-12-01T07:13:27.510Z"
   },
   {
    "duration": 8,
    "start_time": "2022-12-01T07:13:41.864Z"
   },
   {
    "duration": 1348,
    "start_time": "2022-12-01T07:13:47.455Z"
   },
   {
    "duration": 14,
    "start_time": "2022-12-01T07:14:16.199Z"
   },
   {
    "duration": 16,
    "start_time": "2022-12-01T07:14:43.903Z"
   },
   {
    "duration": 9,
    "start_time": "2022-12-01T07:14:50.018Z"
   },
   {
    "duration": 10,
    "start_time": "2022-12-01T07:14:54.729Z"
   },
   {
    "duration": 12,
    "start_time": "2022-12-01T07:14:59.231Z"
   },
   {
    "duration": 14,
    "start_time": "2022-12-01T07:15:08.202Z"
   },
   {
    "duration": 14,
    "start_time": "2022-12-01T07:15:18.895Z"
   },
   {
    "duration": 14,
    "start_time": "2022-12-01T07:15:25.680Z"
   },
   {
    "duration": 9,
    "start_time": "2022-12-01T07:15:52.031Z"
   },
   {
    "duration": 9,
    "start_time": "2022-12-01T07:18:08.187Z"
   },
   {
    "duration": 13,
    "start_time": "2022-12-01T07:18:13.089Z"
   },
   {
    "duration": 13,
    "start_time": "2022-12-01T07:18:49.255Z"
   },
   {
    "duration": 448,
    "start_time": "2022-12-01T07:18:56.908Z"
   },
   {
    "duration": 20,
    "start_time": "2022-12-01T07:18:57.358Z"
   },
   {
    "duration": 17,
    "start_time": "2022-12-01T07:18:57.380Z"
   },
   {
    "duration": 16,
    "start_time": "2022-12-01T07:18:57.400Z"
   },
   {
    "duration": 33,
    "start_time": "2022-12-01T07:18:57.418Z"
   },
   {
    "duration": 26,
    "start_time": "2022-12-01T07:18:57.452Z"
   },
   {
    "duration": 10,
    "start_time": "2022-12-01T07:18:57.479Z"
   },
   {
    "duration": 9,
    "start_time": "2022-12-01T07:18:57.492Z"
   },
   {
    "duration": 16,
    "start_time": "2022-12-01T07:18:57.502Z"
   },
   {
    "duration": 8,
    "start_time": "2022-12-01T07:18:57.522Z"
   },
   {
    "duration": 35,
    "start_time": "2022-12-01T07:18:57.532Z"
   },
   {
    "duration": 13,
    "start_time": "2022-12-01T07:18:57.569Z"
   },
   {
    "duration": 8,
    "start_time": "2022-12-01T07:18:57.584Z"
   },
   {
    "duration": 22,
    "start_time": "2022-12-01T07:18:57.593Z"
   },
   {
    "duration": 26,
    "start_time": "2022-12-01T07:18:57.617Z"
   },
   {
    "duration": 17,
    "start_time": "2022-12-01T07:18:57.645Z"
   },
   {
    "duration": 15,
    "start_time": "2022-12-01T07:18:57.663Z"
   },
   {
    "duration": 9,
    "start_time": "2022-12-01T07:18:57.680Z"
   },
   {
    "duration": 16,
    "start_time": "2022-12-01T07:18:57.691Z"
   },
   {
    "duration": 7,
    "start_time": "2022-12-01T07:18:57.709Z"
   },
   {
    "duration": 33,
    "start_time": "2022-12-01T07:18:57.717Z"
   },
   {
    "duration": 390,
    "start_time": "2022-12-01T07:18:57.753Z"
   },
   {
    "duration": 172,
    "start_time": "2022-12-01T07:18:58.144Z"
   },
   {
    "duration": 8,
    "start_time": "2022-12-01T07:18:58.318Z"
   },
   {
    "duration": 4,
    "start_time": "2022-12-01T07:18:58.328Z"
   },
   {
    "duration": 2488,
    "start_time": "2022-12-01T07:18:58.333Z"
   },
   {
    "duration": 6,
    "start_time": "2022-12-01T07:19:00.822Z"
   },
   {
    "duration": 21,
    "start_time": "2022-12-01T07:19:00.830Z"
   },
   {
    "duration": 8,
    "start_time": "2022-12-01T07:19:00.853Z"
   },
   {
    "duration": 154,
    "start_time": "2022-12-01T07:19:00.877Z"
   },
   {
    "duration": 119,
    "start_time": "2022-12-01T07:19:01.033Z"
   },
   {
    "duration": 0,
    "start_time": "2022-12-01T07:19:01.154Z"
   },
   {
    "duration": 0,
    "start_time": "2022-12-01T07:19:01.156Z"
   },
   {
    "duration": 0,
    "start_time": "2022-12-01T07:19:01.157Z"
   },
   {
    "duration": 12,
    "start_time": "2022-12-01T07:19:39.400Z"
   },
   {
    "duration": 7,
    "start_time": "2022-12-01T07:20:43.191Z"
   },
   {
    "duration": 142,
    "start_time": "2022-12-01T07:20:49.413Z"
   },
   {
    "duration": 131,
    "start_time": "2022-12-01T07:20:59.852Z"
   },
   {
    "duration": 194,
    "start_time": "2022-12-01T07:21:53.849Z"
   },
   {
    "duration": 136,
    "start_time": "2022-12-01T07:23:22.178Z"
   },
   {
    "duration": 171,
    "start_time": "2022-12-01T07:24:06.105Z"
   },
   {
    "duration": 161,
    "start_time": "2022-12-01T07:24:25.405Z"
   },
   {
    "duration": 168,
    "start_time": "2022-12-01T07:24:43.694Z"
   },
   {
    "duration": 234,
    "start_time": "2022-12-01T07:24:50.820Z"
   },
   {
    "duration": 220,
    "start_time": "2022-12-01T07:26:29.558Z"
   },
   {
    "duration": 201,
    "start_time": "2022-12-01T07:26:53.609Z"
   },
   {
    "duration": 12,
    "start_time": "2022-12-01T07:27:12.742Z"
   },
   {
    "duration": 183,
    "start_time": "2022-12-01T07:27:52.876Z"
   },
   {
    "duration": 193,
    "start_time": "2022-12-01T07:29:00.942Z"
   },
   {
    "duration": 164,
    "start_time": "2022-12-01T07:29:15.004Z"
   },
   {
    "duration": 202,
    "start_time": "2022-12-01T07:29:25.387Z"
   },
   {
    "duration": 504,
    "start_time": "2022-12-01T07:30:07.182Z"
   },
   {
    "duration": 22,
    "start_time": "2022-12-01T07:30:07.689Z"
   },
   {
    "duration": 17,
    "start_time": "2022-12-01T07:30:07.713Z"
   },
   {
    "duration": 11,
    "start_time": "2022-12-01T07:30:07.732Z"
   },
   {
    "duration": 61,
    "start_time": "2022-12-01T07:30:07.745Z"
   },
   {
    "duration": 4,
    "start_time": "2022-12-01T07:30:07.809Z"
   },
   {
    "duration": 15,
    "start_time": "2022-12-01T07:30:07.815Z"
   },
   {
    "duration": 4,
    "start_time": "2022-12-01T07:30:07.832Z"
   },
   {
    "duration": 11,
    "start_time": "2022-12-01T07:30:07.838Z"
   },
   {
    "duration": 26,
    "start_time": "2022-12-01T07:30:07.852Z"
   },
   {
    "duration": 47,
    "start_time": "2022-12-01T07:30:07.880Z"
   },
   {
    "duration": 14,
    "start_time": "2022-12-01T07:30:07.929Z"
   },
   {
    "duration": 8,
    "start_time": "2022-12-01T07:30:07.945Z"
   },
   {
    "duration": 19,
    "start_time": "2022-12-01T07:30:07.977Z"
   },
   {
    "duration": 24,
    "start_time": "2022-12-01T07:30:07.998Z"
   },
   {
    "duration": 20,
    "start_time": "2022-12-01T07:30:08.023Z"
   },
   {
    "duration": 5,
    "start_time": "2022-12-01T07:30:08.044Z"
   },
   {
    "duration": 36,
    "start_time": "2022-12-01T07:30:08.051Z"
   },
   {
    "duration": 13,
    "start_time": "2022-12-01T07:30:08.089Z"
   },
   {
    "duration": 21,
    "start_time": "2022-12-01T07:30:08.104Z"
   },
   {
    "duration": 16,
    "start_time": "2022-12-01T07:30:08.127Z"
   },
   {
    "duration": 426,
    "start_time": "2022-12-01T07:30:08.144Z"
   },
   {
    "duration": 184,
    "start_time": "2022-12-01T07:30:08.578Z"
   },
   {
    "duration": 15,
    "start_time": "2022-12-01T07:30:08.764Z"
   },
   {
    "duration": 8,
    "start_time": "2022-12-01T07:30:08.781Z"
   },
   {
    "duration": 2694,
    "start_time": "2022-12-01T07:30:08.791Z"
   },
   {
    "duration": 5,
    "start_time": "2022-12-01T07:30:11.487Z"
   },
   {
    "duration": 21,
    "start_time": "2022-12-01T07:30:11.494Z"
   },
   {
    "duration": 10,
    "start_time": "2022-12-01T07:30:11.518Z"
   },
   {
    "duration": 294,
    "start_time": "2022-12-01T07:30:11.530Z"
   },
   {
    "duration": 0,
    "start_time": "2022-12-01T07:30:11.826Z"
   },
   {
    "duration": 0,
    "start_time": "2022-12-01T07:30:11.827Z"
   },
   {
    "duration": 0,
    "start_time": "2022-12-01T07:30:11.829Z"
   },
   {
    "duration": 12,
    "start_time": "2022-12-01T07:30:43.321Z"
   },
   {
    "duration": 9,
    "start_time": "2022-12-01T07:31:02.597Z"
   },
   {
    "duration": 185,
    "start_time": "2022-12-01T07:31:09.297Z"
   },
   {
    "duration": 144,
    "start_time": "2022-12-01T07:31:29.612Z"
   },
   {
    "duration": 10,
    "start_time": "2022-12-01T07:34:06.255Z"
   },
   {
    "duration": 163,
    "start_time": "2022-12-01T07:34:10.213Z"
   },
   {
    "duration": 162,
    "start_time": "2022-12-01T07:34:18.481Z"
   },
   {
    "duration": 125,
    "start_time": "2022-12-01T07:34:25.217Z"
   },
   {
    "duration": 137,
    "start_time": "2022-12-01T07:34:31.691Z"
   },
   {
    "duration": 141,
    "start_time": "2022-12-01T07:34:35.951Z"
   },
   {
    "duration": 216,
    "start_time": "2022-12-01T07:36:07.921Z"
   },
   {
    "duration": 152,
    "start_time": "2022-12-01T07:39:50.311Z"
   },
   {
    "duration": 164,
    "start_time": "2022-12-01T07:40:24.651Z"
   },
   {
    "duration": 12,
    "start_time": "2022-12-01T07:40:51.932Z"
   },
   {
    "duration": 241,
    "start_time": "2022-12-01T07:41:09.798Z"
   },
   {
    "duration": 239,
    "start_time": "2022-12-01T07:41:29.673Z"
   },
   {
    "duration": 488,
    "start_time": "2022-12-01T07:41:49.095Z"
   },
   {
    "duration": 21,
    "start_time": "2022-12-01T07:41:49.585Z"
   },
   {
    "duration": 16,
    "start_time": "2022-12-01T07:41:49.608Z"
   },
   {
    "duration": 9,
    "start_time": "2022-12-01T07:41:49.626Z"
   },
   {
    "duration": 58,
    "start_time": "2022-12-01T07:41:49.636Z"
   },
   {
    "duration": 3,
    "start_time": "2022-12-01T07:41:49.696Z"
   },
   {
    "duration": 15,
    "start_time": "2022-12-01T07:41:49.701Z"
   },
   {
    "duration": 6,
    "start_time": "2022-12-01T07:41:49.717Z"
   },
   {
    "duration": 10,
    "start_time": "2022-12-01T07:41:49.725Z"
   },
   {
    "duration": 8,
    "start_time": "2022-12-01T07:41:49.738Z"
   },
   {
    "duration": 60,
    "start_time": "2022-12-01T07:41:49.748Z"
   },
   {
    "duration": 12,
    "start_time": "2022-12-01T07:41:49.810Z"
   },
   {
    "duration": 8,
    "start_time": "2022-12-01T07:41:49.824Z"
   },
   {
    "duration": 17,
    "start_time": "2022-12-01T07:41:49.834Z"
   },
   {
    "duration": 34,
    "start_time": "2022-12-01T07:41:49.853Z"
   },
   {
    "duration": 20,
    "start_time": "2022-12-01T07:41:49.889Z"
   },
   {
    "duration": 6,
    "start_time": "2022-12-01T07:41:49.911Z"
   },
   {
    "duration": 23,
    "start_time": "2022-12-01T07:41:49.919Z"
   },
   {
    "duration": 10,
    "start_time": "2022-12-01T07:41:49.944Z"
   },
   {
    "duration": 3,
    "start_time": "2022-12-01T07:41:49.956Z"
   },
   {
    "duration": 24,
    "start_time": "2022-12-01T07:41:49.961Z"
   },
   {
    "duration": 364,
    "start_time": "2022-12-01T07:41:49.986Z"
   },
   {
    "duration": 171,
    "start_time": "2022-12-01T07:41:50.351Z"
   },
   {
    "duration": 8,
    "start_time": "2022-12-01T07:41:50.524Z"
   },
   {
    "duration": 11,
    "start_time": "2022-12-01T07:41:50.533Z"
   },
   {
    "duration": 2517,
    "start_time": "2022-12-01T07:41:50.546Z"
   },
   {
    "duration": 6,
    "start_time": "2022-12-01T07:41:53.064Z"
   },
   {
    "duration": 17,
    "start_time": "2022-12-01T07:41:53.079Z"
   },
   {
    "duration": 21,
    "start_time": "2022-12-01T07:41:53.098Z"
   },
   {
    "duration": 228,
    "start_time": "2022-12-01T07:41:53.121Z"
   },
   {
    "duration": 2,
    "start_time": "2022-12-01T07:41:53.351Z"
   },
   {
    "duration": 9,
    "start_time": "2022-12-01T07:41:53.355Z"
   },
   {
    "duration": 12,
    "start_time": "2022-12-01T07:41:53.366Z"
   },
   {
    "duration": 126,
    "start_time": "2022-12-01T07:42:23.263Z"
   },
   {
    "duration": 136,
    "start_time": "2022-12-01T07:42:48.606Z"
   },
   {
    "duration": 299,
    "start_time": "2022-12-01T07:42:57.813Z"
   },
   {
    "duration": 126,
    "start_time": "2022-12-01T07:43:02.325Z"
   },
   {
    "duration": 111,
    "start_time": "2022-12-01T07:43:52.433Z"
   },
   {
    "duration": 121,
    "start_time": "2022-12-01T07:45:37.096Z"
   },
   {
    "duration": 5,
    "start_time": "2022-12-01T07:47:55.231Z"
   },
   {
    "duration": 10,
    "start_time": "2022-12-01T07:48:05.331Z"
   },
   {
    "duration": 90,
    "start_time": "2022-12-01T07:50:11.394Z"
   },
   {
    "duration": 194,
    "start_time": "2022-12-01T07:50:47.454Z"
   },
   {
    "duration": 8,
    "start_time": "2022-12-01T07:52:01.088Z"
   },
   {
    "duration": 118,
    "start_time": "2022-12-01T07:52:45.168Z"
   },
   {
    "duration": 71,
    "start_time": "2022-12-01T07:55:48.685Z"
   },
   {
    "duration": 104,
    "start_time": "2022-12-01T07:56:06.688Z"
   },
   {
    "duration": 99,
    "start_time": "2022-12-01T07:56:25.822Z"
   },
   {
    "duration": 132,
    "start_time": "2022-12-01T08:01:28.678Z"
   },
   {
    "duration": 8,
    "start_time": "2022-12-01T08:06:35.591Z"
   },
   {
    "duration": 7,
    "start_time": "2022-12-01T08:09:27.001Z"
   },
   {
    "duration": 128,
    "start_time": "2022-12-01T08:10:50.934Z"
   },
   {
    "duration": 125,
    "start_time": "2022-12-01T08:10:58.859Z"
   },
   {
    "duration": 69,
    "start_time": "2022-12-01T08:12:26.602Z"
   },
   {
    "duration": 74,
    "start_time": "2022-12-01T08:13:29.010Z"
   },
   {
    "duration": 70,
    "start_time": "2022-12-01T08:13:38.823Z"
   },
   {
    "duration": 74,
    "start_time": "2022-12-01T08:13:59.147Z"
   },
   {
    "duration": 70,
    "start_time": "2022-12-01T08:14:08.211Z"
   },
   {
    "duration": 3,
    "start_time": "2022-12-01T08:14:47.469Z"
   },
   {
    "duration": 4,
    "start_time": "2022-12-01T08:15:00.774Z"
   },
   {
    "duration": 68,
    "start_time": "2022-12-01T08:15:12.926Z"
   },
   {
    "duration": 72,
    "start_time": "2022-12-01T08:15:31.940Z"
   },
   {
    "duration": 6,
    "start_time": "2022-12-01T08:15:41.077Z"
   },
   {
    "duration": 143,
    "start_time": "2022-12-01T08:15:47.206Z"
   },
   {
    "duration": 134,
    "start_time": "2022-12-01T08:16:04.748Z"
   },
   {
    "duration": 139,
    "start_time": "2022-12-01T08:16:25.691Z"
   },
   {
    "duration": 14,
    "start_time": "2022-12-01T08:16:49.936Z"
   },
   {
    "duration": 18,
    "start_time": "2022-12-01T08:16:54.080Z"
   },
   {
    "duration": 135,
    "start_time": "2022-12-01T08:16:58.979Z"
   },
   {
    "duration": 12,
    "start_time": "2022-12-01T08:21:47.589Z"
   },
   {
    "duration": 11,
    "start_time": "2022-12-01T08:21:50.100Z"
   },
   {
    "duration": 150,
    "start_time": "2022-12-01T08:22:07.446Z"
   },
   {
    "duration": 182,
    "start_time": "2022-12-01T08:22:32.571Z"
   },
   {
    "duration": 270,
    "start_time": "2022-12-01T08:22:49.865Z"
   },
   {
    "duration": 148,
    "start_time": "2022-12-01T08:23:07.841Z"
   },
   {
    "duration": 133,
    "start_time": "2022-12-01T08:23:16.565Z"
   },
   {
    "duration": 151,
    "start_time": "2022-12-01T08:23:31.459Z"
   },
   {
    "duration": 5,
    "start_time": "2022-12-01T08:25:37.369Z"
   },
   {
    "duration": 160,
    "start_time": "2022-12-01T08:34:59.077Z"
   },
   {
    "duration": 153,
    "start_time": "2022-12-01T08:35:12.162Z"
   },
   {
    "duration": 158,
    "start_time": "2022-12-01T08:35:20.478Z"
   },
   {
    "duration": 189,
    "start_time": "2022-12-01T08:36:02.764Z"
   },
   {
    "duration": 167,
    "start_time": "2022-12-01T08:36:24.138Z"
   },
   {
    "duration": 149,
    "start_time": "2022-12-01T08:37:00.192Z"
   },
   {
    "duration": 142,
    "start_time": "2022-12-01T08:37:16.351Z"
   },
   {
    "duration": 135,
    "start_time": "2022-12-01T08:37:53.621Z"
   },
   {
    "duration": 143,
    "start_time": "2022-12-01T08:38:25.449Z"
   },
   {
    "duration": 259,
    "start_time": "2022-12-01T08:39:08.909Z"
   },
   {
    "duration": 145,
    "start_time": "2022-12-01T08:39:51.808Z"
   },
   {
    "duration": 141,
    "start_time": "2022-12-01T08:40:21.830Z"
   },
   {
    "duration": 160,
    "start_time": "2022-12-01T08:42:24.556Z"
   },
   {
    "duration": 167,
    "start_time": "2022-12-01T08:44:22.877Z"
   },
   {
    "duration": 154,
    "start_time": "2022-12-01T08:45:41.183Z"
   },
   {
    "duration": 150,
    "start_time": "2022-12-01T08:45:50.893Z"
   },
   {
    "duration": 200,
    "start_time": "2022-12-01T08:46:54.361Z"
   },
   {
    "duration": 160,
    "start_time": "2022-12-01T08:47:00.212Z"
   },
   {
    "duration": 159,
    "start_time": "2022-12-01T08:47:11.372Z"
   },
   {
    "duration": 142,
    "start_time": "2022-12-01T08:47:15.509Z"
   },
   {
    "duration": 147,
    "start_time": "2022-12-01T08:47:40.154Z"
   },
   {
    "duration": 161,
    "start_time": "2022-12-01T08:47:46.252Z"
   },
   {
    "duration": 164,
    "start_time": "2022-12-01T08:48:05.378Z"
   },
   {
    "duration": 146,
    "start_time": "2022-12-01T08:48:26.194Z"
   },
   {
    "duration": 149,
    "start_time": "2022-12-01T08:49:20.745Z"
   },
   {
    "duration": 147,
    "start_time": "2022-12-01T08:49:42.287Z"
   },
   {
    "duration": 274,
    "start_time": "2022-12-01T08:51:02.768Z"
   },
   {
    "duration": 146,
    "start_time": "2022-12-01T08:51:11.257Z"
   },
   {
    "duration": 167,
    "start_time": "2022-12-01T08:51:29.327Z"
   },
   {
    "duration": 150,
    "start_time": "2022-12-01T08:52:03.667Z"
   },
   {
    "duration": 159,
    "start_time": "2022-12-01T08:52:19.381Z"
   },
   {
    "duration": 149,
    "start_time": "2022-12-01T08:53:18.237Z"
   },
   {
    "duration": 186,
    "start_time": "2022-12-01T08:53:33.892Z"
   },
   {
    "duration": 179,
    "start_time": "2022-12-01T08:53:44.003Z"
   },
   {
    "duration": 165,
    "start_time": "2022-12-01T08:53:57.163Z"
   },
   {
    "duration": 462,
    "start_time": "2022-12-01T08:54:12.945Z"
   },
   {
    "duration": 20,
    "start_time": "2022-12-01T08:54:13.409Z"
   },
   {
    "duration": 15,
    "start_time": "2022-12-01T08:54:13.431Z"
   },
   {
    "duration": 33,
    "start_time": "2022-12-01T08:54:13.448Z"
   },
   {
    "duration": 34,
    "start_time": "2022-12-01T08:54:13.483Z"
   },
   {
    "duration": 3,
    "start_time": "2022-12-01T08:54:13.519Z"
   },
   {
    "duration": 12,
    "start_time": "2022-12-01T08:54:13.523Z"
   },
   {
    "duration": 10,
    "start_time": "2022-12-01T08:54:13.537Z"
   },
   {
    "duration": 8,
    "start_time": "2022-12-01T08:54:13.549Z"
   },
   {
    "duration": 4,
    "start_time": "2022-12-01T08:54:13.580Z"
   },
   {
    "duration": 38,
    "start_time": "2022-12-01T08:54:13.586Z"
   },
   {
    "duration": 8,
    "start_time": "2022-12-01T08:54:13.626Z"
   },
   {
    "duration": 16,
    "start_time": "2022-12-01T08:54:13.636Z"
   },
   {
    "duration": 18,
    "start_time": "2022-12-01T08:54:13.653Z"
   },
   {
    "duration": 23,
    "start_time": "2022-12-01T08:54:13.672Z"
   },
   {
    "duration": 16,
    "start_time": "2022-12-01T08:54:13.697Z"
   },
   {
    "duration": 3,
    "start_time": "2022-12-01T08:54:13.715Z"
   },
   {
    "duration": 15,
    "start_time": "2022-12-01T08:54:13.719Z"
   },
   {
    "duration": 16,
    "start_time": "2022-12-01T08:54:13.735Z"
   },
   {
    "duration": 11,
    "start_time": "2022-12-01T08:54:13.753Z"
   },
   {
    "duration": 19,
    "start_time": "2022-12-01T08:54:13.766Z"
   },
   {
    "duration": 431,
    "start_time": "2022-12-01T08:54:13.786Z"
   },
   {
    "duration": 151,
    "start_time": "2022-12-01T08:54:14.218Z"
   },
   {
    "duration": 7,
    "start_time": "2022-12-01T08:54:14.378Z"
   },
   {
    "duration": 3,
    "start_time": "2022-12-01T08:54:14.387Z"
   },
   {
    "duration": 2454,
    "start_time": "2022-12-01T08:54:14.392Z"
   },
   {
    "duration": 5,
    "start_time": "2022-12-01T08:54:16.848Z"
   },
   {
    "duration": 9,
    "start_time": "2022-12-01T08:54:16.856Z"
   },
   {
    "duration": 13,
    "start_time": "2022-12-01T08:54:16.867Z"
   },
   {
    "duration": 7,
    "start_time": "2022-12-01T08:54:16.881Z"
   },
   {
    "duration": 164,
    "start_time": "2022-12-01T08:54:16.890Z"
   },
   {
    "duration": 9,
    "start_time": "2022-12-01T08:54:17.056Z"
   },
   {
    "duration": 7,
    "start_time": "2022-12-01T08:54:17.077Z"
   },
   {
    "duration": 135,
    "start_time": "2022-12-01T08:54:17.086Z"
   },
   {
    "duration": 257,
    "start_time": "2022-12-01T08:54:17.223Z"
   },
   {
    "duration": 0,
    "start_time": "2022-12-01T08:54:17.482Z"
   },
   {
    "duration": 0,
    "start_time": "2022-12-01T08:54:17.484Z"
   },
   {
    "duration": 32,
    "start_time": "2022-12-01T08:54:50.918Z"
   },
   {
    "duration": 23,
    "start_time": "2022-12-01T08:54:58.447Z"
   },
   {
    "duration": 25,
    "start_time": "2022-12-01T08:55:09.564Z"
   },
   {
    "duration": 25,
    "start_time": "2022-12-01T08:55:20.732Z"
   },
   {
    "duration": 25,
    "start_time": "2022-12-01T08:55:32.388Z"
   },
   {
    "duration": 23,
    "start_time": "2022-12-01T08:55:41.300Z"
   },
   {
    "duration": 158,
    "start_time": "2022-12-01T08:55:53.648Z"
   },
   {
    "duration": 171,
    "start_time": "2022-12-01T08:56:02.903Z"
   },
   {
    "duration": 162,
    "start_time": "2022-12-01T08:56:32.640Z"
   },
   {
    "duration": 28,
    "start_time": "2022-12-01T08:58:10.501Z"
   },
   {
    "duration": 29,
    "start_time": "2022-12-01T08:58:43.266Z"
   },
   {
    "duration": 174,
    "start_time": "2022-12-01T08:58:51.694Z"
   },
   {
    "duration": 165,
    "start_time": "2022-12-01T09:01:18.429Z"
   },
   {
    "duration": 8,
    "start_time": "2022-12-01T09:10:54.645Z"
   },
   {
    "duration": 9,
    "start_time": "2022-12-01T09:11:15.851Z"
   },
   {
    "duration": 7,
    "start_time": "2022-12-01T09:11:33.785Z"
   },
   {
    "duration": 5,
    "start_time": "2022-12-01T09:14:22.096Z"
   },
   {
    "duration": 82,
    "start_time": "2022-12-01T09:20:44.542Z"
   },
   {
    "duration": 7,
    "start_time": "2022-12-01T09:22:00.821Z"
   },
   {
    "duration": 6,
    "start_time": "2022-12-01T09:22:12.867Z"
   },
   {
    "duration": 7,
    "start_time": "2022-12-01T09:22:25.523Z"
   },
   {
    "duration": 12,
    "start_time": "2022-12-01T09:22:52.978Z"
   },
   {
    "duration": 398,
    "start_time": "2022-12-01T09:24:02.435Z"
   },
   {
    "duration": 16,
    "start_time": "2022-12-01T09:24:19.129Z"
   },
   {
    "duration": 11,
    "start_time": "2022-12-01T09:25:36.688Z"
   },
   {
    "duration": 145,
    "start_time": "2022-12-01T09:26:26.008Z"
   },
   {
    "duration": 196,
    "start_time": "2022-12-01T09:27:01.440Z"
   },
   {
    "duration": 163,
    "start_time": "2022-12-01T09:27:11.711Z"
   },
   {
    "duration": 165,
    "start_time": "2022-12-01T09:27:20.539Z"
   },
   {
    "duration": 165,
    "start_time": "2022-12-01T09:27:26.569Z"
   },
   {
    "duration": 151,
    "start_time": "2022-12-01T09:31:24.262Z"
   },
   {
    "duration": 16,
    "start_time": "2022-12-01T09:31:56.172Z"
   },
   {
    "duration": 180,
    "start_time": "2022-12-01T09:32:27.867Z"
   },
   {
    "duration": 174,
    "start_time": "2022-12-01T09:32:44.609Z"
   },
   {
    "duration": 94,
    "start_time": "2022-12-01T09:40:27.420Z"
   },
   {
    "duration": 9,
    "start_time": "2022-12-01T09:41:50.204Z"
   },
   {
    "duration": 10,
    "start_time": "2022-12-01T09:41:57.505Z"
   },
   {
    "duration": 8,
    "start_time": "2022-12-01T09:42:02.553Z"
   },
   {
    "duration": 15,
    "start_time": "2022-12-01T09:42:40.314Z"
   },
   {
    "duration": 15,
    "start_time": "2022-12-01T09:42:45.436Z"
   },
   {
    "duration": 2161,
    "start_time": "2022-12-01T09:43:17.477Z"
   },
   {
    "duration": 45,
    "start_time": "2022-12-01T09:43:26.363Z"
   },
   {
    "duration": 34,
    "start_time": "2022-12-01T09:46:05.113Z"
   },
   {
    "duration": 162,
    "start_time": "2022-12-01T09:46:19.932Z"
   },
   {
    "duration": 137,
    "start_time": "2022-12-01T09:49:53.466Z"
   },
   {
    "duration": 177,
    "start_time": "2022-12-01T09:50:07.646Z"
   },
   {
    "duration": 478,
    "start_time": "2022-12-01T09:50:32.868Z"
   },
   {
    "duration": 18,
    "start_time": "2022-12-01T09:50:33.348Z"
   },
   {
    "duration": 22,
    "start_time": "2022-12-01T09:50:33.367Z"
   },
   {
    "duration": 13,
    "start_time": "2022-12-01T09:50:33.391Z"
   },
   {
    "duration": 41,
    "start_time": "2022-12-01T09:50:33.405Z"
   },
   {
    "duration": 3,
    "start_time": "2022-12-01T09:50:33.448Z"
   },
   {
    "duration": 10,
    "start_time": "2022-12-01T09:50:33.453Z"
   },
   {
    "duration": 6,
    "start_time": "2022-12-01T09:50:33.465Z"
   },
   {
    "duration": 22,
    "start_time": "2022-12-01T09:50:33.472Z"
   },
   {
    "duration": 20,
    "start_time": "2022-12-01T09:50:33.498Z"
   },
   {
    "duration": 44,
    "start_time": "2022-12-01T09:50:33.520Z"
   },
   {
    "duration": 10,
    "start_time": "2022-12-01T09:50:33.566Z"
   },
   {
    "duration": 18,
    "start_time": "2022-12-01T09:50:33.578Z"
   },
   {
    "duration": 12,
    "start_time": "2022-12-01T09:50:33.598Z"
   },
   {
    "duration": 26,
    "start_time": "2022-12-01T09:50:33.611Z"
   },
   {
    "duration": 16,
    "start_time": "2022-12-01T09:50:33.639Z"
   },
   {
    "duration": 3,
    "start_time": "2022-12-01T09:50:33.657Z"
   },
   {
    "duration": 25,
    "start_time": "2022-12-01T09:50:33.662Z"
   },
   {
    "duration": 6,
    "start_time": "2022-12-01T09:50:33.690Z"
   },
   {
    "duration": 9,
    "start_time": "2022-12-01T09:50:33.697Z"
   },
   {
    "duration": 14,
    "start_time": "2022-12-01T09:50:33.708Z"
   },
   {
    "duration": 430,
    "start_time": "2022-12-01T09:50:33.724Z"
   },
   {
    "duration": 195,
    "start_time": "2022-12-01T09:50:34.157Z"
   },
   {
    "duration": 8,
    "start_time": "2022-12-01T09:50:34.354Z"
   },
   {
    "duration": 3,
    "start_time": "2022-12-01T09:50:34.363Z"
   },
   {
    "duration": 2483,
    "start_time": "2022-12-01T09:50:34.367Z"
   },
   {
    "duration": 103,
    "start_time": "2022-12-01T09:50:36.852Z"
   },
   {
    "duration": 0,
    "start_time": "2022-12-01T09:50:36.957Z"
   },
   {
    "duration": 0,
    "start_time": "2022-12-01T09:50:36.958Z"
   },
   {
    "duration": 0,
    "start_time": "2022-12-01T09:50:36.960Z"
   },
   {
    "duration": 0,
    "start_time": "2022-12-01T09:50:36.961Z"
   },
   {
    "duration": 0,
    "start_time": "2022-12-01T09:50:36.963Z"
   },
   {
    "duration": 0,
    "start_time": "2022-12-01T09:50:36.964Z"
   },
   {
    "duration": 0,
    "start_time": "2022-12-01T09:50:36.978Z"
   },
   {
    "duration": 0,
    "start_time": "2022-12-01T09:50:36.981Z"
   },
   {
    "duration": 0,
    "start_time": "2022-12-01T09:50:36.982Z"
   },
   {
    "duration": 0,
    "start_time": "2022-12-01T09:50:36.985Z"
   },
   {
    "duration": 0,
    "start_time": "2022-12-01T09:50:36.986Z"
   },
   {
    "duration": 0,
    "start_time": "2022-12-01T09:50:36.987Z"
   },
   {
    "duration": 0,
    "start_time": "2022-12-01T09:50:36.988Z"
   },
   {
    "duration": 0,
    "start_time": "2022-12-01T09:50:36.989Z"
   },
   {
    "duration": 0,
    "start_time": "2022-12-01T09:50:36.990Z"
   },
   {
    "duration": 2334,
    "start_time": "2022-12-01T09:52:27.471Z"
   },
   {
    "duration": 5,
    "start_time": "2022-12-01T09:52:32.109Z"
   },
   {
    "duration": 5,
    "start_time": "2022-12-01T09:52:34.812Z"
   },
   {
    "duration": 7,
    "start_time": "2022-12-01T09:52:36.705Z"
   },
   {
    "duration": 8,
    "start_time": "2022-12-01T09:52:38.862Z"
   },
   {
    "duration": 198,
    "start_time": "2022-12-01T09:52:42.905Z"
   },
   {
    "duration": 7,
    "start_time": "2022-12-01T09:52:47.315Z"
   },
   {
    "duration": 8,
    "start_time": "2022-12-01T09:52:49.930Z"
   },
   {
    "duration": 195,
    "start_time": "2022-12-01T09:52:52.522Z"
   },
   {
    "duration": 16,
    "start_time": "2022-12-01T09:53:04.229Z"
   },
   {
    "duration": 62,
    "start_time": "2022-12-01T09:53:04.247Z"
   },
   {
    "duration": 149,
    "start_time": "2022-12-01T09:53:04.312Z"
   },
   {
    "duration": 0,
    "start_time": "2022-12-01T09:53:04.464Z"
   },
   {
    "duration": 0,
    "start_time": "2022-12-01T09:53:04.465Z"
   },
   {
    "duration": 0,
    "start_time": "2022-12-01T09:53:04.466Z"
   },
   {
    "duration": 0,
    "start_time": "2022-12-01T09:53:04.468Z"
   },
   {
    "duration": 168,
    "start_time": "2022-12-01T09:53:17.858Z"
   },
   {
    "duration": 49,
    "start_time": "2022-12-01T09:53:20.376Z"
   },
   {
    "duration": 166,
    "start_time": "2022-12-01T09:53:28.106Z"
   },
   {
    "duration": 450,
    "start_time": "2022-12-01T09:53:45.307Z"
   },
   {
    "duration": 461,
    "start_time": "2022-12-01T09:57:59.425Z"
   },
   {
    "duration": 253,
    "start_time": "2022-12-01T09:58:24.985Z"
   },
   {
    "duration": 8,
    "start_time": "2022-12-01T09:59:05.926Z"
   },
   {
    "duration": 1484,
    "start_time": "2022-12-01T09:59:17.722Z"
   },
   {
    "duration": 7,
    "start_time": "2022-12-01T09:59:24.641Z"
   },
   {
    "duration": 70,
    "start_time": "2022-12-01T09:59:53.016Z"
   },
   {
    "duration": 188,
    "start_time": "2022-12-01T10:00:18.550Z"
   },
   {
    "duration": 157,
    "start_time": "2022-12-01T10:00:28.037Z"
   },
   {
    "duration": 249,
    "start_time": "2022-12-01T10:00:34.045Z"
   },
   {
    "duration": 156,
    "start_time": "2022-12-01T10:00:40.203Z"
   },
   {
    "duration": 209,
    "start_time": "2022-12-01T10:01:00.402Z"
   },
   {
    "duration": 219,
    "start_time": "2022-12-01T10:01:20.618Z"
   },
   {
    "duration": 261,
    "start_time": "2022-12-01T10:01:29.499Z"
   },
   {
    "duration": 6,
    "start_time": "2022-12-01T10:02:26.525Z"
   },
   {
    "duration": 85,
    "start_time": "2022-12-01T10:02:41.018Z"
   },
   {
    "duration": 128,
    "start_time": "2022-12-01T10:05:58.900Z"
   },
   {
    "duration": 207,
    "start_time": "2022-12-01T10:08:59.178Z"
   },
   {
    "duration": 10,
    "start_time": "2022-12-01T10:10:48.208Z"
   },
   {
    "duration": 9,
    "start_time": "2022-12-01T10:11:01.968Z"
   },
   {
    "duration": 5,
    "start_time": "2022-12-01T10:12:11.738Z"
   },
   {
    "duration": 3,
    "start_time": "2022-12-01T10:13:41.006Z"
   },
   {
    "duration": 5,
    "start_time": "2022-12-01T10:13:43.202Z"
   },
   {
    "duration": 152,
    "start_time": "2022-12-01T10:14:12.694Z"
   },
   {
    "duration": 142,
    "start_time": "2022-12-01T10:40:16.294Z"
   },
   {
    "duration": 13,
    "start_time": "2022-12-01T10:55:45.281Z"
   },
   {
    "duration": 8,
    "start_time": "2022-12-01T11:22:58.825Z"
   },
   {
    "duration": 6,
    "start_time": "2022-12-01T11:23:13.746Z"
   },
   {
    "duration": 7,
    "start_time": "2022-12-01T11:23:27.719Z"
   },
   {
    "duration": 7,
    "start_time": "2022-12-01T11:24:09.416Z"
   },
   {
    "duration": 7,
    "start_time": "2022-12-01T11:24:15.896Z"
   },
   {
    "duration": 17,
    "start_time": "2022-12-01T11:29:06.520Z"
   },
   {
    "duration": 8,
    "start_time": "2022-12-01T11:29:25.466Z"
   },
   {
    "duration": 13,
    "start_time": "2022-12-01T11:31:02.808Z"
   },
   {
    "duration": 14,
    "start_time": "2022-12-01T11:33:16.966Z"
   },
   {
    "duration": 13,
    "start_time": "2022-12-01T11:33:31.817Z"
   },
   {
    "duration": 8,
    "start_time": "2022-12-01T11:34:14.198Z"
   },
   {
    "duration": 26,
    "start_time": "2022-12-01T11:34:20.520Z"
   },
   {
    "duration": 13,
    "start_time": "2022-12-01T11:35:07.212Z"
   },
   {
    "duration": 11,
    "start_time": "2022-12-01T11:35:45.041Z"
   },
   {
    "duration": 17,
    "start_time": "2022-12-01T11:35:49.242Z"
   },
   {
    "duration": 15,
    "start_time": "2022-12-01T11:39:18.259Z"
   },
   {
    "duration": 14,
    "start_time": "2022-12-01T11:45:02.988Z"
   },
   {
    "duration": 98,
    "start_time": "2022-12-01T11:45:24.167Z"
   },
   {
    "duration": 149,
    "start_time": "2022-12-01T11:48:36.809Z"
   },
   {
    "duration": 153,
    "start_time": "2022-12-01T11:48:52.837Z"
   },
   {
    "duration": 138,
    "start_time": "2022-12-01T11:49:04.572Z"
   },
   {
    "duration": 24,
    "start_time": "2022-12-01T11:51:27.072Z"
   },
   {
    "duration": 26,
    "start_time": "2022-12-01T11:51:43.978Z"
   },
   {
    "duration": 1245,
    "start_time": "2022-12-01T11:52:11.101Z"
   },
   {
    "duration": 25,
    "start_time": "2022-12-01T11:52:29.379Z"
   },
   {
    "duration": 16,
    "start_time": "2022-12-01T12:02:24.390Z"
   },
   {
    "duration": 11,
    "start_time": "2022-12-01T12:02:37.542Z"
   },
   {
    "duration": 135,
    "start_time": "2022-12-01T12:02:50.968Z"
   },
   {
    "duration": 6,
    "start_time": "2022-12-01T12:13:20.613Z"
   },
   {
    "duration": 14,
    "start_time": "2022-12-01T12:16:27.708Z"
   },
   {
    "duration": 122,
    "start_time": "2022-12-01T12:17:50.181Z"
   },
   {
    "duration": 116,
    "start_time": "2022-12-01T12:18:05.413Z"
   },
   {
    "duration": 115,
    "start_time": "2022-12-01T12:18:36.642Z"
   },
   {
    "duration": 138,
    "start_time": "2022-12-01T12:18:44.753Z"
   },
   {
    "duration": 122,
    "start_time": "2022-12-01T12:18:55.951Z"
   },
   {
    "duration": 22,
    "start_time": "2022-12-01T12:20:50.605Z"
   },
   {
    "duration": 24,
    "start_time": "2022-12-01T12:21:04.824Z"
   },
   {
    "duration": 152,
    "start_time": "2022-12-01T12:21:12.936Z"
   },
   {
    "duration": 5,
    "start_time": "2022-12-01T12:24:34.139Z"
   },
   {
    "duration": 65,
    "start_time": "2022-12-01T12:26:18.301Z"
   },
   {
    "duration": 21,
    "start_time": "2022-12-01T12:27:41.707Z"
   },
   {
    "duration": 2,
    "start_time": "2022-12-01T12:28:25.504Z"
   },
   {
    "duration": 10,
    "start_time": "2022-12-01T12:33:03.977Z"
   },
   {
    "duration": 145,
    "start_time": "2022-12-01T12:35:11.950Z"
   },
   {
    "duration": 267,
    "start_time": "2022-12-01T12:36:34.890Z"
   },
   {
    "duration": 15,
    "start_time": "2022-12-01T12:43:29.435Z"
   },
   {
    "duration": 13,
    "start_time": "2022-12-01T12:43:40.261Z"
   },
   {
    "duration": 19,
    "start_time": "2022-12-01T12:44:02.272Z"
   },
   {
    "duration": 13,
    "start_time": "2022-12-01T12:44:10.897Z"
   },
   {
    "duration": 11,
    "start_time": "2022-12-01T12:44:55.394Z"
   },
   {
    "duration": 10,
    "start_time": "2022-12-01T12:45:55.096Z"
   },
   {
    "duration": 9,
    "start_time": "2022-12-01T12:46:29.329Z"
   },
   {
    "duration": 10,
    "start_time": "2022-12-01T12:46:48.666Z"
   },
   {
    "duration": 157,
    "start_time": "2022-12-01T12:47:28.343Z"
   },
   {
    "duration": 520,
    "start_time": "2022-12-01T12:57:09.290Z"
   },
   {
    "duration": 24,
    "start_time": "2022-12-01T12:57:09.812Z"
   },
   {
    "duration": 17,
    "start_time": "2022-12-01T12:57:09.838Z"
   },
   {
    "duration": 25,
    "start_time": "2022-12-01T12:57:09.858Z"
   },
   {
    "duration": 35,
    "start_time": "2022-12-01T12:57:09.884Z"
   },
   {
    "duration": 4,
    "start_time": "2022-12-01T12:57:09.921Z"
   },
   {
    "duration": 17,
    "start_time": "2022-12-01T12:57:09.927Z"
   },
   {
    "duration": 33,
    "start_time": "2022-12-01T12:57:09.946Z"
   },
   {
    "duration": 11,
    "start_time": "2022-12-01T12:57:09.981Z"
   },
   {
    "duration": 6,
    "start_time": "2022-12-01T12:57:09.996Z"
   },
   {
    "duration": 36,
    "start_time": "2022-12-01T12:57:10.004Z"
   },
   {
    "duration": 10,
    "start_time": "2022-12-01T12:57:10.042Z"
   },
   {
    "duration": 28,
    "start_time": "2022-12-01T12:57:10.054Z"
   },
   {
    "duration": 26,
    "start_time": "2022-12-01T12:57:10.083Z"
   },
   {
    "duration": 31,
    "start_time": "2022-12-01T12:57:10.111Z"
   },
   {
    "duration": 20,
    "start_time": "2022-12-01T12:57:10.144Z"
   },
   {
    "duration": 13,
    "start_time": "2022-12-01T12:57:10.166Z"
   },
   {
    "duration": 21,
    "start_time": "2022-12-01T12:57:10.180Z"
   },
   {
    "duration": 16,
    "start_time": "2022-12-01T12:57:10.203Z"
   },
   {
    "duration": 4,
    "start_time": "2022-12-01T12:57:10.221Z"
   },
   {
    "duration": 16,
    "start_time": "2022-12-01T12:57:10.226Z"
   },
   {
    "duration": 16,
    "start_time": "2022-12-01T12:57:10.244Z"
   },
   {
    "duration": 435,
    "start_time": "2022-12-01T12:57:10.261Z"
   },
   {
    "duration": 220,
    "start_time": "2022-12-01T12:57:10.698Z"
   },
   {
    "duration": 11,
    "start_time": "2022-12-01T12:57:10.920Z"
   },
   {
    "duration": 3,
    "start_time": "2022-12-01T12:57:10.934Z"
   },
   {
    "duration": 2542,
    "start_time": "2022-12-01T12:57:10.939Z"
   },
   {
    "duration": 5,
    "start_time": "2022-12-01T12:57:13.485Z"
   },
   {
    "duration": 7,
    "start_time": "2022-12-01T12:57:13.492Z"
   },
   {
    "duration": 8,
    "start_time": "2022-12-01T12:57:13.501Z"
   },
   {
    "duration": 8,
    "start_time": "2022-12-01T12:57:13.511Z"
   },
   {
    "duration": 197,
    "start_time": "2022-12-01T12:57:13.521Z"
   },
   {
    "duration": 9,
    "start_time": "2022-12-01T12:57:13.721Z"
   },
   {
    "duration": 14,
    "start_time": "2022-12-01T12:57:13.732Z"
   },
   {
    "duration": 164,
    "start_time": "2022-12-01T12:57:13.748Z"
   },
   {
    "duration": 249,
    "start_time": "2022-12-01T12:57:13.914Z"
   },
   {
    "duration": 23,
    "start_time": "2022-12-01T12:57:14.165Z"
   },
   {
    "duration": 8,
    "start_time": "2022-12-01T12:57:14.190Z"
   },
   {
    "duration": 165,
    "start_time": "2022-12-01T12:57:14.200Z"
   },
   {
    "duration": 32,
    "start_time": "2022-12-01T12:57:14.366Z"
   },
   {
    "duration": 11,
    "start_time": "2022-12-01T12:57:14.399Z"
   },
   {
    "duration": 155,
    "start_time": "2022-12-01T12:57:14.412Z"
   },
   {
    "duration": 197,
    "start_time": "2022-12-01T12:57:14.568Z"
   },
   {
    "duration": 19,
    "start_time": "2022-12-01T12:57:14.767Z"
   },
   {
    "duration": 6,
    "start_time": "2022-12-01T12:57:14.788Z"
   },
   {
    "duration": 70,
    "start_time": "2022-12-01T12:57:14.796Z"
   },
   {
    "duration": 0,
    "start_time": "2022-12-01T12:57:14.868Z"
   },
   {
    "duration": 0,
    "start_time": "2022-12-01T12:57:14.869Z"
   },
   {
    "duration": 0,
    "start_time": "2022-12-01T12:57:14.871Z"
   },
   {
    "duration": 0,
    "start_time": "2022-12-01T12:57:14.872Z"
   },
   {
    "duration": 0,
    "start_time": "2022-12-01T12:57:14.873Z"
   },
   {
    "duration": 0,
    "start_time": "2022-12-01T12:57:14.874Z"
   },
   {
    "duration": 0,
    "start_time": "2022-12-01T12:57:14.875Z"
   },
   {
    "duration": 0,
    "start_time": "2022-12-01T12:57:14.877Z"
   },
   {
    "duration": 0,
    "start_time": "2022-12-01T12:57:14.878Z"
   },
   {
    "duration": 0,
    "start_time": "2022-12-01T12:57:14.880Z"
   },
   {
    "duration": 0,
    "start_time": "2022-12-01T12:57:14.881Z"
   },
   {
    "duration": 0,
    "start_time": "2022-12-01T12:57:14.882Z"
   },
   {
    "duration": 0,
    "start_time": "2022-12-01T12:57:14.883Z"
   },
   {
    "duration": 0,
    "start_time": "2022-12-01T12:57:14.885Z"
   },
   {
    "duration": 82,
    "start_time": "2022-12-01T12:58:57.869Z"
   },
   {
    "duration": 0,
    "start_time": "2022-12-01T12:58:57.953Z"
   },
   {
    "duration": 0,
    "start_time": "2022-12-01T12:58:57.955Z"
   },
   {
    "duration": 0,
    "start_time": "2022-12-01T12:58:57.956Z"
   },
   {
    "duration": 0,
    "start_time": "2022-12-01T12:58:57.958Z"
   },
   {
    "duration": 0,
    "start_time": "2022-12-01T12:58:57.959Z"
   },
   {
    "duration": 0,
    "start_time": "2022-12-01T12:58:57.960Z"
   },
   {
    "duration": 0,
    "start_time": "2022-12-01T12:58:57.961Z"
   },
   {
    "duration": 0,
    "start_time": "2022-12-01T12:58:57.962Z"
   },
   {
    "duration": 0,
    "start_time": "2022-12-01T12:58:57.964Z"
   },
   {
    "duration": 0,
    "start_time": "2022-12-01T12:58:57.964Z"
   },
   {
    "duration": 0,
    "start_time": "2022-12-01T12:58:57.965Z"
   },
   {
    "duration": 0,
    "start_time": "2022-12-01T12:58:57.966Z"
   },
   {
    "duration": 0,
    "start_time": "2022-12-01T12:58:57.968Z"
   },
   {
    "duration": 7,
    "start_time": "2022-12-01T12:59:11.193Z"
   },
   {
    "duration": 28,
    "start_time": "2022-12-01T12:59:11.203Z"
   },
   {
    "duration": 187,
    "start_time": "2022-12-01T12:59:11.233Z"
   },
   {
    "duration": 22,
    "start_time": "2022-12-01T12:59:11.422Z"
   },
   {
    "duration": 148,
    "start_time": "2022-12-01T12:59:11.446Z"
   },
   {
    "duration": 12,
    "start_time": "2022-12-01T12:59:11.596Z"
   },
   {
    "duration": 13,
    "start_time": "2022-12-01T12:59:11.610Z"
   },
   {
    "duration": 229,
    "start_time": "2022-12-01T12:59:11.625Z"
   },
   {
    "duration": 172,
    "start_time": "2022-12-01T12:59:11.855Z"
   },
   {
    "duration": 7,
    "start_time": "2022-12-01T12:59:12.030Z"
   },
   {
    "duration": 19,
    "start_time": "2022-12-01T12:59:12.038Z"
   },
   {
    "duration": 168,
    "start_time": "2022-12-01T12:59:12.059Z"
   },
   {
    "duration": 201,
    "start_time": "2022-12-01T12:59:12.228Z"
   },
   {
    "duration": 593,
    "start_time": "2022-12-01T18:15:37.055Z"
   },
   {
    "duration": 22,
    "start_time": "2022-12-01T18:15:37.650Z"
   },
   {
    "duration": 15,
    "start_time": "2022-12-01T18:15:37.674Z"
   },
   {
    "duration": 10,
    "start_time": "2022-12-01T18:15:37.691Z"
   },
   {
    "duration": 34,
    "start_time": "2022-12-01T18:15:37.704Z"
   },
   {
    "duration": 4,
    "start_time": "2022-12-01T18:15:37.739Z"
   },
   {
    "duration": 51,
    "start_time": "2022-12-01T18:15:37.744Z"
   },
   {
    "duration": 4,
    "start_time": "2022-12-01T18:15:37.796Z"
   },
   {
    "duration": 8,
    "start_time": "2022-12-01T18:15:37.802Z"
   },
   {
    "duration": 4,
    "start_time": "2022-12-01T18:15:37.814Z"
   },
   {
    "duration": 34,
    "start_time": "2022-12-01T18:15:37.820Z"
   },
   {
    "duration": 10,
    "start_time": "2022-12-01T18:15:37.856Z"
   },
   {
    "duration": 4,
    "start_time": "2022-12-01T18:15:37.867Z"
   },
   {
    "duration": 36,
    "start_time": "2022-12-01T18:15:37.873Z"
   },
   {
    "duration": 21,
    "start_time": "2022-12-01T18:15:37.911Z"
   },
   {
    "duration": 18,
    "start_time": "2022-12-01T18:15:37.934Z"
   },
   {
    "duration": 3,
    "start_time": "2022-12-01T18:15:37.954Z"
   },
   {
    "duration": 13,
    "start_time": "2022-12-01T18:15:37.959Z"
   },
   {
    "duration": 5,
    "start_time": "2022-12-01T18:15:37.973Z"
   },
   {
    "duration": 37,
    "start_time": "2022-12-01T18:15:37.979Z"
   },
   {
    "duration": 12,
    "start_time": "2022-12-01T18:15:38.018Z"
   },
   {
    "duration": 11,
    "start_time": "2022-12-01T18:15:38.031Z"
   },
   {
    "duration": 390,
    "start_time": "2022-12-01T18:15:38.044Z"
   },
   {
    "duration": 185,
    "start_time": "2022-12-01T18:15:38.437Z"
   },
   {
    "duration": 7,
    "start_time": "2022-12-01T18:15:38.624Z"
   },
   {
    "duration": 2,
    "start_time": "2022-12-01T18:15:38.633Z"
   },
   {
    "duration": 3031,
    "start_time": "2022-12-01T18:15:38.637Z"
   },
   {
    "duration": 5,
    "start_time": "2022-12-01T18:15:41.671Z"
   },
   {
    "duration": 7,
    "start_time": "2022-12-01T18:15:41.678Z"
   },
   {
    "duration": 26,
    "start_time": "2022-12-01T18:15:41.686Z"
   },
   {
    "duration": 11,
    "start_time": "2022-12-01T18:15:41.713Z"
   },
   {
    "duration": 163,
    "start_time": "2022-12-01T18:15:41.725Z"
   },
   {
    "duration": 8,
    "start_time": "2022-12-01T18:15:41.890Z"
   },
   {
    "duration": 29,
    "start_time": "2022-12-01T18:15:41.906Z"
   },
   {
    "duration": 732,
    "start_time": "2022-12-02T06:31:12.128Z"
   },
   {
    "duration": 21,
    "start_time": "2022-12-02T06:31:12.861Z"
   },
   {
    "duration": 14,
    "start_time": "2022-12-02T06:31:12.883Z"
   },
   {
    "duration": 9,
    "start_time": "2022-12-02T06:31:12.899Z"
   },
   {
    "duration": 45,
    "start_time": "2022-12-02T06:31:12.910Z"
   },
   {
    "duration": 3,
    "start_time": "2022-12-02T06:31:12.956Z"
   },
   {
    "duration": 11,
    "start_time": "2022-12-02T06:31:12.960Z"
   },
   {
    "duration": 15,
    "start_time": "2022-12-02T06:31:12.972Z"
   },
   {
    "duration": 14,
    "start_time": "2022-12-02T06:31:12.988Z"
   },
   {
    "duration": 5,
    "start_time": "2022-12-02T06:31:13.004Z"
   },
   {
    "duration": 33,
    "start_time": "2022-12-02T06:31:13.010Z"
   },
   {
    "duration": 10,
    "start_time": "2022-12-02T06:31:13.045Z"
   },
   {
    "duration": 4,
    "start_time": "2022-12-02T06:31:13.057Z"
   },
   {
    "duration": 16,
    "start_time": "2022-12-02T06:31:13.062Z"
   },
   {
    "duration": 19,
    "start_time": "2022-12-02T06:31:13.079Z"
   },
   {
    "duration": 31,
    "start_time": "2022-12-02T06:31:13.099Z"
   },
   {
    "duration": 4,
    "start_time": "2022-12-02T06:31:13.131Z"
   },
   {
    "duration": 15,
    "start_time": "2022-12-02T06:31:13.136Z"
   },
   {
    "duration": 7,
    "start_time": "2022-12-02T06:31:13.152Z"
   },
   {
    "duration": 13,
    "start_time": "2022-12-02T06:31:13.161Z"
   },
   {
    "duration": 18,
    "start_time": "2022-12-02T06:31:13.176Z"
   },
   {
    "duration": 12,
    "start_time": "2022-12-02T06:31:13.195Z"
   },
   {
    "duration": 491,
    "start_time": "2022-12-02T06:31:13.215Z"
   },
   {
    "duration": 172,
    "start_time": "2022-12-02T06:31:13.715Z"
   },
   {
    "duration": 7,
    "start_time": "2022-12-02T06:31:13.889Z"
   },
   {
    "duration": 5,
    "start_time": "2022-12-02T06:31:13.897Z"
   },
   {
    "duration": 2760,
    "start_time": "2022-12-02T06:31:13.903Z"
   },
   {
    "duration": 5,
    "start_time": "2022-12-02T06:31:16.667Z"
   },
   {
    "duration": 6,
    "start_time": "2022-12-02T06:31:16.674Z"
   },
   {
    "duration": 8,
    "start_time": "2022-12-02T06:31:16.681Z"
   },
   {
    "duration": 9,
    "start_time": "2022-12-02T06:31:16.690Z"
   },
   {
    "duration": 2,
    "start_time": "2022-12-02T06:31:16.716Z"
   },
   {
    "duration": 147,
    "start_time": "2022-12-02T06:31:16.720Z"
   },
   {
    "duration": 8,
    "start_time": "2022-12-02T06:31:16.869Z"
   },
   {
    "duration": 11,
    "start_time": "2022-12-02T06:31:16.879Z"
   },
   {
    "duration": 148,
    "start_time": "2022-12-02T06:31:16.892Z"
   },
   {
    "duration": 179,
    "start_time": "2022-12-02T06:31:17.042Z"
   },
   {
    "duration": 10,
    "start_time": "2022-12-02T06:31:17.222Z"
   },
   {
    "duration": 6,
    "start_time": "2022-12-02T06:31:17.234Z"
   },
   {
    "duration": 163,
    "start_time": "2022-12-02T06:31:17.241Z"
   },
   {
    "duration": 29,
    "start_time": "2022-12-02T06:31:17.406Z"
   },
   {
    "duration": 10,
    "start_time": "2022-12-02T06:31:17.436Z"
   },
   {
    "duration": 151,
    "start_time": "2022-12-02T06:31:17.447Z"
   },
   {
    "duration": 180,
    "start_time": "2022-12-02T06:31:17.600Z"
   },
   {
    "duration": 9,
    "start_time": "2022-12-02T06:31:17.782Z"
   },
   {
    "duration": 5,
    "start_time": "2022-12-02T06:31:17.792Z"
   },
   {
    "duration": 19,
    "start_time": "2022-12-02T06:31:17.799Z"
   },
   {
    "duration": 13,
    "start_time": "2022-12-02T06:31:17.819Z"
   },
   {
    "duration": 149,
    "start_time": "2022-12-02T06:31:17.833Z"
   },
   {
    "duration": 20,
    "start_time": "2022-12-02T06:31:17.983Z"
   },
   {
    "duration": 199,
    "start_time": "2022-12-02T06:31:18.005Z"
   },
   {
    "duration": 16,
    "start_time": "2022-12-02T06:31:18.206Z"
   },
   {
    "duration": 11,
    "start_time": "2022-12-02T06:31:18.223Z"
   },
   {
    "duration": 133,
    "start_time": "2022-12-02T06:31:18.235Z"
   },
   {
    "duration": 150,
    "start_time": "2022-12-02T06:31:18.370Z"
   },
   {
    "duration": 5,
    "start_time": "2022-12-02T06:31:18.521Z"
   },
   {
    "duration": 16,
    "start_time": "2022-12-02T06:31:18.527Z"
   },
   {
    "duration": 161,
    "start_time": "2022-12-02T06:31:18.545Z"
   },
   {
    "duration": 175,
    "start_time": "2022-12-02T06:31:18.707Z"
   },
   {
    "duration": 136,
    "start_time": "2022-12-02T06:31:46.788Z"
   },
   {
    "duration": 140,
    "start_time": "2022-12-02T06:37:15.923Z"
   },
   {
    "duration": 194,
    "start_time": "2022-12-02T06:40:20.114Z"
   },
   {
    "duration": 151,
    "start_time": "2022-12-02T06:40:29.780Z"
   },
   {
    "duration": 132,
    "start_time": "2022-12-02T06:40:47.360Z"
   },
   {
    "duration": 137,
    "start_time": "2022-12-02T06:41:49.603Z"
   },
   {
    "duration": 89,
    "start_time": "2022-12-02T06:42:36.398Z"
   },
   {
    "duration": 264,
    "start_time": "2022-12-02T06:45:00.063Z"
   },
   {
    "duration": 188,
    "start_time": "2022-12-02T06:46:58.315Z"
   },
   {
    "duration": 106,
    "start_time": "2022-12-02T06:49:34.757Z"
   },
   {
    "duration": 170,
    "start_time": "2022-12-02T06:50:17.040Z"
   },
   {
    "duration": 191,
    "start_time": "2022-12-02T06:50:42.843Z"
   },
   {
    "duration": 47,
    "start_time": "2022-12-02T06:51:19.683Z"
   },
   {
    "duration": 161,
    "start_time": "2022-12-02T06:53:11.139Z"
   },
   {
    "duration": 173,
    "start_time": "2022-12-02T06:53:21.780Z"
   },
   {
    "duration": 162,
    "start_time": "2022-12-02T06:54:44.469Z"
   },
   {
    "duration": 297,
    "start_time": "2022-12-02T06:55:28.384Z"
   },
   {
    "duration": 187,
    "start_time": "2022-12-02T06:56:02.117Z"
   },
   {
    "duration": 167,
    "start_time": "2022-12-02T06:56:25.410Z"
   },
   {
    "duration": 16,
    "start_time": "2022-12-02T06:57:21.639Z"
   },
   {
    "duration": 209,
    "start_time": "2022-12-02T06:57:42.412Z"
   },
   {
    "duration": 290,
    "start_time": "2022-12-02T06:57:57.851Z"
   },
   {
    "duration": 202,
    "start_time": "2022-12-02T06:58:07.148Z"
   },
   {
    "duration": 175,
    "start_time": "2022-12-02T06:58:19.448Z"
   },
   {
    "duration": 135,
    "start_time": "2022-12-02T06:58:27.841Z"
   },
   {
    "duration": 131,
    "start_time": "2022-12-02T06:58:41.351Z"
   },
   {
    "duration": 184,
    "start_time": "2022-12-02T06:58:52.631Z"
   },
   {
    "duration": 268,
    "start_time": "2022-12-02T07:00:14.495Z"
   },
   {
    "duration": 345,
    "start_time": "2022-12-02T07:01:35.504Z"
   },
   {
    "duration": 272,
    "start_time": "2022-12-02T07:03:28.951Z"
   },
   {
    "duration": 291,
    "start_time": "2022-12-02T07:04:38.074Z"
   },
   {
    "duration": 17,
    "start_time": "2022-12-02T07:04:58.737Z"
   },
   {
    "duration": 49,
    "start_time": "2022-12-02T07:05:11.608Z"
   },
   {
    "duration": 305,
    "start_time": "2022-12-02T07:05:15.982Z"
   },
   {
    "duration": 345,
    "start_time": "2022-12-02T07:05:50.044Z"
   },
   {
    "duration": 47,
    "start_time": "2022-12-02T07:06:25.440Z"
   },
   {
    "duration": 262,
    "start_time": "2022-12-02T07:06:39.934Z"
   },
   {
    "duration": 454,
    "start_time": "2022-12-02T07:06:56.651Z"
   },
   {
    "duration": 20,
    "start_time": "2022-12-02T07:06:57.107Z"
   },
   {
    "duration": 13,
    "start_time": "2022-12-02T07:06:57.129Z"
   },
   {
    "duration": 9,
    "start_time": "2022-12-02T07:06:57.144Z"
   },
   {
    "duration": 44,
    "start_time": "2022-12-02T07:06:57.154Z"
   },
   {
    "duration": 4,
    "start_time": "2022-12-02T07:06:57.200Z"
   },
   {
    "duration": 18,
    "start_time": "2022-12-02T07:06:57.215Z"
   },
   {
    "duration": 13,
    "start_time": "2022-12-02T07:06:57.235Z"
   },
   {
    "duration": 19,
    "start_time": "2022-12-02T07:06:57.249Z"
   },
   {
    "duration": 5,
    "start_time": "2022-12-02T07:06:57.271Z"
   },
   {
    "duration": 38,
    "start_time": "2022-12-02T07:06:57.277Z"
   },
   {
    "duration": 9,
    "start_time": "2022-12-02T07:06:57.317Z"
   },
   {
    "duration": 12,
    "start_time": "2022-12-02T07:06:57.327Z"
   },
   {
    "duration": 26,
    "start_time": "2022-12-02T07:06:57.340Z"
   },
   {
    "duration": 32,
    "start_time": "2022-12-02T07:06:57.368Z"
   },
   {
    "duration": 17,
    "start_time": "2022-12-02T07:06:57.401Z"
   },
   {
    "duration": 14,
    "start_time": "2022-12-02T07:06:57.420Z"
   },
   {
    "duration": 24,
    "start_time": "2022-12-02T07:06:57.435Z"
   },
   {
    "duration": 20,
    "start_time": "2022-12-02T07:06:57.460Z"
   },
   {
    "duration": 5,
    "start_time": "2022-12-02T07:06:57.482Z"
   },
   {
    "duration": 22,
    "start_time": "2022-12-02T07:06:57.488Z"
   },
   {
    "duration": 15,
    "start_time": "2022-12-02T07:06:57.511Z"
   },
   {
    "duration": 391,
    "start_time": "2022-12-02T07:06:57.528Z"
   },
   {
    "duration": 177,
    "start_time": "2022-12-02T07:06:57.920Z"
   },
   {
    "duration": 7,
    "start_time": "2022-12-02T07:06:58.098Z"
   },
   {
    "duration": 2,
    "start_time": "2022-12-02T07:06:58.116Z"
   },
   {
    "duration": 2511,
    "start_time": "2022-12-02T07:06:58.119Z"
   },
   {
    "duration": 5,
    "start_time": "2022-12-02T07:07:00.634Z"
   },
   {
    "duration": 26,
    "start_time": "2022-12-02T07:07:00.640Z"
   },
   {
    "duration": 17,
    "start_time": "2022-12-02T07:07:00.667Z"
   },
   {
    "duration": 14,
    "start_time": "2022-12-02T07:07:00.686Z"
   },
   {
    "duration": 14,
    "start_time": "2022-12-02T07:07:00.702Z"
   },
   {
    "duration": 303,
    "start_time": "2022-12-02T07:07:00.717Z"
   },
   {
    "duration": 7,
    "start_time": "2022-12-02T07:07:01.022Z"
   },
   {
    "duration": 26,
    "start_time": "2022-12-02T07:07:01.031Z"
   },
   {
    "duration": 147,
    "start_time": "2022-12-02T07:07:01.058Z"
   },
   {
    "duration": 188,
    "start_time": "2022-12-02T07:07:01.207Z"
   },
   {
    "duration": 9,
    "start_time": "2022-12-02T07:07:01.396Z"
   },
   {
    "duration": 22,
    "start_time": "2022-12-02T07:07:01.415Z"
   },
   {
    "duration": 163,
    "start_time": "2022-12-02T07:07:01.438Z"
   },
   {
    "duration": 23,
    "start_time": "2022-12-02T07:07:01.603Z"
   },
   {
    "duration": 19,
    "start_time": "2022-12-02T07:07:01.627Z"
   },
   {
    "duration": 147,
    "start_time": "2022-12-02T07:07:01.648Z"
   },
   {
    "duration": 171,
    "start_time": "2022-12-02T07:07:01.797Z"
   },
   {
    "duration": 9,
    "start_time": "2022-12-02T07:07:01.970Z"
   },
   {
    "duration": 58,
    "start_time": "2022-12-02T07:07:01.980Z"
   },
   {
    "duration": 51,
    "start_time": "2022-12-02T07:07:02.040Z"
   },
   {
    "duration": 35,
    "start_time": "2022-12-02T07:07:02.093Z"
   },
   {
    "duration": 139,
    "start_time": "2022-12-02T07:07:02.131Z"
   },
   {
    "duration": 20,
    "start_time": "2022-12-02T07:07:02.272Z"
   },
   {
    "duration": 132,
    "start_time": "2022-12-02T07:07:02.293Z"
   },
   {
    "duration": 12,
    "start_time": "2022-12-02T07:07:02.427Z"
   },
   {
    "duration": 49,
    "start_time": "2022-12-02T07:07:02.441Z"
   },
   {
    "duration": 225,
    "start_time": "2022-12-02T07:07:02.492Z"
   },
   {
    "duration": 156,
    "start_time": "2022-12-02T07:07:02.719Z"
   },
   {
    "duration": 5,
    "start_time": "2022-12-02T07:07:02.876Z"
   },
   {
    "duration": 27,
    "start_time": "2022-12-02T07:07:02.883Z"
   },
   {
    "duration": 136,
    "start_time": "2022-12-02T07:07:02.915Z"
   },
   {
    "duration": 177,
    "start_time": "2022-12-02T07:07:03.053Z"
   },
   {
    "duration": 170,
    "start_time": "2022-12-02T07:12:57.241Z"
   },
   {
    "duration": 170,
    "start_time": "2022-12-02T07:13:17.388Z"
   },
   {
    "duration": 163,
    "start_time": "2022-12-02T07:13:24.540Z"
   },
   {
    "duration": 52,
    "start_time": "2022-12-02T07:14:13.576Z"
   },
   {
    "duration": 165,
    "start_time": "2022-12-02T07:14:16.563Z"
   },
   {
    "duration": 169,
    "start_time": "2022-12-02T07:14:37.366Z"
   },
   {
    "duration": 183,
    "start_time": "2022-12-02T07:14:47.532Z"
   },
   {
    "duration": 181,
    "start_time": "2022-12-02T07:15:03.491Z"
   },
   {
    "duration": 249,
    "start_time": "2022-12-02T07:15:14.595Z"
   },
   {
    "duration": 176,
    "start_time": "2022-12-02T07:15:23.953Z"
   },
   {
    "duration": 174,
    "start_time": "2022-12-02T07:17:18.224Z"
   },
   {
    "duration": 190,
    "start_time": "2022-12-02T07:19:08.043Z"
   },
   {
    "duration": 171,
    "start_time": "2022-12-02T07:20:07.020Z"
   },
   {
    "duration": 172,
    "start_time": "2022-12-02T07:21:05.389Z"
   },
   {
    "duration": 66,
    "start_time": "2022-12-02T07:21:36.371Z"
   },
   {
    "duration": 105,
    "start_time": "2022-12-02T07:21:39.954Z"
   },
   {
    "duration": 63,
    "start_time": "2022-12-02T07:21:47.819Z"
   },
   {
    "duration": 43,
    "start_time": "2022-12-02T07:21:52.073Z"
   },
   {
    "duration": 199,
    "start_time": "2022-12-02T07:22:06.311Z"
   },
   {
    "duration": 65,
    "start_time": "2022-12-02T07:22:24.839Z"
   },
   {
    "duration": 184,
    "start_time": "2022-12-02T07:23:30.667Z"
   },
   {
    "duration": 182,
    "start_time": "2022-12-02T07:23:39.000Z"
   },
   {
    "duration": 45,
    "start_time": "2022-12-02T07:24:24.893Z"
   },
   {
    "duration": 185,
    "start_time": "2022-12-02T07:24:38.099Z"
   },
   {
    "duration": 171,
    "start_time": "2022-12-02T07:24:43.492Z"
   },
   {
    "duration": 253,
    "start_time": "2022-12-02T07:25:04.353Z"
   },
   {
    "duration": 54,
    "start_time": "2022-12-02T07:25:13.432Z"
   },
   {
    "duration": 45,
    "start_time": "2022-12-02T07:25:17.408Z"
   },
   {
    "duration": 137,
    "start_time": "2022-12-02T07:25:22.815Z"
   },
   {
    "duration": 174,
    "start_time": "2022-12-02T07:25:35.902Z"
   },
   {
    "duration": 167,
    "start_time": "2022-12-02T07:25:43.567Z"
   },
   {
    "duration": 164,
    "start_time": "2022-12-02T07:26:18.310Z"
   },
   {
    "duration": 171,
    "start_time": "2022-12-02T07:26:35.906Z"
   },
   {
    "duration": 181,
    "start_time": "2022-12-02T07:26:55.633Z"
   },
   {
    "duration": 49,
    "start_time": "2022-12-02T07:27:28.902Z"
   },
   {
    "duration": 184,
    "start_time": "2022-12-02T07:27:35.711Z"
   },
   {
    "duration": 173,
    "start_time": "2022-12-02T07:28:00.331Z"
   },
   {
    "duration": 175,
    "start_time": "2022-12-02T07:28:08.338Z"
   },
   {
    "duration": 298,
    "start_time": "2022-12-02T07:28:54.273Z"
   },
   {
    "duration": 197,
    "start_time": "2022-12-02T07:29:32.011Z"
   },
   {
    "duration": 58,
    "start_time": "2022-12-02T07:29:59.451Z"
   },
   {
    "duration": 263,
    "start_time": "2022-12-02T07:30:02.632Z"
   },
   {
    "duration": 163,
    "start_time": "2022-12-02T07:30:10.495Z"
   },
   {
    "duration": 169,
    "start_time": "2022-12-02T07:33:04.553Z"
   },
   {
    "duration": 256,
    "start_time": "2022-12-02T07:33:13.272Z"
   },
   {
    "duration": 177,
    "start_time": "2022-12-02T07:33:20.940Z"
   },
   {
    "duration": 175,
    "start_time": "2022-12-02T07:33:44.830Z"
   },
   {
    "duration": 167,
    "start_time": "2022-12-02T07:34:13.371Z"
   },
   {
    "duration": 77,
    "start_time": "2022-12-02T07:34:18.922Z"
   },
   {
    "duration": 160,
    "start_time": "2022-12-02T07:34:22.859Z"
   },
   {
    "duration": 172,
    "start_time": "2022-12-02T07:34:34.326Z"
   },
   {
    "duration": 51,
    "start_time": "2022-12-02T07:37:33.412Z"
   },
   {
    "duration": 49,
    "start_time": "2022-12-02T07:37:47.794Z"
   },
   {
    "duration": 188,
    "start_time": "2022-12-02T07:37:55.280Z"
   },
   {
    "duration": 286,
    "start_time": "2022-12-02T07:38:05.511Z"
   },
   {
    "duration": 204,
    "start_time": "2022-12-02T07:38:18.590Z"
   },
   {
    "duration": 52,
    "start_time": "2022-12-02T07:38:34.949Z"
   },
   {
    "duration": 247,
    "start_time": "2022-12-02T07:38:46.118Z"
   },
   {
    "duration": 201,
    "start_time": "2022-12-02T07:38:50.133Z"
   },
   {
    "duration": 240,
    "start_time": "2022-12-02T07:38:56.139Z"
   },
   {
    "duration": 191,
    "start_time": "2022-12-02T07:39:04.331Z"
   },
   {
    "duration": 190,
    "start_time": "2022-12-02T07:39:11.412Z"
   },
   {
    "duration": 226,
    "start_time": "2022-12-02T07:39:41.249Z"
   },
   {
    "duration": 192,
    "start_time": "2022-12-02T07:39:45.953Z"
   },
   {
    "duration": 7,
    "start_time": "2022-12-02T07:41:06.165Z"
   },
   {
    "duration": 148,
    "start_time": "2022-12-02T07:41:11.578Z"
   },
   {
    "duration": 145,
    "start_time": "2022-12-02T07:41:20.096Z"
   },
   {
    "duration": 53,
    "start_time": "2022-12-02T07:41:27.721Z"
   },
   {
    "duration": 244,
    "start_time": "2022-12-02T07:41:37.941Z"
   },
   {
    "duration": 154,
    "start_time": "2022-12-02T07:42:44.972Z"
   },
   {
    "duration": 145,
    "start_time": "2022-12-02T07:42:53.684Z"
   },
   {
    "duration": 201,
    "start_time": "2022-12-02T07:43:06.250Z"
   },
   {
    "duration": 4,
    "start_time": "2022-12-02T07:44:21.858Z"
   },
   {
    "duration": 145,
    "start_time": "2022-12-02T07:44:25.696Z"
   },
   {
    "duration": 170,
    "start_time": "2022-12-02T07:44:55.404Z"
   },
   {
    "duration": 177,
    "start_time": "2022-12-02T07:45:19.341Z"
   },
   {
    "duration": 236,
    "start_time": "2022-12-02T07:46:10.567Z"
   },
   {
    "duration": 275,
    "start_time": "2022-12-02T07:47:08.989Z"
   },
   {
    "duration": 7,
    "start_time": "2022-12-02T07:48:17.430Z"
   },
   {
    "duration": 192,
    "start_time": "2022-12-02T07:48:21.733Z"
   },
   {
    "duration": 42,
    "start_time": "2022-12-02T07:49:14.177Z"
   },
   {
    "duration": 41,
    "start_time": "2022-12-02T07:49:17.168Z"
   },
   {
    "duration": 59,
    "start_time": "2022-12-02T07:49:21.675Z"
   },
   {
    "duration": 195,
    "start_time": "2022-12-02T07:49:25.846Z"
   },
   {
    "duration": 78,
    "start_time": "2022-12-02T07:54:46.959Z"
   },
   {
    "duration": 207,
    "start_time": "2022-12-02T07:59:39.471Z"
   },
   {
    "duration": 166,
    "start_time": "2022-12-02T07:59:57.683Z"
   },
   {
    "duration": 143,
    "start_time": "2022-12-02T08:00:23.617Z"
   },
   {
    "duration": 160,
    "start_time": "2022-12-02T08:00:36.055Z"
   },
   {
    "duration": 140,
    "start_time": "2022-12-02T08:00:45.933Z"
   },
   {
    "duration": 180,
    "start_time": "2022-12-02T08:00:55.221Z"
   },
   {
    "duration": 148,
    "start_time": "2022-12-02T08:01:02.773Z"
   },
   {
    "duration": 8,
    "start_time": "2022-12-02T08:01:14.788Z"
   },
   {
    "duration": 525,
    "start_time": "2022-12-02T08:01:48.786Z"
   },
   {
    "duration": 22,
    "start_time": "2022-12-02T08:01:49.313Z"
   },
   {
    "duration": 16,
    "start_time": "2022-12-02T08:01:49.337Z"
   },
   {
    "duration": 10,
    "start_time": "2022-12-02T08:01:49.356Z"
   },
   {
    "duration": 60,
    "start_time": "2022-12-02T08:01:49.367Z"
   },
   {
    "duration": 3,
    "start_time": "2022-12-02T08:01:49.429Z"
   },
   {
    "duration": 12,
    "start_time": "2022-12-02T08:01:49.434Z"
   },
   {
    "duration": 6,
    "start_time": "2022-12-02T08:01:49.448Z"
   },
   {
    "duration": 15,
    "start_time": "2022-12-02T08:01:49.456Z"
   },
   {
    "duration": 5,
    "start_time": "2022-12-02T08:01:49.475Z"
   },
   {
    "duration": 76,
    "start_time": "2022-12-02T08:01:49.483Z"
   },
   {
    "duration": 11,
    "start_time": "2022-12-02T08:01:49.562Z"
   },
   {
    "duration": 6,
    "start_time": "2022-12-02T08:01:49.575Z"
   },
   {
    "duration": 32,
    "start_time": "2022-12-02T08:01:49.582Z"
   },
   {
    "duration": 21,
    "start_time": "2022-12-02T08:01:49.616Z"
   },
   {
    "duration": 17,
    "start_time": "2022-12-02T08:01:49.638Z"
   },
   {
    "duration": 3,
    "start_time": "2022-12-02T08:01:49.657Z"
   },
   {
    "duration": 14,
    "start_time": "2022-12-02T08:01:49.662Z"
   },
   {
    "duration": 39,
    "start_time": "2022-12-02T08:01:49.678Z"
   },
   {
    "duration": 4,
    "start_time": "2022-12-02T08:01:49.719Z"
   },
   {
    "duration": 25,
    "start_time": "2022-12-02T08:01:49.725Z"
   },
   {
    "duration": 16,
    "start_time": "2022-12-02T08:01:49.752Z"
   },
   {
    "duration": 401,
    "start_time": "2022-12-02T08:01:49.770Z"
   },
   {
    "duration": 186,
    "start_time": "2022-12-02T08:01:50.172Z"
   },
   {
    "duration": 8,
    "start_time": "2022-12-02T08:01:50.360Z"
   },
   {
    "duration": 10,
    "start_time": "2022-12-02T08:01:50.370Z"
   },
   {
    "duration": 2707,
    "start_time": "2022-12-02T08:01:50.382Z"
   },
   {
    "duration": 5,
    "start_time": "2022-12-02T08:01:53.094Z"
   },
   {
    "duration": 21,
    "start_time": "2022-12-02T08:01:53.101Z"
   },
   {
    "duration": 12,
    "start_time": "2022-12-02T08:01:53.124Z"
   },
   {
    "duration": 9,
    "start_time": "2022-12-02T08:01:53.138Z"
   },
   {
    "duration": 2,
    "start_time": "2022-12-02T08:01:53.149Z"
   },
   {
    "duration": 209,
    "start_time": "2022-12-02T08:01:53.153Z"
   },
   {
    "duration": 11,
    "start_time": "2022-12-02T08:01:53.364Z"
   },
   {
    "duration": 15,
    "start_time": "2022-12-02T08:01:53.376Z"
   },
   {
    "duration": 173,
    "start_time": "2022-12-02T08:01:53.393Z"
   },
   {
    "duration": 208,
    "start_time": "2022-12-02T08:01:53.568Z"
   },
   {
    "duration": 14,
    "start_time": "2022-12-02T08:01:53.779Z"
   },
   {
    "duration": 20,
    "start_time": "2022-12-02T08:01:53.795Z"
   },
   {
    "duration": 162,
    "start_time": "2022-12-02T08:01:53.818Z"
   },
   {
    "duration": 38,
    "start_time": "2022-12-02T08:01:53.982Z"
   },
   {
    "duration": 22,
    "start_time": "2022-12-02T08:01:54.021Z"
   },
   {
    "duration": 187,
    "start_time": "2022-12-02T08:01:54.045Z"
   },
   {
    "duration": 232,
    "start_time": "2022-12-02T08:01:54.235Z"
   },
   {
    "duration": 11,
    "start_time": "2022-12-02T08:01:54.469Z"
   },
   {
    "duration": 7,
    "start_time": "2022-12-02T08:01:54.481Z"
   },
   {
    "duration": 28,
    "start_time": "2022-12-02T08:01:54.489Z"
   },
   {
    "duration": 3,
    "start_time": "2022-12-02T08:01:54.519Z"
   },
   {
    "duration": 180,
    "start_time": "2022-12-02T08:01:54.524Z"
   },
   {
    "duration": 40,
    "start_time": "2022-12-02T08:01:54.706Z"
   },
   {
    "duration": 145,
    "start_time": "2022-12-02T08:01:54.749Z"
   },
   {
    "duration": 20,
    "start_time": "2022-12-02T08:01:54.896Z"
   },
   {
    "duration": 18,
    "start_time": "2022-12-02T08:01:54.919Z"
   },
   {
    "duration": 243,
    "start_time": "2022-12-02T08:01:54.940Z"
   },
   {
    "duration": 255,
    "start_time": "2022-12-02T08:01:55.185Z"
   },
   {
    "duration": 7,
    "start_time": "2022-12-02T08:01:55.442Z"
   },
   {
    "duration": 18,
    "start_time": "2022-12-02T08:01:55.450Z"
   },
   {
    "duration": 177,
    "start_time": "2022-12-02T08:01:55.469Z"
   },
   {
    "duration": 192,
    "start_time": "2022-12-02T08:01:55.648Z"
   },
   {
    "duration": 7,
    "start_time": "2022-12-02T08:02:21.936Z"
   },
   {
    "duration": 138,
    "start_time": "2022-12-02T08:02:41.814Z"
   },
   {
    "duration": 135,
    "start_time": "2022-12-02T08:02:56.989Z"
   },
   {
    "duration": 44,
    "start_time": "2022-12-02T08:04:22.456Z"
   },
   {
    "duration": 21,
    "start_time": "2022-12-02T08:04:28.950Z"
   },
   {
    "duration": 1100,
    "start_time": "2022-12-02T08:13:46.670Z"
   },
   {
    "duration": 6,
    "start_time": "2022-12-02T08:13:57.661Z"
   },
   {
    "duration": 48,
    "start_time": "2022-12-02T08:14:17.836Z"
   },
   {
    "duration": 182,
    "start_time": "2022-12-02T08:21:35.774Z"
   },
   {
    "duration": 264,
    "start_time": "2022-12-02T08:21:45.165Z"
   },
   {
    "duration": 172,
    "start_time": "2022-12-02T08:21:54.350Z"
   },
   {
    "duration": 39,
    "start_time": "2022-12-02T08:23:19.800Z"
   },
   {
    "duration": 188,
    "start_time": "2022-12-02T08:23:27.404Z"
   },
   {
    "duration": 174,
    "start_time": "2022-12-02T08:23:34.453Z"
   },
   {
    "duration": 264,
    "start_time": "2022-12-02T08:24:24.025Z"
   },
   {
    "duration": 174,
    "start_time": "2022-12-02T08:24:27.863Z"
   },
   {
    "duration": 174,
    "start_time": "2022-12-02T08:24:33.620Z"
   },
   {
    "duration": 213,
    "start_time": "2022-12-02T08:26:19.623Z"
   },
   {
    "duration": 177,
    "start_time": "2022-12-02T08:26:31.150Z"
   },
   {
    "duration": 191,
    "start_time": "2022-12-02T08:29:38.417Z"
   },
   {
    "duration": 349,
    "start_time": "2022-12-02T08:32:24.368Z"
   },
   {
    "duration": 340,
    "start_time": "2022-12-02T08:32:56.850Z"
   },
   {
    "duration": 423,
    "start_time": "2022-12-02T08:33:09.981Z"
   },
   {
    "duration": 211,
    "start_time": "2022-12-02T08:34:03.908Z"
   },
   {
    "duration": 177,
    "start_time": "2022-12-02T08:34:28.964Z"
   },
   {
    "duration": 205,
    "start_time": "2022-12-02T08:34:37.519Z"
   },
   {
    "duration": 61,
    "start_time": "2022-12-02T08:35:58.414Z"
   },
   {
    "duration": 13,
    "start_time": "2022-12-02T08:37:21.168Z"
   },
   {
    "duration": 56,
    "start_time": "2022-12-02T08:39:04.063Z"
   },
   {
    "duration": 24,
    "start_time": "2022-12-02T08:40:57.504Z"
   },
   {
    "duration": 42,
    "start_time": "2022-12-02T08:43:29.692Z"
   },
   {
    "duration": 8,
    "start_time": "2022-12-02T08:44:22.232Z"
   },
   {
    "duration": 8,
    "start_time": "2022-12-02T08:44:49.819Z"
   },
   {
    "duration": 182,
    "start_time": "2022-12-02T08:46:46.000Z"
   },
   {
    "duration": 128,
    "start_time": "2022-12-02T08:47:48.096Z"
   },
   {
    "duration": 15,
    "start_time": "2022-12-02T08:50:27.728Z"
   },
   {
    "duration": 6,
    "start_time": "2022-12-02T08:51:23.924Z"
   },
   {
    "duration": 5,
    "start_time": "2022-12-02T08:52:17.077Z"
   },
   {
    "duration": 5,
    "start_time": "2022-12-02T08:53:04.449Z"
   },
   {
    "duration": 12,
    "start_time": "2022-12-02T08:54:08.619Z"
   },
   {
    "duration": 4,
    "start_time": "2022-12-02T08:57:31.354Z"
   },
   {
    "duration": 4,
    "start_time": "2022-12-02T08:58:01.996Z"
   },
   {
    "duration": 4,
    "start_time": "2022-12-02T08:58:34.677Z"
   },
   {
    "duration": 3,
    "start_time": "2022-12-02T08:58:45.788Z"
   },
   {
    "duration": 4,
    "start_time": "2022-12-02T08:58:57.173Z"
   },
   {
    "duration": 5,
    "start_time": "2022-12-02T08:59:11.426Z"
   },
   {
    "duration": 3,
    "start_time": "2022-12-02T08:59:42.675Z"
   },
   {
    "duration": 5,
    "start_time": "2022-12-02T08:59:54.127Z"
   },
   {
    "duration": 5,
    "start_time": "2022-12-02T09:00:03.006Z"
   },
   {
    "duration": 14,
    "start_time": "2022-12-02T09:00:09.461Z"
   },
   {
    "duration": 12,
    "start_time": "2022-12-02T09:00:40.883Z"
   },
   {
    "duration": 13,
    "start_time": "2022-12-02T09:00:48.626Z"
   },
   {
    "duration": 184,
    "start_time": "2022-12-02T09:04:01.158Z"
   },
   {
    "duration": 151,
    "start_time": "2022-12-02T09:04:28.067Z"
   },
   {
    "duration": 164,
    "start_time": "2022-12-02T09:06:21.608Z"
   },
   {
    "duration": 165,
    "start_time": "2022-12-02T09:06:43.572Z"
   },
   {
    "duration": 72,
    "start_time": "2022-12-02T09:07:49.666Z"
   },
   {
    "duration": 50,
    "start_time": "2022-12-02T09:09:02.601Z"
   },
   {
    "duration": 24,
    "start_time": "2022-12-02T09:10:11.143Z"
   },
   {
    "duration": 5,
    "start_time": "2022-12-02T09:10:42.992Z"
   },
   {
    "duration": 134,
    "start_time": "2022-12-02T09:10:45.887Z"
   },
   {
    "duration": 5,
    "start_time": "2022-12-02T09:11:06.838Z"
   },
   {
    "duration": 165,
    "start_time": "2022-12-02T09:11:31.060Z"
   },
   {
    "duration": 71,
    "start_time": "2022-12-02T09:15:55.923Z"
   },
   {
    "duration": 20,
    "start_time": "2022-12-02T09:20:12.618Z"
   },
   {
    "duration": 24,
    "start_time": "2022-12-02T09:20:32.615Z"
   },
   {
    "duration": 50,
    "start_time": "2022-12-02T09:20:42.549Z"
   },
   {
    "duration": 60,
    "start_time": "2022-12-02T09:21:41.753Z"
   },
   {
    "duration": 154,
    "start_time": "2022-12-02T09:22:06.416Z"
   },
   {
    "duration": 72,
    "start_time": "2022-12-02T09:22:15.017Z"
   },
   {
    "duration": 47,
    "start_time": "2022-12-02T09:22:23.853Z"
   },
   {
    "duration": 59,
    "start_time": "2022-12-02T09:26:10.549Z"
   },
   {
    "duration": 81,
    "start_time": "2022-12-02T09:26:14.200Z"
   },
   {
    "duration": 15,
    "start_time": "2022-12-02T09:28:36.139Z"
   },
   {
    "duration": 259,
    "start_time": "2022-12-02T09:28:45.334Z"
   },
   {
    "duration": 4,
    "start_time": "2022-12-02T09:30:07.281Z"
   },
   {
    "duration": 293,
    "start_time": "2022-12-02T09:30:12.402Z"
   },
   {
    "duration": 250,
    "start_time": "2022-12-02T09:32:32.152Z"
   },
   {
    "duration": 210,
    "start_time": "2022-12-02T09:33:20.452Z"
   },
   {
    "duration": 217,
    "start_time": "2022-12-02T09:33:43.821Z"
   },
   {
    "duration": 10,
    "start_time": "2022-12-02T09:34:21.129Z"
   },
   {
    "duration": 196,
    "start_time": "2022-12-02T09:34:47.294Z"
   },
   {
    "duration": 271,
    "start_time": "2022-12-02T09:35:07.381Z"
   },
   {
    "duration": 142,
    "start_time": "2022-12-02T09:36:09.747Z"
   },
   {
    "duration": 126,
    "start_time": "2022-12-02T09:37:06.677Z"
   },
   {
    "duration": 134,
    "start_time": "2022-12-02T09:37:58.304Z"
   },
   {
    "duration": 287,
    "start_time": "2022-12-02T09:38:09.526Z"
   },
   {
    "duration": 65,
    "start_time": "2022-12-02T09:41:52.844Z"
   },
   {
    "duration": 132,
    "start_time": "2022-12-02T09:42:22.868Z"
   },
   {
    "duration": 226,
    "start_time": "2022-12-02T09:42:36.070Z"
   },
   {
    "duration": 132,
    "start_time": "2022-12-02T09:43:40.551Z"
   },
   {
    "duration": 170,
    "start_time": "2022-12-02T09:45:12.599Z"
   },
   {
    "duration": 171,
    "start_time": "2022-12-02T09:45:21.355Z"
   },
   {
    "duration": 456,
    "start_time": "2022-12-02T09:48:04.966Z"
   },
   {
    "duration": 19,
    "start_time": "2022-12-02T09:50:53.978Z"
   },
   {
    "duration": 46,
    "start_time": "2022-12-02T09:53:06.524Z"
   },
   {
    "duration": 62,
    "start_time": "2022-12-02T09:53:09.084Z"
   },
   {
    "duration": 56,
    "start_time": "2022-12-02T10:07:50.430Z"
   },
   {
    "duration": 486,
    "start_time": "2022-12-02T10:08:17.870Z"
   },
   {
    "duration": 24,
    "start_time": "2022-12-02T10:08:18.357Z"
   },
   {
    "duration": 15,
    "start_time": "2022-12-02T10:08:18.383Z"
   },
   {
    "duration": 23,
    "start_time": "2022-12-02T10:08:18.400Z"
   },
   {
    "duration": 34,
    "start_time": "2022-12-02T10:08:18.425Z"
   },
   {
    "duration": 3,
    "start_time": "2022-12-02T10:08:18.460Z"
   },
   {
    "duration": 13,
    "start_time": "2022-12-02T10:08:18.464Z"
   },
   {
    "duration": 5,
    "start_time": "2022-12-02T10:08:18.478Z"
   },
   {
    "duration": 34,
    "start_time": "2022-12-02T10:08:18.484Z"
   },
   {
    "duration": 6,
    "start_time": "2022-12-02T10:08:18.521Z"
   },
   {
    "duration": 36,
    "start_time": "2022-12-02T10:08:18.528Z"
   },
   {
    "duration": 12,
    "start_time": "2022-12-02T10:08:18.566Z"
   },
   {
    "duration": 36,
    "start_time": "2022-12-02T10:08:18.580Z"
   },
   {
    "duration": 13,
    "start_time": "2022-12-02T10:08:18.618Z"
   },
   {
    "duration": 26,
    "start_time": "2022-12-02T10:08:18.632Z"
   },
   {
    "duration": 19,
    "start_time": "2022-12-02T10:08:18.660Z"
   },
   {
    "duration": 5,
    "start_time": "2022-12-02T10:08:18.681Z"
   },
   {
    "duration": 43,
    "start_time": "2022-12-02T10:08:18.688Z"
   },
   {
    "duration": 8,
    "start_time": "2022-12-02T10:08:18.733Z"
   },
   {
    "duration": 8,
    "start_time": "2022-12-02T10:08:18.743Z"
   },
   {
    "duration": 12,
    "start_time": "2022-12-02T10:08:18.753Z"
   },
   {
    "duration": 9,
    "start_time": "2022-12-02T10:08:18.767Z"
   },
   {
    "duration": 455,
    "start_time": "2022-12-02T10:08:18.778Z"
   },
   {
    "duration": 188,
    "start_time": "2022-12-02T10:08:19.235Z"
   },
   {
    "duration": 9,
    "start_time": "2022-12-02T10:08:19.424Z"
   },
   {
    "duration": 6,
    "start_time": "2022-12-02T10:08:19.435Z"
   },
   {
    "duration": 2522,
    "start_time": "2022-12-02T10:08:19.442Z"
   },
   {
    "duration": 5,
    "start_time": "2022-12-02T10:08:21.968Z"
   },
   {
    "duration": 9,
    "start_time": "2022-12-02T10:08:21.974Z"
   },
   {
    "duration": 10,
    "start_time": "2022-12-02T10:08:21.984Z"
   },
   {
    "duration": 24,
    "start_time": "2022-12-02T10:08:21.995Z"
   },
   {
    "duration": 3,
    "start_time": "2022-12-02T10:08:22.021Z"
   },
   {
    "duration": 210,
    "start_time": "2022-12-02T10:08:22.025Z"
   },
   {
    "duration": 8,
    "start_time": "2022-12-02T10:08:22.237Z"
   },
   {
    "duration": 12,
    "start_time": "2022-12-02T10:08:22.246Z"
   },
   {
    "duration": 179,
    "start_time": "2022-12-02T10:08:22.260Z"
   },
   {
    "duration": 211,
    "start_time": "2022-12-02T10:08:22.441Z"
   },
   {
    "duration": 9,
    "start_time": "2022-12-02T10:08:22.654Z"
   },
   {
    "duration": 6,
    "start_time": "2022-12-02T10:08:22.664Z"
   },
   {
    "duration": 175,
    "start_time": "2022-12-02T10:08:22.672Z"
   },
   {
    "duration": 31,
    "start_time": "2022-12-02T10:08:22.849Z"
   },
   {
    "duration": 12,
    "start_time": "2022-12-02T10:08:22.882Z"
   },
   {
    "duration": 147,
    "start_time": "2022-12-02T10:08:22.895Z"
   },
   {
    "duration": 179,
    "start_time": "2022-12-02T10:08:23.043Z"
   },
   {
    "duration": 178,
    "start_time": "2022-12-02T10:08:23.224Z"
   },
   {
    "duration": 55,
    "start_time": "2022-12-02T10:08:23.405Z"
   },
   {
    "duration": 35,
    "start_time": "2022-12-02T10:08:23.462Z"
   },
   {
    "duration": 441,
    "start_time": "2022-12-02T10:08:23.500Z"
   },
   {
    "duration": 11,
    "start_time": "2022-12-02T10:08:23.943Z"
   },
   {
    "duration": 176,
    "start_time": "2022-12-02T10:08:23.956Z"
   },
   {
    "duration": 186,
    "start_time": "2022-12-02T10:08:24.134Z"
   },
   {
    "duration": 10,
    "start_time": "2022-12-02T10:08:24.322Z"
   },
   {
    "duration": 5,
    "start_time": "2022-12-02T10:08:24.334Z"
   },
   {
    "duration": 9,
    "start_time": "2022-12-02T10:08:24.341Z"
   },
   {
    "duration": 5,
    "start_time": "2022-12-02T10:08:24.351Z"
   },
   {
    "duration": 170,
    "start_time": "2022-12-02T10:08:24.358Z"
   },
   {
    "duration": 22,
    "start_time": "2022-12-02T10:08:24.530Z"
   },
   {
    "duration": 134,
    "start_time": "2022-12-02T10:08:24.553Z"
   },
   {
    "duration": 27,
    "start_time": "2022-12-02T10:08:24.688Z"
   },
   {
    "duration": 19,
    "start_time": "2022-12-02T10:08:24.717Z"
   },
   {
    "duration": 179,
    "start_time": "2022-12-02T10:08:24.737Z"
   },
   {
    "duration": 163,
    "start_time": "2022-12-02T10:08:24.917Z"
   },
   {
    "duration": 5,
    "start_time": "2022-12-02T10:08:25.082Z"
   },
   {
    "duration": 17,
    "start_time": "2022-12-02T10:08:25.088Z"
   },
   {
    "duration": 229,
    "start_time": "2022-12-02T10:08:25.116Z"
   },
   {
    "duration": 202,
    "start_time": "2022-12-02T10:08:25.347Z"
   },
   {
    "duration": 72,
    "start_time": "2022-12-02T10:17:47.692Z"
   },
   {
    "duration": 8,
    "start_time": "2022-12-02T10:29:12.004Z"
   },
   {
    "duration": 7,
    "start_time": "2022-12-02T10:29:20.738Z"
   },
   {
    "duration": 147,
    "start_time": "2022-12-02T10:37:20.745Z"
   },
   {
    "duration": 800,
    "start_time": "2022-12-06T07:48:48.912Z"
   },
   {
    "duration": 24,
    "start_time": "2022-12-06T07:48:49.714Z"
   },
   {
    "duration": 24,
    "start_time": "2022-12-06T07:48:49.739Z"
   },
   {
    "duration": 18,
    "start_time": "2022-12-06T07:48:49.766Z"
   },
   {
    "duration": 41,
    "start_time": "2022-12-06T07:48:49.786Z"
   },
   {
    "duration": 3,
    "start_time": "2022-12-06T07:48:49.829Z"
   },
   {
    "duration": 33,
    "start_time": "2022-12-06T07:48:49.834Z"
   },
   {
    "duration": 18,
    "start_time": "2022-12-06T07:48:49.869Z"
   },
   {
    "duration": 24,
    "start_time": "2022-12-06T07:48:49.888Z"
   },
   {
    "duration": 13,
    "start_time": "2022-12-06T07:48:49.915Z"
   },
   {
    "duration": 50,
    "start_time": "2022-12-06T07:48:49.930Z"
   },
   {
    "duration": 9,
    "start_time": "2022-12-06T07:48:49.981Z"
   },
   {
    "duration": 8,
    "start_time": "2022-12-06T07:48:49.992Z"
   },
   {
    "duration": 16,
    "start_time": "2022-12-06T07:48:50.002Z"
   },
   {
    "duration": 24,
    "start_time": "2022-12-06T07:48:50.020Z"
   },
   {
    "duration": 18,
    "start_time": "2022-12-06T07:48:50.046Z"
   },
   {
    "duration": 4,
    "start_time": "2022-12-06T07:48:50.066Z"
   },
   {
    "duration": 29,
    "start_time": "2022-12-06T07:48:50.071Z"
   },
   {
    "duration": 21,
    "start_time": "2022-12-06T07:48:50.102Z"
   },
   {
    "duration": 14,
    "start_time": "2022-12-06T07:48:50.125Z"
   },
   {
    "duration": 33,
    "start_time": "2022-12-06T07:48:50.141Z"
   },
   {
    "duration": 21,
    "start_time": "2022-12-06T07:48:50.176Z"
   },
   {
    "duration": 574,
    "start_time": "2022-12-06T07:48:50.199Z"
   },
   {
    "duration": 210,
    "start_time": "2022-12-06T07:48:50.775Z"
   },
   {
    "duration": 8,
    "start_time": "2022-12-06T07:48:50.987Z"
   },
   {
    "duration": 16,
    "start_time": "2022-12-06T07:48:50.996Z"
   },
   {
    "duration": 2797,
    "start_time": "2022-12-06T07:48:51.014Z"
   },
   {
    "duration": 5,
    "start_time": "2022-12-06T07:48:53.815Z"
   },
   {
    "duration": 13,
    "start_time": "2022-12-06T07:48:53.821Z"
   },
   {
    "duration": 25,
    "start_time": "2022-12-06T07:48:53.836Z"
   },
   {
    "duration": 21,
    "start_time": "2022-12-06T07:48:53.863Z"
   },
   {
    "duration": 3,
    "start_time": "2022-12-06T07:48:53.885Z"
   },
   {
    "duration": 207,
    "start_time": "2022-12-06T07:48:53.890Z"
   },
   {
    "duration": 14,
    "start_time": "2022-12-06T07:48:54.099Z"
   },
   {
    "duration": 12,
    "start_time": "2022-12-06T07:48:54.115Z"
   },
   {
    "duration": 191,
    "start_time": "2022-12-06T07:48:54.129Z"
   },
   {
    "duration": 222,
    "start_time": "2022-12-06T07:48:54.322Z"
   },
   {
    "duration": 10,
    "start_time": "2022-12-06T07:48:54.546Z"
   },
   {
    "duration": 28,
    "start_time": "2022-12-06T07:48:54.558Z"
   },
   {
    "duration": 214,
    "start_time": "2022-12-06T07:48:54.588Z"
   },
   {
    "duration": 36,
    "start_time": "2022-12-06T07:48:54.805Z"
   },
   {
    "duration": 13,
    "start_time": "2022-12-06T07:48:54.843Z"
   },
   {
    "duration": 198,
    "start_time": "2022-12-06T07:48:54.858Z"
   },
   {
    "duration": 205,
    "start_time": "2022-12-06T07:48:55.058Z"
   },
   {
    "duration": 203,
    "start_time": "2022-12-06T07:48:55.264Z"
   },
   {
    "duration": 67,
    "start_time": "2022-12-06T07:48:55.469Z"
   },
   {
    "duration": 496,
    "start_time": "2022-12-06T07:48:55.537Z"
   },
   {
    "duration": 12,
    "start_time": "2022-12-06T07:48:56.035Z"
   },
   {
    "duration": 187,
    "start_time": "2022-12-06T07:48:56.049Z"
   },
   {
    "duration": 238,
    "start_time": "2022-12-06T07:48:56.238Z"
   },
   {
    "duration": 13,
    "start_time": "2022-12-06T07:48:56.478Z"
   },
   {
    "duration": 26,
    "start_time": "2022-12-06T07:48:56.493Z"
   },
   {
    "duration": 27,
    "start_time": "2022-12-06T07:48:56.521Z"
   },
   {
    "duration": 17,
    "start_time": "2022-12-06T07:48:56.551Z"
   },
   {
    "duration": 180,
    "start_time": "2022-12-06T07:48:56.570Z"
   },
   {
    "duration": 23,
    "start_time": "2022-12-06T07:48:56.752Z"
   },
   {
    "duration": 147,
    "start_time": "2022-12-06T07:48:56.777Z"
   },
   {
    "duration": 11,
    "start_time": "2022-12-06T07:48:56.926Z"
   },
   {
    "duration": 19,
    "start_time": "2022-12-06T07:48:56.939Z"
   },
   {
    "duration": 170,
    "start_time": "2022-12-06T07:48:56.959Z"
   },
   {
    "duration": 265,
    "start_time": "2022-12-06T07:48:57.131Z"
   },
   {
    "duration": 6,
    "start_time": "2022-12-06T07:48:57.398Z"
   },
   {
    "duration": 15,
    "start_time": "2022-12-06T07:48:57.413Z"
   },
   {
    "duration": 171,
    "start_time": "2022-12-06T07:48:57.430Z"
   },
   {
    "duration": 210,
    "start_time": "2022-12-06T07:48:57.612Z"
   }
  ],
  "colab": {
   "name": "dpp_template_part2.ipynb",
   "provenance": []
  },
  "kernelspec": {
   "display_name": "Python 3 (ipykernel)",
   "language": "python",
   "name": "python3"
  },
  "language_info": {
   "codemirror_mode": {
    "name": "ipython",
    "version": 3
   },
   "file_extension": ".py",
   "mimetype": "text/x-python",
   "name": "python",
   "nbconvert_exporter": "python",
   "pygments_lexer": "ipython3",
   "version": "3.9.13"
  },
  "toc": {
   "base_numbering": 1,
   "nav_menu": {
    "height": "418px",
    "width": "478px"
   },
   "number_sections": true,
   "sideBar": true,
   "skip_h1_title": true,
   "title_cell": "Table of Contents",
   "title_sidebar": "Contents",
   "toc_cell": false,
   "toc_position": {},
   "toc_section_display": true,
   "toc_window_display": false
  }
 },
 "nbformat": 4,
 "nbformat_minor": 5
}
