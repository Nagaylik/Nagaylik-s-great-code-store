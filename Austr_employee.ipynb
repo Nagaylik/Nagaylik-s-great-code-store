{
 "cells": [
  {
   "cell_type": "markdown",
   "metadata": {
    "collapsed": true
   },
   "source": [
    "In this project, we'll work with exit surveys from employees of the Department of Education, Training and Employment (DETE) and the Technical and Further Education (TAFE) institute in Queensland, Australia.\n",
    "\n",
    "We'll play the role of data analyst and pretend our stakeholders want to know the following:\n",
    "\n",
    "-Are employees who only worked for the institutes for a short period of time resigning due to some kind of dissatisfaction? What about employees who have been there longer?\n",
    "\n",
    "-Are younger employees resigning due to some kind of dissatisfaction? What about older employees?"
   ]
  },
  {
   "cell_type": "code",
   "execution_count": 1,
   "metadata": {},
   "outputs": [
    {
     "data": {
      "text/html": [
       "<div>\n",
       "<style scoped>\n",
       "    .dataframe tbody tr th:only-of-type {\n",
       "        vertical-align: middle;\n",
       "    }\n",
       "\n",
       "    .dataframe tbody tr th {\n",
       "        vertical-align: top;\n",
       "    }\n",
       "\n",
       "    .dataframe thead th {\n",
       "        text-align: right;\n",
       "    }\n",
       "</style>\n",
       "<table border=\"1\" class=\"dataframe\">\n",
       "  <thead>\n",
       "    <tr style=\"text-align: right;\">\n",
       "      <th></th>\n",
       "      <th>ID</th>\n",
       "      <th>SeparationType</th>\n",
       "      <th>Cease Date</th>\n",
       "      <th>DETE Start Date</th>\n",
       "      <th>Role Start Date</th>\n",
       "      <th>Position</th>\n",
       "      <th>Classification</th>\n",
       "      <th>Region</th>\n",
       "      <th>Business Unit</th>\n",
       "      <th>Employment Status</th>\n",
       "      <th>...</th>\n",
       "      <th>Kept informed</th>\n",
       "      <th>Wellness programs</th>\n",
       "      <th>Health &amp; Safety</th>\n",
       "      <th>Gender</th>\n",
       "      <th>Age</th>\n",
       "      <th>Aboriginal</th>\n",
       "      <th>Torres Strait</th>\n",
       "      <th>South Sea</th>\n",
       "      <th>Disability</th>\n",
       "      <th>NESB</th>\n",
       "    </tr>\n",
       "  </thead>\n",
       "  <tbody>\n",
       "    <tr>\n",
       "      <th>0</th>\n",
       "      <td>1</td>\n",
       "      <td>Ill Health Retirement</td>\n",
       "      <td>08/2012</td>\n",
       "      <td>1984.0</td>\n",
       "      <td>2004.0</td>\n",
       "      <td>Public Servant</td>\n",
       "      <td>A01-A04</td>\n",
       "      <td>Central Office</td>\n",
       "      <td>Corporate Strategy and Peformance</td>\n",
       "      <td>Permanent Full-time</td>\n",
       "      <td>...</td>\n",
       "      <td>N</td>\n",
       "      <td>N</td>\n",
       "      <td>N</td>\n",
       "      <td>Male</td>\n",
       "      <td>56-60</td>\n",
       "      <td>NaN</td>\n",
       "      <td>NaN</td>\n",
       "      <td>NaN</td>\n",
       "      <td>NaN</td>\n",
       "      <td>Yes</td>\n",
       "    </tr>\n",
       "    <tr>\n",
       "      <th>1</th>\n",
       "      <td>2</td>\n",
       "      <td>Voluntary Early Retirement (VER)</td>\n",
       "      <td>08/2012</td>\n",
       "      <td>NaN</td>\n",
       "      <td>NaN</td>\n",
       "      <td>Public Servant</td>\n",
       "      <td>AO5-AO7</td>\n",
       "      <td>Central Office</td>\n",
       "      <td>Corporate Strategy and Peformance</td>\n",
       "      <td>Permanent Full-time</td>\n",
       "      <td>...</td>\n",
       "      <td>N</td>\n",
       "      <td>N</td>\n",
       "      <td>N</td>\n",
       "      <td>Male</td>\n",
       "      <td>56-60</td>\n",
       "      <td>NaN</td>\n",
       "      <td>NaN</td>\n",
       "      <td>NaN</td>\n",
       "      <td>NaN</td>\n",
       "      <td>NaN</td>\n",
       "    </tr>\n",
       "    <tr>\n",
       "      <th>2</th>\n",
       "      <td>3</td>\n",
       "      <td>Voluntary Early Retirement (VER)</td>\n",
       "      <td>05/2012</td>\n",
       "      <td>2011.0</td>\n",
       "      <td>2011.0</td>\n",
       "      <td>Schools Officer</td>\n",
       "      <td>NaN</td>\n",
       "      <td>Central Office</td>\n",
       "      <td>Education Queensland</td>\n",
       "      <td>Permanent Full-time</td>\n",
       "      <td>...</td>\n",
       "      <td>N</td>\n",
       "      <td>N</td>\n",
       "      <td>N</td>\n",
       "      <td>Male</td>\n",
       "      <td>61 or older</td>\n",
       "      <td>NaN</td>\n",
       "      <td>NaN</td>\n",
       "      <td>NaN</td>\n",
       "      <td>NaN</td>\n",
       "      <td>NaN</td>\n",
       "    </tr>\n",
       "    <tr>\n",
       "      <th>3</th>\n",
       "      <td>4</td>\n",
       "      <td>Resignation-Other reasons</td>\n",
       "      <td>05/2012</td>\n",
       "      <td>2005.0</td>\n",
       "      <td>2006.0</td>\n",
       "      <td>Teacher</td>\n",
       "      <td>Primary</td>\n",
       "      <td>Central Queensland</td>\n",
       "      <td>NaN</td>\n",
       "      <td>Permanent Full-time</td>\n",
       "      <td>...</td>\n",
       "      <td>A</td>\n",
       "      <td>N</td>\n",
       "      <td>A</td>\n",
       "      <td>Female</td>\n",
       "      <td>36-40</td>\n",
       "      <td>NaN</td>\n",
       "      <td>NaN</td>\n",
       "      <td>NaN</td>\n",
       "      <td>NaN</td>\n",
       "      <td>NaN</td>\n",
       "    </tr>\n",
       "    <tr>\n",
       "      <th>4</th>\n",
       "      <td>5</td>\n",
       "      <td>Age Retirement</td>\n",
       "      <td>05/2012</td>\n",
       "      <td>1970.0</td>\n",
       "      <td>1989.0</td>\n",
       "      <td>Head of Curriculum/Head of Special Education</td>\n",
       "      <td>NaN</td>\n",
       "      <td>South East</td>\n",
       "      <td>NaN</td>\n",
       "      <td>Permanent Full-time</td>\n",
       "      <td>...</td>\n",
       "      <td>N</td>\n",
       "      <td>A</td>\n",
       "      <td>M</td>\n",
       "      <td>Female</td>\n",
       "      <td>61 or older</td>\n",
       "      <td>NaN</td>\n",
       "      <td>NaN</td>\n",
       "      <td>NaN</td>\n",
       "      <td>NaN</td>\n",
       "      <td>NaN</td>\n",
       "    </tr>\n",
       "  </tbody>\n",
       "</table>\n",
       "<p>5 rows × 56 columns</p>\n",
       "</div>"
      ],
      "text/plain": [
       "   ID                    SeparationType Cease Date  DETE Start Date  \\\n",
       "0   1             Ill Health Retirement    08/2012           1984.0   \n",
       "1   2  Voluntary Early Retirement (VER)    08/2012              NaN   \n",
       "2   3  Voluntary Early Retirement (VER)    05/2012           2011.0   \n",
       "3   4         Resignation-Other reasons    05/2012           2005.0   \n",
       "4   5                    Age Retirement    05/2012           1970.0   \n",
       "\n",
       "   Role Start Date                                      Position  \\\n",
       "0           2004.0                                Public Servant   \n",
       "1              NaN                                Public Servant   \n",
       "2           2011.0                               Schools Officer   \n",
       "3           2006.0                                       Teacher   \n",
       "4           1989.0  Head of Curriculum/Head of Special Education   \n",
       "\n",
       "  Classification              Region                      Business Unit  \\\n",
       "0        A01-A04      Central Office  Corporate Strategy and Peformance   \n",
       "1        AO5-AO7      Central Office  Corporate Strategy and Peformance   \n",
       "2            NaN      Central Office               Education Queensland   \n",
       "3        Primary  Central Queensland                                NaN   \n",
       "4            NaN          South East                                NaN   \n",
       "\n",
       "     Employment Status  ...  Kept informed  Wellness programs  \\\n",
       "0  Permanent Full-time  ...              N                  N   \n",
       "1  Permanent Full-time  ...              N                  N   \n",
       "2  Permanent Full-time  ...              N                  N   \n",
       "3  Permanent Full-time  ...              A                  N   \n",
       "4  Permanent Full-time  ...              N                  A   \n",
       "\n",
       "   Health & Safety  Gender          Age  Aboriginal  Torres Strait  South Sea  \\\n",
       "0                N    Male        56-60         NaN            NaN        NaN   \n",
       "1                N    Male        56-60         NaN            NaN        NaN   \n",
       "2                N    Male  61 or older         NaN            NaN        NaN   \n",
       "3                A  Female        36-40         NaN            NaN        NaN   \n",
       "4                M  Female  61 or older         NaN            NaN        NaN   \n",
       "\n",
       "   Disability  NESB  \n",
       "0         NaN   Yes  \n",
       "1         NaN   NaN  \n",
       "2         NaN   NaN  \n",
       "3         NaN   NaN  \n",
       "4         NaN   NaN  \n",
       "\n",
       "[5 rows x 56 columns]"
      ]
     },
     "execution_count": 1,
     "metadata": {},
     "output_type": "execute_result"
    }
   ],
   "source": [
    "import pandas as pd\n",
    "import numpy as np\n",
    "\n",
    "dete_survey = pd.read_csv('http://opendata.dete.qld.gov.au/human-resources/dete-exit-survey-january-2014.csv', na_values = 'Not Stated')\n",
    "tafe_survey = pd.read_csv('http://opendata.dete.qld.gov.au/human-resources/tafe-employee-exit-survey-access-database-december-2013.csv', encoding = \"cp1252\")\n",
    "\n",
    "#dete_survey.isnull().sum()\n",
    "#tafe_survey.isnull().sum()\n",
    "\n",
    "dete_survey.head(5)"
   ]
  },
  {
   "cell_type": "markdown",
   "metadata": {},
   "source": [
    "As we can see:\n",
    "\n",
    "-The dete_survey dataframe contains 'Not Stated' values that indicate values are missing, but they aren't represented as NaN.\n",
    "\n",
    "-Both the dete_survey and tafe_survey dataframes contain many columns that we don't need to complete our analysis.\n",
    "\n",
    "-Each dataframe contains many of the same columns, but the column names are different.\n",
    "\n",
    "-There are multiple columns/answers that indicate an employee resigned because they were dissatisfied.\n",
    "....\n",
    "Let's drop some columns from each dataframe that we won't use in our analysis to make the dataframes easier to work with.\n"
   ]
  },
  {
   "cell_type": "code",
   "execution_count": 2,
   "metadata": {},
   "outputs": [
    {
     "data": {
      "text/plain": [
       "Index(['Record ID', 'Institute', 'WorkArea', 'CESSATION YEAR',\n",
       "       'Reason for ceasing employment',\n",
       "       'Contributing Factors. Career Move - Public Sector ',\n",
       "       'Contributing Factors. Career Move - Private Sector ',\n",
       "       'Contributing Factors. Career Move - Self-employment',\n",
       "       'Contributing Factors. Ill Health',\n",
       "       'Contributing Factors. Maternity/Family',\n",
       "       'Contributing Factors. Dissatisfaction',\n",
       "       'Contributing Factors. Job Dissatisfaction',\n",
       "       'Contributing Factors. Interpersonal Conflict',\n",
       "       'Contributing Factors. Study', 'Contributing Factors. Travel',\n",
       "       'Contributing Factors. Other', 'Contributing Factors. NONE',\n",
       "       'Gender.     What is your Gender?', 'CurrentAge.     Current Age',\n",
       "       'Employment Type.     Employment Type',\n",
       "       'Classification.     Classification',\n",
       "       'LengthofServiceOverall. Overall Length of Service at Institute (in years)',\n",
       "       'LengthofServiceCurrent. Length of Service at current workplace (in years)'],\n",
       "      dtype='object')"
      ]
     },
     "execution_count": 2,
     "metadata": {},
     "output_type": "execute_result"
    }
   ],
   "source": [
    "dete_survey_updated = dete_survey.drop(dete_survey.columns[28:49], axis = 1)\n",
    "tafe_survey_updated = tafe_survey.drop(tafe_survey.columns[17:66], axis = 1)\n",
    "\n",
    "#Check colun names:\n",
    "dete_survey_updated.columns\n",
    "tafe_survey_updated.columns"
   ]
  },
  {
   "cell_type": "markdown",
   "metadata": {},
   "source": [
    "Next, let's turn our attention to the column names. Each dataframe contains many of the same columns"
   ]
  },
  {
   "cell_type": "code",
   "execution_count": 3,
   "metadata": {},
   "outputs": [],
   "source": [
    "dete_survey_updated.columns = (\n",
    "    dete_survey_updated.columns\n",
    "    .str.replace(' ', '_')\n",
    "    .str.replace('\\s+', ' ')\n",
    "    .str.strip()\n",
    "    .str.lower()\n",
    "    )\n",
    "\n",
    "tafe_survey_updated = (\n",
    "    tafe_survey_updated.rename(columns = {\n",
    "        'Record ID' : 'id',\n",
    "        'Reason for ceasing employment': 'separationtype',\n",
    "        tafe_survey_updated.columns[17]: 'gender',\n",
    "        tafe_survey_updated.columns[18]: 'age',\n",
    "        'CESSATION YEAR': 'cease_date',\n",
    "        tafe_survey_updated.columns[19]: 'employment_status',\n",
    "        tafe_survey_updated.columns[20]: 'position',\n",
    "        tafe_survey_updated.columns[21]: 'institute_service',\n",
    "        tafe_survey_updated.columns[22]: 'role_service'})\n",
    ")\n"
   ]
  },
  {
   "cell_type": "markdown",
   "metadata": {},
   "source": [
    "Next, let's remove more of the data we don't need."
   ]
  },
  {
   "cell_type": "code",
   "execution_count": 4,
   "metadata": {},
   "outputs": [
    {
     "name": "stdout",
     "output_type": "stream",
     "text": [
      "Resignation-Other reasons               150\n",
      "Resignation-Other employer               91\n",
      "Resignation-Move overseas/interstate     70\n",
      "Name: separationtype, dtype: int64\n",
      ".......\n",
      "Resignation                 340\n",
      "Contract Expired            127\n",
      "Retrenchment/ Redundancy    104\n",
      "Retirement                   82\n",
      "Transfer                     25\n",
      "Termination                  23\n",
      "Name: separationtype, dtype: int64\n"
     ]
    }
   ],
   "source": [
    "dete_survey_updated['separationtype'].value_counts()\n",
    "resignation = (\n",
    "    (dete_survey_updated['separationtype'] == 'Resignation-Other employer') |\n",
    "    (dete_survey_updated['separationtype'] == 'Resignation-Other reasons') |\n",
    "    (dete_survey_updated['separationtype'] == 'Resignation-Move overseas/interstate')\n",
    "               )\n",
    "\n",
    "dete_resignations = dete_survey_updated.loc[resignation,:].copy()\n",
    "\n",
    "tafe_survey_updated['separationtype'].value_counts()\n",
    "tafe_resignations = tafe_survey_updated.loc[tafe_survey_updated['separationtype'] == 'Resignation',:].copy()\n",
    "\n",
    "print(dete_resignations['separationtype'].value_counts())\n",
    "print(\".......\")\n",
    "print(tafe_survey_updated['separationtype'].value_counts())"
   ]
  },
  {
   "cell_type": "markdown",
   "metadata": {
    "collapsed": true
   },
   "source": [
    "In this step, we'll focus on verifying that the years in the cease_date and dete_start_date columns make sense."
   ]
  },
  {
   "cell_type": "code",
   "execution_count": 5,
   "metadata": {},
   "outputs": [
    {
     "data": {
      "text/plain": [
       "2013.0    146\n",
       "2012.0    129\n",
       "2014.0     22\n",
       "2010.0      2\n",
       "2006.0      1\n",
       "Name: cease_date, dtype: int64"
      ]
     },
     "execution_count": 5,
     "metadata": {},
     "output_type": "execute_result"
    }
   ],
   "source": [
    "#dete_resignations['cease_date'].value_counts()\n",
    "dete_resignations['cease_date'] = dete_resignations['cease_date'].str[-4:].astype('float')\n",
    "dete_resignations['cease_date'].value_counts()"
   ]
  },
  {
   "cell_type": "code",
   "execution_count": 6,
   "metadata": {},
   "outputs": [
    {
     "data": {
      "text/plain": [
       "1963.0     1\n",
       "1971.0     1\n",
       "1972.0     1\n",
       "1973.0     1\n",
       "1974.0     2\n",
       "1975.0     1\n",
       "1976.0     2\n",
       "1977.0     1\n",
       "1980.0     5\n",
       "1982.0     1\n",
       "1983.0     2\n",
       "1984.0     1\n",
       "1985.0     3\n",
       "1986.0     3\n",
       "1987.0     1\n",
       "1988.0     4\n",
       "1989.0     4\n",
       "1990.0     5\n",
       "1991.0     4\n",
       "1992.0     6\n",
       "1993.0     5\n",
       "1994.0     6\n",
       "1995.0     4\n",
       "1996.0     6\n",
       "1997.0     5\n",
       "1998.0     6\n",
       "1999.0     8\n",
       "2000.0     9\n",
       "2001.0     3\n",
       "2002.0     6\n",
       "2003.0     6\n",
       "2004.0    14\n",
       "2005.0    15\n",
       "2006.0    13\n",
       "2007.0    21\n",
       "2008.0    22\n",
       "2009.0    13\n",
       "2010.0    17\n",
       "2011.0    24\n",
       "2012.0    21\n",
       "2013.0    10\n",
       "Name: dete_start_date, dtype: int64"
      ]
     },
     "execution_count": 6,
     "metadata": {},
     "output_type": "execute_result"
    }
   ],
   "source": [
    "tafe_resignations['cease_date'].value_counts().sort_index()\n",
    "dete_resignations['dete_start_date'].value_counts().sort_index()"
   ]
  },
  {
   "cell_type": "markdown",
   "metadata": {},
   "source": [
    "Now that we've verified the years in the dete_resignations dataframe, we'll use them to create a new column. Recall that our end goal is to answer the following question:\n",
    "\n",
    "Are employees who have only worked for the institutes for a short period of time resigning due to some kind of dissatisfaction? What about employees who have been at the job longer?\n",
    "\n",
    "Now let's count duration of work in dete_resignations"
   ]
  },
  {
   "cell_type": "code",
   "execution_count": 7,
   "metadata": {},
   "outputs": [
    {
     "data": {
      "text/plain": [
       "Less than 1 year      73\n",
       "1-2                   64\n",
       "3-4                   63\n",
       "NaN                   50\n",
       "5-6                   33\n",
       "11-20                 26\n",
       "7-10                  21\n",
       "More than 20 years    10\n",
       "Name: institute_service, dtype: int64"
      ]
     },
     "execution_count": 7,
     "metadata": {},
     "output_type": "execute_result"
    }
   ],
   "source": [
    "tafe_resignations.head(5)\n",
    "dete_resignations['institute_service'] = dete_resignations['cease_date'] - dete_resignations['dete_start_date'] \n",
    "tafe_resignations['institute_service'].value_counts(dropna= False)\n",
    "# dete_resignations.head(5)"
   ]
  },
  {
   "cell_type": "markdown",
   "metadata": {},
   "source": [
    "Next, we'll identify any employees who resigned because they were dissatisfied.\n",
    "First, let's make True/False state in tafe_resignations"
   ]
  },
  {
   "cell_type": "code",
   "execution_count": 8,
   "metadata": {},
   "outputs": [],
   "source": [
    "tafe_resignations[['Contributing Factors. Job Dissatisfaction', 'Contributing Factors. Dissatisfaction']].head(34)\n",
    "\n",
    "def update_val(val):\n",
    "    if pd.isnull(val):\n",
    "        val = np.nan\n",
    "    elif val == '-':\n",
    "        val = False\n",
    "    else:\n",
    "        val = True\n",
    "    return val    \n",
    "\n",
    "\n",
    "tafe_resignations[['Contributing Factors. Job Dissatisfaction', 'Contributing Factors. Dissatisfaction']] = tafe_resignations[['Contributing Factors. Job Dissatisfaction', 'Contributing Factors. Dissatisfaction']].applymap(update_val)"
   ]
  },
  {
   "cell_type": "markdown",
   "metadata": {},
   "source": [
    "Second, we'll create a 'dissatisfied' column in BOTH the tafe_resignations and dete_resignations dataframes."
   ]
  },
  {
   "cell_type": "code",
   "execution_count": 9,
   "metadata": {},
   "outputs": [
    {
     "data": {
      "text/html": [
       "<div>\n",
       "<style scoped>\n",
       "    .dataframe tbody tr th:only-of-type {\n",
       "        vertical-align: middle;\n",
       "    }\n",
       "\n",
       "    .dataframe tbody tr th {\n",
       "        vertical-align: top;\n",
       "    }\n",
       "\n",
       "    .dataframe thead th {\n",
       "        text-align: right;\n",
       "    }\n",
       "</style>\n",
       "<table border=\"1\" class=\"dataframe\">\n",
       "  <thead>\n",
       "    <tr style=\"text-align: right;\">\n",
       "      <th></th>\n",
       "      <th>id</th>\n",
       "      <th>Institute</th>\n",
       "      <th>WorkArea</th>\n",
       "      <th>cease_date</th>\n",
       "      <th>separationtype</th>\n",
       "      <th>Contributing Factors. Career Move - Public Sector</th>\n",
       "      <th>Contributing Factors. Career Move - Private Sector</th>\n",
       "      <th>Contributing Factors. Career Move - Self-employment</th>\n",
       "      <th>Contributing Factors. Ill Health</th>\n",
       "      <th>Contributing Factors. Maternity/Family</th>\n",
       "      <th>...</th>\n",
       "      <th>Contributing Factors. Travel</th>\n",
       "      <th>Contributing Factors. Other</th>\n",
       "      <th>Contributing Factors. NONE</th>\n",
       "      <th>gender</th>\n",
       "      <th>age</th>\n",
       "      <th>employment_status</th>\n",
       "      <th>position</th>\n",
       "      <th>institute_service</th>\n",
       "      <th>role_service</th>\n",
       "      <th>dissatisfied</th>\n",
       "    </tr>\n",
       "  </thead>\n",
       "  <tbody>\n",
       "    <tr>\n",
       "      <th>3</th>\n",
       "      <td>634139903350000000</td>\n",
       "      <td>Mount Isa Institute of TAFE</td>\n",
       "      <td>Non-Delivery (corporate)</td>\n",
       "      <td>2010.0</td>\n",
       "      <td>Resignation</td>\n",
       "      <td>-</td>\n",
       "      <td>-</td>\n",
       "      <td>-</td>\n",
       "      <td>-</td>\n",
       "      <td>-</td>\n",
       "      <td>...</td>\n",
       "      <td>Travel</td>\n",
       "      <td>-</td>\n",
       "      <td>-</td>\n",
       "      <td>NaN</td>\n",
       "      <td>NaN</td>\n",
       "      <td>NaN</td>\n",
       "      <td>NaN</td>\n",
       "      <td>NaN</td>\n",
       "      <td>NaN</td>\n",
       "      <td>False</td>\n",
       "    </tr>\n",
       "    <tr>\n",
       "      <th>4</th>\n",
       "      <td>634146578511788000</td>\n",
       "      <td>Southern Queensland Institute of TAFE</td>\n",
       "      <td>Delivery (teaching)</td>\n",
       "      <td>2010.0</td>\n",
       "      <td>Resignation</td>\n",
       "      <td>-</td>\n",
       "      <td>Career Move - Private Sector</td>\n",
       "      <td>-</td>\n",
       "      <td>-</td>\n",
       "      <td>-</td>\n",
       "      <td>...</td>\n",
       "      <td>-</td>\n",
       "      <td>-</td>\n",
       "      <td>-</td>\n",
       "      <td>Male</td>\n",
       "      <td>41 – 45</td>\n",
       "      <td>Permanent Full-time</td>\n",
       "      <td>Teacher (including LVT)</td>\n",
       "      <td>3-4</td>\n",
       "      <td>3-4</td>\n",
       "      <td>False</td>\n",
       "    </tr>\n",
       "  </tbody>\n",
       "</table>\n",
       "<p>2 rows × 24 columns</p>\n",
       "</div>"
      ],
      "text/plain": [
       "                   id                              Institute  \\\n",
       "3  634139903350000000            Mount Isa Institute of TAFE   \n",
       "4  634146578511788000  Southern Queensland Institute of TAFE   \n",
       "\n",
       "                   WorkArea  cease_date separationtype  \\\n",
       "3  Non-Delivery (corporate)      2010.0    Resignation   \n",
       "4       Delivery (teaching)      2010.0    Resignation   \n",
       "\n",
       "  Contributing Factors. Career Move - Public Sector   \\\n",
       "3                                                  -   \n",
       "4                                                  -   \n",
       "\n",
       "  Contributing Factors. Career Move - Private Sector   \\\n",
       "3                                                  -    \n",
       "4                       Career Move - Private Sector    \n",
       "\n",
       "  Contributing Factors. Career Move - Self-employment  \\\n",
       "3                                                  -    \n",
       "4                                                  -    \n",
       "\n",
       "  Contributing Factors. Ill Health Contributing Factors. Maternity/Family  \\\n",
       "3                                -                                      -   \n",
       "4                                -                                      -   \n",
       "\n",
       "   ... Contributing Factors. Travel Contributing Factors. Other  \\\n",
       "3  ...                       Travel                           -   \n",
       "4  ...                            -                           -   \n",
       "\n",
       "  Contributing Factors. NONE gender      age    employment_status  \\\n",
       "3                          -    NaN      NaN                  NaN   \n",
       "4                          -   Male  41 – 45  Permanent Full-time   \n",
       "\n",
       "                  position institute_service role_service dissatisfied  \n",
       "3                      NaN               NaN          NaN        False  \n",
       "4  Teacher (including LVT)               3-4          3-4        False  \n",
       "\n",
       "[2 rows x 24 columns]"
      ]
     },
     "execution_count": 9,
     "metadata": {},
     "output_type": "execute_result"
    }
   ],
   "source": [
    "tafe_resignations['dissatisfied'] = tafe_resignations[['Contributing Factors. Dissatisfaction','Contributing Factors. Job Dissatisfaction']].any(axis=1, skipna=False)\n",
    "tafe_resignations_up = tafe_resignations.copy()\n",
    "tafe_resignations.head(2)\n",
    "\n",
    "#defe_resignations['dissatisfied'] = date_resignationsp[].any()"
   ]
  },
  {
   "cell_type": "code",
   "execution_count": 10,
   "metadata": {},
   "outputs": [],
   "source": [
    "dete_resignations['dissatisfied'] = dete_resignations[\n",
    "    ['job_dissatisfaction',\n",
    "     'dissatisfaction_with_the_department',\n",
    "     'physical_work_environment',\n",
    "     'lack_of_recognition',\n",
    "     'lack_of_job_security',\n",
    "     'work_location',\n",
    "     'employment_conditions',\n",
    "     'work_life_balance',\n",
    "     'workload']].any(axis=1, skipna=False)\n",
    "\n",
    "dete_resignations_up = dete_resignations.copy()"
   ]
  },
  {
   "cell_type": "markdown",
   "metadata": {},
   "source": [
    "Our end goal is to aggregate the data according to the institute_service column/\n",
    "First, let's add a column to each dataframe that will allow us to easily distinguish between the two. Second, we'll take only columns we really need in analysis ('age', 'institute', 'dissatisfied', 'institute_service')\n",
    "Third, Combine the dataframes. \n"
   ]
  },
  {
   "cell_type": "code",
   "execution_count": 11,
   "metadata": {},
   "outputs": [
    {
     "name": "stdout",
     "output_type": "stream",
     "text": [
      "NaN     38\n",
      "5.0     23\n",
      "1.0     22\n",
      "3.0     20\n",
      "0.0     20\n",
      "6.0     17\n",
      "4.0     16\n",
      "9.0     14\n",
      "2.0     14\n",
      "7.0     13\n",
      "13.0     8\n",
      "8.0      8\n",
      "20.0     7\n",
      "15.0     7\n",
      "12.0     6\n",
      "22.0     6\n",
      "17.0     6\n",
      "10.0     6\n",
      "14.0     6\n",
      "16.0     5\n",
      "18.0     5\n",
      "24.0     4\n",
      "23.0     4\n",
      "11.0     4\n",
      "39.0     3\n",
      "32.0     3\n",
      "19.0     3\n",
      "21.0     3\n",
      "36.0     2\n",
      "30.0     2\n",
      "25.0     2\n",
      "28.0     2\n",
      "26.0     2\n",
      "29.0     1\n",
      "42.0     1\n",
      "38.0     1\n",
      "27.0     1\n",
      "41.0     1\n",
      "35.0     1\n",
      "49.0     1\n",
      "34.0     1\n",
      "33.0     1\n",
      "31.0     1\n",
      "Name: institute_service, dtype: int64\n",
      "--------\n",
      "Less than 1 year      73\n",
      "1-2                   64\n",
      "3-4                   63\n",
      "NaN                   50\n",
      "5-6                   33\n",
      "11-20                 26\n",
      "7-10                  21\n",
      "More than 20 years    10\n",
      "Name: institute_service, dtype: int64\n"
     ]
    }
   ],
   "source": [
    "#print(dete_resignations_up.columns)\n",
    "#print('.......')\n",
    "#print(tafe_resignations_up.columns)\n",
    "\n",
    "print(dete_resignations_up['institute_service'].value_counts(dropna = False))\n",
    "print('--------')\n",
    "print(tafe_resignations_up['institute_service'].value_counts(dropna = False))"
   ]
  },
  {
   "cell_type": "code",
   "execution_count": 12,
   "metadata": {},
   "outputs": [],
   "source": [
    "dete_resignations_up['institute'] = 'DETE'\n",
    "tafe_resignations_up['institute'] = 'TAFE'\n",
    "\n",
    "\n",
    "dete_resignations_an = dete_resignations_up.copy()\n",
    "tafe_resignations_an = tafe_resignations_up.copy()\n",
    "\n",
    "tafe_resignations_an.head(3)\n",
    "\n",
    "dete_resignations_an = dete_resignations_an[['age', 'institute', 'dissatisfied', 'institute_service']]\n",
    "tafe_resignations_an = tafe_resignations_an[['age', 'institute', 'dissatisfied', 'institute_service']]\n",
    "\n",
    "combined = pd.concat([dete_resignations_an,tafe_resignations_an], axis =0)\n",
    "\n",
    "# combined['institute_service'].value_counts(dropna = False)\n",
    "#combined.head(45)\n",
    "# combined = pd.concat([dete_resignations_up, tafe_resignations_up], axis = 1)\n",
    "combined_updated = combined.dropna(thresh = 500, axis = 1)\n",
    "# combined.info\n",
    "#combined['institute'].value_counts()"
   ]
  },
  {
   "cell_type": "markdown",
   "metadata": {},
   "source": [
    "We'll use the slightly modified definitions below:\n",
    "\n",
    "New: Less than 3 years at a company\n",
    "Experienced: 3-6 years at a company\n",
    "Established: 7-10 years at a company\n",
    "Veteran: 11 or more years at a company\n",
    "Let's categorize the values in the institute_service column using the definitions above."
   ]
  },
  {
   "cell_type": "code",
   "execution_count": 13,
   "metadata": {},
   "outputs": [
    {
     "name": "stdout",
     "output_type": "stream",
     "text": [
      "0.0     20\n",
      "1.0     95\n",
      "2.0     78\n",
      "3.0     20\n",
      "4.0     79\n",
      "5.0     23\n",
      "6.0     50\n",
      "7.0     13\n",
      "8.0      8\n",
      "9.0     14\n",
      "10.0    27\n",
      "11.0     4\n",
      "12.0     6\n",
      "13.0     8\n",
      "14.0     6\n",
      "15.0    33\n",
      "16.0     5\n",
      "17.0     6\n",
      "18.0     5\n",
      "19.0     3\n",
      "20.0    17\n",
      "21.0     3\n",
      "22.0     6\n",
      "23.0     4\n",
      "24.0     4\n",
      "25.0     2\n",
      "26.0     2\n",
      "27.0     1\n",
      "28.0     2\n",
      "29.0     1\n",
      "30.0     2\n",
      "31.0     1\n",
      "32.0     3\n",
      "33.0     1\n",
      "34.0     1\n",
      "35.0     1\n",
      "36.0     2\n",
      "38.0     1\n",
      "39.0     3\n",
      "41.0     1\n",
      "42.0     1\n",
      "49.0     1\n",
      "NaN     88\n",
      "Name: institute_service, dtype: int64\n",
      ".......\n"
     ]
    },
    {
     "data": {
      "text/plain": [
       "51-55            71\n",
       "nan              55\n",
       "41-45            48\n",
       "41 – 45          45\n",
       "46-50            42\n",
       "36-40            41\n",
       "46 – 50          39\n",
       "26-30            35\n",
       "21 – 25          33\n",
       "36 – 40          32\n",
       "26 – 30          32\n",
       "31 – 35          32\n",
       "31-35            29\n",
       "21-25            29\n",
       "56 or older      29\n",
       "56-60            26\n",
       "61 or older      23\n",
       "20 or younger    10\n",
       "Name: age, dtype: int64"
      ]
     },
     "execution_count": 13,
     "metadata": {},
     "output_type": "execute_result"
    }
   ],
   "source": [
    "combined['institute_service'] = combined['institute_service'].astype('str')\n",
    "\n",
    "# new = r'Less than 1 year'\n",
    "# experienced = 1\n",
    "# established = 2\n",
    "# veteran = 3\n",
    "\n",
    "combined['institute_service'] = (combined['institute_service']\n",
    "                                 .str.replace('Less than 1 year', '1')\n",
    "                                 .str.replace('3-4','4')\n",
    "                                 .str.replace('5-6','6')\n",
    "                                 .str.replace('11-20','15')\n",
    "                                 .str.replace('7-10','10')\n",
    "                                 .str.replace('More than 20 years','20')\n",
    "                                 .str.replace('1-2','2')\n",
    "                                )\n",
    "    \n",
    "combined['institute_service'] = combined['institute_service'].astype('float')\n",
    "print(combined['institute_service'].value_counts(dropna = False,).sort_index())\n",
    "print(\".......\")\n",
    "\n",
    "combined['age'] = combined['age'].astype('str')\n",
    "# combined['age'].str.replace('-','...')\n",
    "combined['age'].value_counts()\n",
    "\n"
   ]
  },
  {
   "cell_type": "markdown",
   "metadata": {},
   "source": [
    "Lets do the same with \"age\" column (Notice '–' and '-' difference! ):"
   ]
  },
  {
   "cell_type": "code",
   "execution_count": 20,
   "metadata": {},
   "outputs": [
    {
     "name": "stdout",
     "output_type": "stream",
     "text": [
      "20.0    10\n",
      "25.0    62\n",
      "30.0    67\n",
      "35.0    61\n",
      "40.0    73\n",
      "45.0    93\n",
      "50.0    81\n",
      "55.0    71\n",
      "60.0    78\n",
      "NaN     55\n",
      "Name: age, dtype: int64\n"
     ]
    }
   ],
   "source": [
    "# #'Gender. \\xa0\\xa0\\xa0\\xa0What is your Gender?'\n",
    "combined['age'] = (combined['age']\n",
    "                                 .str.replace('20 or younger', '20')\n",
    "                                 .str.replace('21 – 25','25')\n",
    "                                 .str.replace('21-25','25')\n",
    "                                 .str.replace('26 – 30','30')\n",
    "                                 .str.replace('26-30','30')\n",
    "                                 .str.replace('31 – 35','35')\n",
    "                                 .str.replace('31-35','35')\n",
    "                                 .str.replace('36 – 40','40')\n",
    "                                 .str.replace('36-40','40')\n",
    "                                 .str.replace('41 – 45','45')\n",
    "                                 .str.replace('41-45','45')\n",
    "                                 .str.replace('46 – 50','50')\n",
    "                                 .str.replace('46-50','50')\n",
    "                                 .str.replace('51-55','55')\n",
    "                                 .str.replace('56 or older','60')\n",
    "                                 .str.replace('56-60','60')\n",
    "                                 .str.replace('61 or older','60')\n",
    "                   \n",
    "                   \n",
    "                   \n",
    "                   \n",
    "#                                   .str.replace('5-6','6')\n",
    "#                                  .str.replace('11-20','15')\n",
    "#                                  .str.replace('7-10','10')\n",
    "#                                  .str.replace('More than 20 years','20')\n",
    "#                                  .str.replace('1-2','2')\n",
    "                                )\n",
    "    \n",
    "combined['age'].value_counts()    \n",
    "combined['age'] = combined['age'].astype('float')\n",
    "print(combined['age'].value_counts(dropna = False,).sort_index())"
   ]
  },
  {
   "cell_type": "markdown",
   "metadata": {},
   "source": [
    "Next, we'll map each value to one of the career stage definitions above.\n"
   ]
  },
  {
   "cell_type": "code",
   "execution_count": 21,
   "metadata": {},
   "outputs": [
    {
     "name": "stdout",
     "output_type": "stream",
     "text": [
      "1.New            193\n",
      "2.Experienced    172\n",
      "4.Veteran        136\n",
      "NaN               88\n",
      "3.Established     62\n",
      "Name: service_cat, dtype: int64\n",
      ".....\n",
      "45.0    93\n",
      "50.0    81\n",
      "60.0    78\n",
      "40.0    73\n",
      "55.0    71\n",
      "30.0    67\n",
      "25.0    62\n",
      "35.0    61\n",
      "20.0    10\n",
      "Name: age, dtype: int64\n"
     ]
    }
   ],
   "source": [
    "def stages(val):\n",
    "    if pd.isnull(val):\n",
    "        val = np.nan\n",
    "    elif val < 3:\n",
    "        val = '1.New'\n",
    "    elif 3 <= val <= 6:\n",
    "            val = '2.Experienced'\n",
    "    elif 7 <= val <= 10:\n",
    "            val = '3.Established'\n",
    "    else:\n",
    "        val = '4.Veteran'\n",
    "        \n",
    "    return val    \n",
    "    \n",
    "combined['service_cat'] = combined['institute_service'].apply(stages)\n",
    "print(combined['service_cat'].value_counts(dropna = False))\n",
    "print('.....')\n",
    "print(combined['age'].value_counts())"
   ]
  },
  {
   "cell_type": "markdown",
   "metadata": {},
   "source": [
    "Now, let's finally do our first piece of analysis!"
   ]
  },
  {
   "cell_type": "code",
   "execution_count": 24,
   "metadata": {},
   "outputs": [
    {
     "name": "stdout",
     "output_type": "stream",
     "text": [
      "False    411\n",
      "True     240\n",
      "Name: dissatisfied, dtype: int64\n",
      "               dissatisfied\n",
      "service_cat                \n",
      "1.New              0.295337\n",
      "2.Experienced      0.343023\n",
      "3.Established      0.516129\n",
      "4.Veteran          0.485294\n"
     ]
    },
    {
     "data": {
      "text/plain": [
       "<matplotlib.axes._subplots.AxesSubplot at 0x1652d3179b0>"
      ]
     },
     "execution_count": 24,
     "metadata": {},
     "output_type": "execute_result"
    },
    {
     "data": {
      "image/png": "[encoded data removed]",
      "text/plain": [
       "<Figure size 432x288 with 1 Axes>"
      ]
     },
     "metadata": {
      "needs_background": "light"
     },
     "output_type": "display_data"
    }
   ],
   "source": [
    "#combined['dissatisfied'].value_counts(dropna= False)\n",
    "%matplotlib inline\n",
    "combined['dissatisfied'] = combined['dissatisfied'].fillna(value = False)\n",
    "print(combined['dissatisfied'].value_counts(dropna= False))\n",
    "\n",
    "pivot_service = combined.pivot_table(values= 'dissatisfied' , index = 'service_cat' )     \n",
    "pivot_service = pivot_service.sort_index(ascending = True)\n",
    "\n",
    "print(pivot_service)\n",
    "\n",
    "pivot_service.plot(kind = 'bar')"
   ]
  },
  {
   "cell_type": "code",
   "execution_count": 25,
   "metadata": {},
   "outputs": [
    {
     "name": "stdout",
     "output_type": "stream",
     "text": [
      "      dissatisfied\n",
      "age               \n",
      "20.0      0.200000\n",
      "25.0      0.306452\n",
      "30.0      0.417910\n",
      "35.0      0.377049\n",
      "40.0      0.342466\n",
      "45.0      0.376344\n",
      "50.0      0.382716\n",
      "55.0      0.422535\n",
      "60.0      0.423077\n"
     ]
    },
    {
     "data": {
      "text/plain": [
       "<matplotlib.axes._subplots.AxesSubplot at 0x1652da8b198>"
      ]
     },
     "execution_count": 25,
     "metadata": {},
     "output_type": "execute_result"
    },
    {
     "data": {
      "image/png": "[encoded data removed]",
      "text/plain": [
       "<Figure size 432x288 with 1 Axes>"
      ]
     },
     "metadata": {
      "needs_background": "light"
     },
     "output_type": "display_data"
    }
   ],
   "source": [
    "pivot_age = combined.pivot_table(values= 'dissatisfied' , index = 'age' )     \n",
    "pivot_age = pivot_age.sort_index(ascending = True)\n",
    "print(pivot_age)\n",
    "pivot_age.plot(kind = 'bar')"
   ]
  },
  {
   "cell_type": "markdown",
   "metadata": {},
   "source": [
    "Looks like we've done. \n",
    "Employees who only worked for the institutes for a short period of time resigning due to some other reasons. About half of establshed and veterans resigning due to some kind of dissatisfaction. Young  employees resigning due to some other reasons"
   ]
  }
 ],
 "metadata": {
  "kernelspec": {
   "display_name": "Python 3",
   "language": "python",
   "name": "python3"
  },
  "language_info": {
   "codemirror_mode": {
    "name": "ipython",
    "version": 3
   },
   "file_extension": ".py",
   "mimetype": "text/x-python",
   "name": "python",
   "nbconvert_exporter": "python",
   "pygments_lexer": "ipython3",
   "version": "3.7.3"
  }
 },
 "nbformat": 4,
 "nbformat_minor": 2
}
